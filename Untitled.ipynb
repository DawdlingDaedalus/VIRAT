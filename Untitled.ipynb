{
 "cells": [
  {
   "cell_type": "markdown",
   "id": "78a060c4",
   "metadata": {},
   "source": [
    "# VIRAT\n",
    "## Dataset of surveillance footage from DARPA"
   ]
  },
  {
   "cell_type": "markdown",
   "id": "9a27c7c2",
   "metadata": {},
   "source": [
    "Annotations files include three types of annotations per clip\n",
    "1) Event file (selected events annotated)\n",
    "2) Mapping file (from event to object)\n",
    "3) Object file (all objects annotated)"
   ]
  },
  {
   "cell_type": "markdown",
   "id": "24a729ef",
   "metadata": {},
   "source": [
    "1) Event file format\n",
    "\n",
    "Files are named as '%s.viratdata.events.txt' where %s is clip id.\n",
    "Each line in event file captures information about a bounding box of an event at the corresponding frame\n",
    "\n",
    "Event File Columns \n",
    "1. event ID        (unique identifier per event within a clip, same eid can exist on different clips)\n",
    "2. event type      (event type)\n",
    "3. duration        (event duration in frames)\n",
    "4. start frame     (start frame of the event)\n",
    "5. end frame       (end frame of the event)\n",
    "6. current frame   (current frame number)\n",
    "7. bbox lefttop x  (horizontal x coordinate of left top of bbox, origin is lefttop of the frame)\n",
    "8. bbox lefttop y  (vertical y coordinate of left top of bbox, origin is lefttop of the frame)\n",
    "9. bbox width      (horizontal width of the bbox)\n",
    "10. bbox height    (vertical height of the bbox)\n",
    "\n",
    "Event Type ID (for column 2 above)\n",
    "1. Person loading an Object to a Vehicle\n",
    "2. Person Unloading an Object from a Car/Vehicle\n",
    "3. Person Opening a Vehicle/Car Trunk\n",
    "4. Person Closing a Vehicle/Car Trunk\n",
    "5. Person getting into a Vehicle\n",
    "6. Person getting out of a Vehicle\n",
    "7. Person gesturing\n",
    "8. Person digging\n",
    "9. Person carrying an object\n",
    "10. Person running\n",
    "11. Person entering a facility\n",
    "12. Person exiting a facility"
   ]
  },
  {
   "cell_type": "code",
   "execution_count": 3,
   "id": "0c5771a3",
   "metadata": {},
   "outputs": [],
   "source": [
    "event_columns = ['Event_ID', 'Event_Type', 'Duration', 'Start_Frame',\n",
    "                 'End_Frame', 'Current_Frame', 'bbox_lefttop_x', 'bbox_lefttop_y',\n",
    "                 'bbox_width', 'bbox_height']"
   ]
  },
  {
   "cell_type": "markdown",
   "id": "d5e6fc26",
   "metadata": {},
   "source": [
    "2) Object file format\n",
    "\n",
    "Files are named as '%s.viratdata.objects.txt'\n",
    "Each line captures informabiont about a bounding box of an object (person/car etc) at the corresponding frame.\n",
    "Each object track is assigned a unique 'object id' identifier. \n",
    "Note that:\n",
    "- an object may be moving or static (e.g., parked car).\n",
    "- an object track may be fragmented into multiple tracks.\n",
    "\n",
    "Object File Columns\n",
    "1. Object id        (a unique identifier of an object track. Unique within a file.)\n",
    "2. Object duration  (duration of the object track)\n",
    "3. Current frame    (corresponding frame number)\n",
    "4. bbox lefttop x   (horizontal x coordinate of the left top of bbox, origin is lefttop of the frame)\n",
    "5. bbox lefttop y   (vertical y coordinate of the left top of bbox, origin is lefttop of the frame)\n",
    "6. bbox width       (horizontal width of the bbox)\n",
    "7. bbox height      (vertical height of the bbox)\n",
    "8. Objct Type       (object type)\n",
    "\n",
    "Object Type ID (for column 8 above for object files)\n",
    "1. person\n",
    "2. car              (usually passenger vehicles such as sedan, truck)\n",
    "3. vehicles         (vehicles other than usual passenger cars. Examples include construction vehicles)\n",
    "4. object           (neither car or person, usually carried objects)\n",
    "5. bike, bicylces   (may include engine-powered auto-bikes)"
   ]
  },
  {
   "cell_type": "code",
   "execution_count": 4,
   "id": "c8ee2bee",
   "metadata": {},
   "outputs": [],
   "source": [
    "object_columns = ['Object_ID', 'Duration', 'Current_Frame', 'bbox_lefttop_x',\n",
    "                  'bbox_lefttop_y', 'bbox_width', 'bbox_height', 'Object_Type']"
   ]
  },
  {
   "cell_type": "markdown",
   "id": "55e084b8",
   "metadata": {},
   "source": [
    "3) Mapping file format\n",
    "\n",
    "Files are named as '%s.viratdata.mapping.txt'\n",
    "Each line in mapping file captures information between an event (in event file) and associated objects (in object file)\n",
    "\n",
    "Mapping File Columns\n",
    "1. event ID         (unique event ID, points to column 1 of event file)\n",
    "2. event type       (event type, points to column 2 of event file)\n",
    "3. event duration   (event duration, points to column 3 of event file)\n",
    "4. start frame      (start frame of event)\n",
    "5. end frame        (end frame of event)\n",
    "6. number of obj    (total number of associated objects)\n",
    "\n",
    "7-end.              (variable number of columns which captures the associations maps for variable number of objects in the clip. \n",
    "                     \n",
    "If '1', the event is associated with the object. Otherwise, if '0', there's none.\n",
    "                     \n",
    "The corresponding oid in object file can be found by 'column number - 7')"
   ]
  },
  {
   "cell_type": "code",
   "execution_count": null,
   "id": "263c20a3",
   "metadata": {},
   "outputs": [],
   "source": [
    "mapping_columns = ['Event_ID', 'Event_Type', 'Event_Duration', 'Start_Frame', \n",
    "                   'End_Frame', 'Num_Objects', ]"
   ]
  },
  {
   "cell_type": "code",
   "execution_count": null,
   "id": "e0188782",
   "metadata": {},
   "outputs": [],
   "source": []
  },
  {
   "cell_type": "code",
   "execution_count": null,
   "id": "5f36183f",
   "metadata": {},
   "outputs": [],
   "source": []
  },
  {
   "cell_type": "code",
   "execution_count": null,
   "id": "ac07e469",
   "metadata": {},
   "outputs": [],
   "source": []
  },
  {
   "cell_type": "code",
   "execution_count": null,
   "id": "8205e444",
   "metadata": {},
   "outputs": [],
   "source": []
  },
  {
   "cell_type": "code",
   "execution_count": null,
   "id": "e78431bd",
   "metadata": {},
   "outputs": [],
   "source": []
  },
  {
   "cell_type": "code",
   "execution_count": null,
   "id": "fd1a64b9",
   "metadata": {},
   "outputs": [],
   "source": []
  },
  {
   "cell_type": "code",
   "execution_count": null,
   "id": "81d21140",
   "metadata": {},
   "outputs": [],
   "source": []
  },
  {
   "cell_type": "code",
   "execution_count": null,
   "id": "ffd79a7c",
   "metadata": {},
   "outputs": [],
   "source": []
  },
  {
   "cell_type": "code",
   "execution_count": null,
   "id": "e26251b6",
   "metadata": {},
   "outputs": [],
   "source": []
  },
  {
   "cell_type": "code",
   "execution_count": null,
   "id": "7abde68a",
   "metadata": {},
   "outputs": [],
   "source": []
  }
 ],
 "metadata": {
  "kernelspec": {
   "display_name": "Python 3 (ipykernel)",
   "language": "python",
   "name": "python3"
  },
  "language_info": {
   "codemirror_mode": {
    "name": "ipython",
    "version": 3
   },
   "file_extension": ".py",
   "mimetype": "text/x-python",
   "name": "python",
   "nbconvert_exporter": "python",
   "pygments_lexer": "ipython3",
   "version": "3.9.16"
  }
 },
 "nbformat": 4,
 "nbformat_minor": 5
}
