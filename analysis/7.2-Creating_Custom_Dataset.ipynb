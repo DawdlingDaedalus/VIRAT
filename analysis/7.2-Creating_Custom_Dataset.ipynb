{
 "cells": [
  {
   "cell_type": "markdown",
   "id": "accabdb9",
   "metadata": {},
   "source": [
    "# Creating a Custom Dataset for training YOLOv8"
   ]
  },
  {
   "cell_type": "code",
   "execution_count": 1,
   "id": "0c1efd91",
   "metadata": {},
   "outputs": [],
   "source": [
    "import yaml\n",
    "import numpy as np\n",
    "import pandas as pd\n",
    "import os\n",
    "import cv2"
   ]
  },
  {
   "cell_type": "code",
   "execution_count": 2,
   "id": "61cd9cf2",
   "metadata": {},
   "outputs": [
    {
     "name": "stdout",
     "output_type": "stream",
     "text": [
      "open the pod bay doors, hal\n"
     ]
    }
   ],
   "source": [
    "print('open the pod bay doors, hal')"
   ]
  },
  {
   "cell_type": "markdown",
   "id": "a7ee4a99",
   "metadata": {},
   "source": [
    "### Get File Names of geom.yml and types.yml annotation files from train and validate folders\n",
    "* `diva_train_path`\n",
    "    - `train_files`\n",
    "* `diva_valid_path`\n",
    "    - `valid_files`"
   ]
  },
  {
   "cell_type": "code",
   "execution_count": 3,
   "id": "7a6d5d86",
   "metadata": {
    "scrolled": true
   },
   "outputs": [
    {
     "data": {
      "text/plain": [
       "[('VIRAT_S_000000.geom.yml', 'VIRAT_S_000000.types.yml'),\n",
       " ('VIRAT_S_000001.geom.yml', 'VIRAT_S_000001.types.yml'),\n",
       " ('VIRAT_S_000002.geom.yml', 'VIRAT_S_000002.types.yml'),\n",
       " ('VIRAT_S_000005.geom.yml', 'VIRAT_S_000005.types.yml'),\n",
       " ('VIRAT_S_000200_03_000657_000899.geom.yml',\n",
       "  'VIRAT_S_000200_03_000657_000899.types.yml'),\n",
       " ('VIRAT_S_000200_05_001525_001575.geom.yml',\n",
       "  'VIRAT_S_000200_05_001525_001575.types.yml'),\n",
       " ('VIRAT_S_000201_03_000640_000672.geom.yml',\n",
       "  'VIRAT_S_000201_03_000640_000672.types.yml'),\n",
       " ('VIRAT_S_000201_05_001081_001215.geom.yml',\n",
       "  'VIRAT_S_000201_05_001081_001215.types.yml'),\n",
       " ('VIRAT_S_000201_06_001354_001397.geom.yml',\n",
       "  'VIRAT_S_000201_06_001354_001397.types.yml'),\n",
       " ('VIRAT_S_000201_07_001485_001581.geom.yml',\n",
       "  'VIRAT_S_000201_07_001485_001581.types.yml'),\n",
       " ('VIRAT_S_000201_08_001652_001838.geom.yml',\n",
       "  'VIRAT_S_000201_08_001652_001838.types.yml'),\n",
       " ('VIRAT_S_000202_02_001527_001560.geom.yml',\n",
       "  'VIRAT_S_000202_02_001527_001560.types.yml'),\n",
       " ('VIRAT_S_000202_03_001577_001611.geom.yml',\n",
       "  'VIRAT_S_000202_03_001577_001611.types.yml'),\n",
       " ('VIRAT_S_000202_04_001704_001746.geom.yml',\n",
       "  'VIRAT_S_000202_04_001704_001746.types.yml'),\n",
       " ('VIRAT_S_000203_03_000736_000785.geom.yml',\n",
       "  'VIRAT_S_000203_03_000736_000785.types.yml'),\n",
       " ('VIRAT_S_000203_05_001122_001159.geom.yml',\n",
       "  'VIRAT_S_000203_05_001122_001159.types.yml'),\n",
       " ('VIRAT_S_000203_06_001206_001266.geom.yml',\n",
       "  'VIRAT_S_000203_06_001206_001266.types.yml'),\n",
       " ('VIRAT_S_000203_07_001341_001458.geom.yml',\n",
       "  'VIRAT_S_000203_07_001341_001458.types.yml'),\n",
       " ('VIRAT_S_000204_00_000000_000109.geom.yml',\n",
       "  'VIRAT_S_000204_00_000000_000109.types.yml'),\n",
       " ('VIRAT_S_000204_03_000667_000703.geom.yml',\n",
       "  'VIRAT_S_000204_03_000667_000703.types.yml'),\n",
       " ('VIRAT_S_000204_04_000738_000977.geom.yml',\n",
       "  'VIRAT_S_000204_04_000738_000977.types.yml'),\n",
       " ('VIRAT_S_000204_05_001334_001520.geom.yml',\n",
       "  'VIRAT_S_000204_05_001334_001520.types.yml'),\n",
       " ('VIRAT_S_000205_00_000065_000149.geom.yml',\n",
       "  'VIRAT_S_000205_00_000065_000149.types.yml'),\n",
       " ('VIRAT_S_000205_04_000927_001057.geom.yml',\n",
       "  'VIRAT_S_000205_04_000927_001057.types.yml'),\n",
       " ('VIRAT_S_000205_07_001761_001804.geom.yml',\n",
       "  'VIRAT_S_000205_07_001761_001804.types.yml'),\n",
       " ('VIRAT_S_000206_03_000500_000556.geom.yml',\n",
       "  'VIRAT_S_000206_03_000500_000556.types.yml'),\n",
       " ('VIRAT_S_000206_04_000710_000779.geom.yml',\n",
       "  'VIRAT_S_000206_04_000710_000779.types.yml'),\n",
       " ('VIRAT_S_000206_07_001501_001600.geom.yml',\n",
       "  'VIRAT_S_000206_07_001501_001600.types.yml'),\n",
       " ('VIRAT_S_000207_01_000094_000156.geom.yml',\n",
       "  'VIRAT_S_000207_01_000094_000156.types.yml'),\n",
       " ('VIRAT_S_000207_04_000902_000934.geom.yml',\n",
       "  'VIRAT_S_000207_04_000902_000934.types.yml'),\n",
       " ('VIRAT_S_040000_02_000111_000145.geom.yml',\n",
       "  'VIRAT_S_040000_02_000111_000145.types.yml'),\n",
       " ('VIRAT_S_040000_03_000221_000372.geom.yml',\n",
       "  'VIRAT_S_040000_03_000221_000372.types.yml'),\n",
       " ('VIRAT_S_040000_05_000668_000703.geom.yml',\n",
       "  'VIRAT_S_040000_05_000668_000703.types.yml'),\n",
       " ('VIRAT_S_040001_00_000035_000319.geom.yml',\n",
       "  'VIRAT_S_040001_00_000035_000319.types.yml'),\n",
       " ('VIRAT_S_040001_01_000448_001101.geom.yml',\n",
       "  'VIRAT_S_040001_01_000448_001101.types.yml'),\n",
       " ('VIRAT_S_040001_03_001531_001595.geom.yml',\n",
       "  'VIRAT_S_040001_03_001531_001595.types.yml'),\n",
       " ('VIRAT_S_040002_03_001525_001569.geom.yml',\n",
       "  'VIRAT_S_040002_03_001525_001569.types.yml'),\n",
       " ('VIRAT_S_040003_04_000758_001118.geom.yml',\n",
       "  'VIRAT_S_040003_04_000758_001118.types.yml'),\n",
       " ('VIRAT_S_040003_06_001441_001518.geom.yml',\n",
       "  'VIRAT_S_040003_06_001441_001518.types.yml'),\n",
       " ('VIRAT_S_040004_00_000011_000093.geom.yml',\n",
       "  'VIRAT_S_040004_00_000011_000093.types.yml'),\n",
       " ('VIRAT_S_040005_00_000003_000058.geom.yml',\n",
       "  'VIRAT_S_040005_00_000003_000058.types.yml'),\n",
       " ('VIRAT_S_040005_07_001026_001223.geom.yml',\n",
       "  'VIRAT_S_040005_07_001026_001223.types.yml'),\n",
       " ('VIRAT_S_040100_01_000347_000432.geom.yml',\n",
       "  'VIRAT_S_040100_01_000347_000432.types.yml'),\n",
       " ('VIRAT_S_040101_02_000224_000440.geom.yml',\n",
       "  'VIRAT_S_040101_02_000224_000440.types.yml'),\n",
       " ('VIRAT_S_040101_03_000460_000551.geom.yml',\n",
       "  'VIRAT_S_040101_03_000460_000551.types.yml'),\n",
       " ('VIRAT_S_040101_04_000562_000679.geom.yml',\n",
       "  'VIRAT_S_040101_04_000562_000679.types.yml'),\n",
       " ('VIRAT_S_040102_08_000986_001090.geom.yml',\n",
       "  'VIRAT_S_040102_08_000986_001090.types.yml'),\n",
       " ('VIRAT_S_040102_10_001258_001408.geom.yml',\n",
       "  'VIRAT_S_040102_10_001258_001408.types.yml'),\n",
       " ('VIRAT_S_040102_13_001557_001589.geom.yml',\n",
       "  'VIRAT_S_040102_13_001557_001589.types.yml'),\n",
       " ('VIRAT_S_040103_05_000729_000804.geom.yml',\n",
       "  'VIRAT_S_040103_05_000729_000804.types.yml'),\n",
       " ('VIRAT_S_040103_07_001011_001093.geom.yml',\n",
       "  'VIRAT_S_040103_07_001011_001093.types.yml'),\n",
       " ('VIRAT_S_040103_08_001475_001512.geom.yml',\n",
       "  'VIRAT_S_040103_08_001475_001512.types.yml'),\n",
       " ('VIRAT_S_040104_00_000120_000224.geom.yml',\n",
       "  'VIRAT_S_040104_00_000120_000224.types.yml'),\n",
       " ('VIRAT_S_040104_01_000227_000457.geom.yml',\n",
       "  'VIRAT_S_040104_01_000227_000457.types.yml'),\n",
       " ('VIRAT_S_040104_04_000854_000934.geom.yml',\n",
       "  'VIRAT_S_040104_04_000854_000934.types.yml'),\n",
       " ('VIRAT_S_040104_05_000939_001116.geom.yml',\n",
       "  'VIRAT_S_040104_05_000939_001116.types.yml'),\n",
       " ('VIRAT_S_040104_06_001121_001241.geom.yml',\n",
       "  'VIRAT_S_040104_06_001121_001241.types.yml'),\n",
       " ('VIRAT_S_040104_08_001353_001470.geom.yml',\n",
       "  'VIRAT_S_040104_08_001353_001470.types.yml'),\n",
       " ('VIRAT_S_050000_01_000207_000361.geom.yml',\n",
       "  'VIRAT_S_050000_01_000207_000361.types.yml'),\n",
       " ('VIRAT_S_050000_04_000640_000690.geom.yml',\n",
       "  'VIRAT_S_050000_04_000640_000690.types.yml'),\n",
       " ('VIRAT_S_050000_05_000696_000732.geom.yml',\n",
       "  'VIRAT_S_050000_05_000696_000732.types.yml'),\n",
       " ('VIRAT_S_050000_07_001014_001126.geom.yml',\n",
       "  'VIRAT_S_050000_07_001014_001126.types.yml'),\n",
       " ('VIRAT_S_050000_10_001462_001491.geom.yml',\n",
       "  'VIRAT_S_050000_10_001462_001491.types.yml'),\n",
       " ('VIRAT_S_050000_12_001591_001619.geom.yml',\n",
       "  'VIRAT_S_050000_12_001591_001619.types.yml')]"
      ]
     },
     "execution_count": 3,
     "metadata": {},
     "output_type": "execute_result"
    }
   ],
   "source": [
    "# get diva annotation files from training folder\n",
    "diva_train_path = '/Users/p/Documents/Code/VIRAT/VIRAT_Ground_Dataset/diva_annotations/train'\n",
    "train_dir = os.listdir(diva_train_path)\n",
    "keep_these = {\".geom\", \"types\"}\n",
    "train_geom_types = sorted([item for item in train_dir if item[-9:-4] in keep_these])\n",
    "train_files = list(zip(train_geom_types[::2], train_geom_types[1::2]))\n",
    "train_files"
   ]
  },
  {
   "cell_type": "code",
   "execution_count": 4,
   "id": "7e712ddb",
   "metadata": {},
   "outputs": [
    {
     "data": {
      "text/plain": [
       "64"
      ]
     },
     "execution_count": 4,
     "metadata": {},
     "output_type": "execute_result"
    }
   ],
   "source": [
    "len(train_files)"
   ]
  },
  {
   "cell_type": "code",
   "execution_count": 5,
   "id": "5b5eacce",
   "metadata": {
    "scrolled": true
   },
   "outputs": [
    {
     "data": {
      "text/plain": [
       "[('VIRAT_S_000007.geom.yml', 'VIRAT_S_000007.types.yml'),\n",
       " ('VIRAT_S_000008.geom.yml', 'VIRAT_S_000008.types.yml'),\n",
       " ('VIRAT_S_000200_00_000100_000171.geom.yml',\n",
       "  'VIRAT_S_000200_00_000100_000171.types.yml'),\n",
       " ('VIRAT_S_000200_02_000479_000635.geom.yml',\n",
       "  'VIRAT_S_000200_02_000479_000635.types.yml'),\n",
       " ('VIRAT_S_000201_00_000018_000380.geom.yml',\n",
       "  'VIRAT_S_000201_00_000018_000380.types.yml'),\n",
       " ('VIRAT_S_000201_01_000384_000589.geom.yml',\n",
       "  'VIRAT_S_000201_01_000384_000589.types.yml'),\n",
       " ('VIRAT_S_000201_02_000590_000623.geom.yml',\n",
       "  'VIRAT_S_000201_02_000590_000623.types.yml'),\n",
       " ('VIRAT_S_000201_04_000682_000822.geom.yml',\n",
       "  'VIRAT_S_000201_04_000682_000822.types.yml'),\n",
       " ('VIRAT_S_000203_01_000171_000345.geom.yml',\n",
       "  'VIRAT_S_000203_01_000171_000345.types.yml'),\n",
       " ('VIRAT_S_000203_08_001702_001734.geom.yml',\n",
       "  'VIRAT_S_000203_08_001702_001734.types.yml'),\n",
       " ('VIRAT_S_000204_07_001577_001611.geom.yml',\n",
       "  'VIRAT_S_000204_07_001577_001611.types.yml'),\n",
       " ('VIRAT_S_000204_09_001768_001849.geom.yml',\n",
       "  'VIRAT_S_000204_09_001768_001849.types.yml'),\n",
       " ('VIRAT_S_000205_01_000197_000342.geom.yml',\n",
       "  'VIRAT_S_000205_01_000197_000342.types.yml'),\n",
       " ('VIRAT_S_000205_02_000409_000566.geom.yml',\n",
       "  'VIRAT_S_000205_02_000409_000566.types.yml'),\n",
       " ('VIRAT_S_000205_03_000860_000922.geom.yml',\n",
       "  'VIRAT_S_000205_03_000860_000922.types.yml'),\n",
       " ('VIRAT_S_000205_05_001092_001124.geom.yml',\n",
       "  'VIRAT_S_000205_05_001092_001124.types.yml'),\n",
       " ('VIRAT_S_000205_06_001566_001631.geom.yml',\n",
       "  'VIRAT_S_000205_06_001566_001631.types.yml'),\n",
       " ('VIRAT_S_000206_00_000025_000058.geom.yml',\n",
       "  'VIRAT_S_000206_00_000025_000058.types.yml'),\n",
       " ('VIRAT_S_000206_01_000148_000184.geom.yml',\n",
       "  'VIRAT_S_000206_01_000148_000184.types.yml'),\n",
       " ('VIRAT_S_000206_02_000294_000327.geom.yml',\n",
       "  'VIRAT_S_000206_02_000294_000327.types.yml'),\n",
       " ('VIRAT_S_000206_08_001618_001712.geom.yml',\n",
       "  'VIRAT_S_000206_08_001618_001712.types.yml'),\n",
       " ('VIRAT_S_000207_02_000498_000530.geom.yml',\n",
       "  'VIRAT_S_000207_02_000498_000530.types.yml'),\n",
       " ('VIRAT_S_000207_03_000556_000590.geom.yml',\n",
       "  'VIRAT_S_000207_03_000556_000590.types.yml'),\n",
       " ('VIRAT_S_040000_00_000000_000036.geom.yml',\n",
       "  'VIRAT_S_040000_00_000000_000036.types.yml'),\n",
       " ('VIRAT_S_040000_01_000042_000099.geom.yml',\n",
       "  'VIRAT_S_040000_01_000042_000099.types.yml'),\n",
       " ('VIRAT_S_040000_04_000532_000622.geom.yml',\n",
       "  'VIRAT_S_040000_04_000532_000622.types.yml'),\n",
       " ('VIRAT_S_040000_08_001084_001190.geom.yml',\n",
       "  'VIRAT_S_040000_08_001084_001190.types.yml'),\n",
       " ('VIRAT_S_040000_09_001194_001574.geom.yml',\n",
       "  'VIRAT_S_040000_09_001194_001574.types.yml'),\n",
       " ('VIRAT_S_040003_00_000000_000072.geom.yml',\n",
       "  'VIRAT_S_040003_00_000000_000072.types.yml'),\n",
       " ('VIRAT_S_040003_01_000083_000193.geom.yml',\n",
       "  'VIRAT_S_040003_01_000083_000193.types.yml'),\n",
       " ('VIRAT_S_040003_02_000197_000552.geom.yml',\n",
       "  'VIRAT_S_040003_02_000197_000552.types.yml'),\n",
       " ('VIRAT_S_040005_06_000886_001016.geom.yml',\n",
       "  'VIRAT_S_040005_06_000886_001016.types.yml'),\n",
       " ('VIRAT_S_040005_08_001225_001276.geom.yml',\n",
       "  'VIRAT_S_040005_08_001225_001276.types.yml'),\n",
       " ('VIRAT_S_040100_03_000496_000559.geom.yml',\n",
       "  'VIRAT_S_040100_03_000496_000559.types.yml'),\n",
       " ('VIRAT_S_040100_04_000626_000689.geom.yml',\n",
       "  'VIRAT_S_040100_04_000626_000689.types.yml'),\n",
       " ('VIRAT_S_040100_05_000696_000762.geom.yml',\n",
       "  'VIRAT_S_040100_05_000696_000762.types.yml'),\n",
       " ('VIRAT_S_040100_06_000767_000988.geom.yml',\n",
       "  'VIRAT_S_040100_06_000767_000988.types.yml'),\n",
       " ('VIRAT_S_040100_07_001043_001099.geom.yml',\n",
       "  'VIRAT_S_040100_07_001043_001099.types.yml'),\n",
       " ('VIRAT_S_040100_08_001103_001181.geom.yml',\n",
       "  'VIRAT_S_040100_08_001103_001181.types.yml'),\n",
       " ('VIRAT_S_040100_09_001186_001533.geom.yml',\n",
       "  'VIRAT_S_040100_09_001186_001533.types.yml'),\n",
       " ('VIRAT_S_040101_05_000722_001547.geom.yml',\n",
       "  'VIRAT_S_040101_05_000722_001547.types.yml'),\n",
       " ('VIRAT_S_040101_06_001557_001590.geom.yml',\n",
       "  'VIRAT_S_040101_06_001557_001590.types.yml'),\n",
       " ('VIRAT_S_040102_04_000596_000689.geom.yml',\n",
       "  'VIRAT_S_040102_04_000596_000689.types.yml'),\n",
       " ('VIRAT_S_040102_06_000849_000908.geom.yml',\n",
       "  'VIRAT_S_040102_06_000849_000908.types.yml'),\n",
       " ('VIRAT_S_040102_07_000916_000983.geom.yml',\n",
       "  'VIRAT_S_040102_07_000916_000983.types.yml'),\n",
       " ('VIRAT_S_040103_00_000000_000120.geom.yml',\n",
       "  'VIRAT_S_040103_00_000000_000120.types.yml'),\n",
       " ('VIRAT_S_040103_01_000132_000195.geom.yml',\n",
       "  'VIRAT_S_040103_01_000132_000195.types.yml'),\n",
       " ('VIRAT_S_040103_02_000199_000279.geom.yml',\n",
       "  'VIRAT_S_040103_02_000199_000279.types.yml'),\n",
       " ('VIRAT_S_040103_03_000284_000425.geom.yml',\n",
       "  'VIRAT_S_040103_03_000284_000425.types.yml'),\n",
       " ('VIRAT_S_040103_06_000836_000909.geom.yml',\n",
       "  'VIRAT_S_040103_06_000836_000909.types.yml'),\n",
       " ('VIRAT_S_040104_07_001268_001348.geom.yml',\n",
       "  'VIRAT_S_040104_07_001268_001348.types.yml'),\n",
       " ('VIRAT_S_050000_06_000908_000970.geom.yml',\n",
       "  'VIRAT_S_050000_06_000908_000970.types.yml'),\n",
       " ('VIRAT_S_050000_08_001235_001295.geom.yml',\n",
       "  'VIRAT_S_050000_08_001235_001295.types.yml'),\n",
       " ('VIRAT_S_050000_09_001310_001373.geom.yml',\n",
       "  'VIRAT_S_050000_09_001310_001373.types.yml'),\n",
       " ('VIRAT_S_050000_11_001530_001576.geom.yml',\n",
       "  'VIRAT_S_050000_11_001530_001576.types.yml')]"
      ]
     },
     "execution_count": 5,
     "metadata": {},
     "output_type": "execute_result"
    }
   ],
   "source": [
    "# get diva annotation files from validation folder\n",
    "diva_validate_path = '/Users/p/Documents/Code/VIRAT/VIRAT_Ground_Dataset/diva_annotations/validate'\n",
    "valid_dir = os.listdir(diva_validate_path)\n",
    "keep_these = {\".geom\", \"types\"}\n",
    "valid_geom_types = sorted([item for item in valid_dir if item[-9:-4] in keep_these])\n",
    "valid_files = list(zip(valid_geom_types[::2], valid_geom_types[1::2]))\n",
    "valid_files"
   ]
  },
  {
   "cell_type": "code",
   "execution_count": 6,
   "id": "1752c232",
   "metadata": {},
   "outputs": [
    {
     "data": {
      "text/plain": [
       "55"
      ]
     },
     "execution_count": 6,
     "metadata": {},
     "output_type": "execute_result"
    }
   ],
   "source": [
    "len(valid_files)"
   ]
  },
  {
   "cell_type": "markdown",
   "id": "53769764",
   "metadata": {},
   "source": [
    "### Take a sample of the Train and Validate files for data extraction\n",
    "- 30 from Train\n",
    "- 10 from Validate"
   ]
  },
  {
   "cell_type": "code",
   "execution_count": 7,
   "id": "80bca9d9",
   "metadata": {},
   "outputs": [],
   "source": [
    "import random\n",
    "random.seed(40)\n",
    "\n",
    "train_sample = sorted(random.sample(train_files, 30))\n",
    "valid_sample = sorted(random.sample(valid_files, 10))"
   ]
  },
  {
   "cell_type": "code",
   "execution_count": 8,
   "id": "e3b13009",
   "metadata": {
    "scrolled": true
   },
   "outputs": [
    {
     "data": {
      "text/plain": [
       "30"
      ]
     },
     "execution_count": 8,
     "metadata": {},
     "output_type": "execute_result"
    }
   ],
   "source": [
    "len(train_sample)"
   ]
  },
  {
   "cell_type": "code",
   "execution_count": 9,
   "id": "bd785b8b",
   "metadata": {
    "scrolled": true
   },
   "outputs": [
    {
     "data": {
      "text/plain": [
       "10"
      ]
     },
     "execution_count": 9,
     "metadata": {},
     "output_type": "execute_result"
    }
   ],
   "source": [
    "len(valid_sample)"
   ]
  },
  {
   "cell_type": "markdown",
   "id": "ba4971d0",
   "metadata": {},
   "source": [
    "### Match Annotation Files to Video Files\n",
    "* `train_sample` <--> `train_videos`\n",
    "* `valid_sample` <--> `valid_videos`"
   ]
  },
  {
   "cell_type": "code",
   "execution_count": 10,
   "id": "2943d8b1",
   "metadata": {
    "scrolled": true
   },
   "outputs": [
    {
     "data": {
      "text/plain": [
       "30"
      ]
     },
     "execution_count": 10,
     "metadata": {},
     "output_type": "execute_result"
    }
   ],
   "source": [
    "train_videos = []\n",
    "\n",
    "for i in range(len(train_sample)):\n",
    "    this_file = train_sample[i][0].split('.')[0]\n",
    "    this_file += '.mp4'\n",
    "    train_videos.append(this_file)\n",
    "len(train_videos)"
   ]
  },
  {
   "cell_type": "code",
   "execution_count": 11,
   "id": "6b50443d",
   "metadata": {},
   "outputs": [
    {
     "name": "stdout",
     "output_type": "stream",
     "text": [
      "VIRAT_S_050000_01_000207_000361.geom.yml\n",
      "VIRAT_S_050000_01_000207_000361.mp4\n"
     ]
    }
   ],
   "source": [
    "print(train_sample[27][0])\n",
    "print(train_videos[27])"
   ]
  },
  {
   "cell_type": "code",
   "execution_count": 12,
   "id": "24985c76",
   "metadata": {},
   "outputs": [
    {
     "data": {
      "text/plain": [
       "10"
      ]
     },
     "execution_count": 12,
     "metadata": {},
     "output_type": "execute_result"
    }
   ],
   "source": [
    "valid_videos = []\n",
    "\n",
    "for i in range(len(valid_sample)):\n",
    "    this_file = valid_sample[i][0].split('.')[0]\n",
    "    this_file += '.mp4'\n",
    "    valid_videos.append(this_file)\n",
    "len(valid_videos)"
   ]
  },
  {
   "cell_type": "code",
   "execution_count": 13,
   "id": "73b551bb",
   "metadata": {},
   "outputs": [
    {
     "name": "stdout",
     "output_type": "stream",
     "text": [
      "VIRAT_S_000206_08_001618_001712.types.yml\n",
      "VIRAT_S_000206_08_001618_001712.mp4\n"
     ]
    }
   ],
   "source": [
    "print(valid_sample[3][1])\n",
    "print(valid_videos[3])"
   ]
  },
  {
   "cell_type": "markdown",
   "id": "230e066d",
   "metadata": {},
   "source": [
    "### Get 200 images of 'Persons' with ground truth from single Training Video"
   ]
  },
  {
   "cell_type": "markdown",
   "id": "ed44c24f",
   "metadata": {},
   "source": [
    "1. Import geom.yml and types.yml files\n",
    "2. get dataframe from (1)\n",
    "3. Filter for 'Persons' and create sample of frames\n",
    "4. Write frames as .jpgs in Custom_Dataset/train/images/ folder with '[file-prefix]_[frame-num].jpg' as file name\n",
    "5. Write .txt files by Querying full dataframe per frame for detections' labels and bboxes. write to Custom_Dataset/train/labels/ folder with '[file-prefix]_[frame-num].txt' as file name\n",
    "6. Repeat 1-5 for Validation Set"
   ]
  },
  {
   "cell_type": "code",
   "execution_count": 14,
   "id": "c4d2c0ef",
   "metadata": {},
   "outputs": [
    {
     "data": {
      "text/plain": [
       "('VIRAT_S_000001.geom.yml', 'VIRAT_S_000001.types.yml')"
      ]
     },
     "execution_count": 14,
     "metadata": {},
     "output_type": "execute_result"
    }
   ],
   "source": [
    "train_sample[0]"
   ]
  },
  {
   "cell_type": "code",
   "execution_count": 15,
   "id": "49001b40",
   "metadata": {},
   "outputs": [
    {
     "name": "stdout",
     "output_type": "stream",
     "text": [
      "CPU times: user 54.2 s, sys: 434 ms, total: 54.6 s\n",
      "Wall time: 54.6 s\n"
     ]
    }
   ],
   "source": [
    "%%time\n",
    "# geom\n",
    "geom_path = diva_train_path + '/' + train_sample[0][0]\n",
    "with open(geom_path, 'r') as file:\n",
    "    geom = yaml.safe_load(file)\n",
    "\n",
    "# types\n",
    "types_path = diva_train_path + '/' + train_sample[0][1]\n",
    "with open(types_path, 'r') as file:\n",
    "    types = yaml.safe_load(file)"
   ]
  },
  {
   "cell_type": "code",
   "execution_count": 17,
   "id": "42556b10",
   "metadata": {},
   "outputs": [
    {
     "name": "stdout",
     "output_type": "stream",
     "text": [
      "idx:  179573 track_id:  179573 label:  179573 conf:  179573 frame:  179573\n"
     ]
    },
    {
     "data": {
      "text/html": [
       "<div>\n",
       "<style scoped>\n",
       "    .dataframe tbody tr th:only-of-type {\n",
       "        vertical-align: middle;\n",
       "    }\n",
       "\n",
       "    .dataframe tbody tr th {\n",
       "        vertical-align: top;\n",
       "    }\n",
       "\n",
       "    .dataframe thead th {\n",
       "        text-align: right;\n",
       "    }\n",
       "</style>\n",
       "<table border=\"1\" class=\"dataframe\">\n",
       "  <thead>\n",
       "    <tr style=\"text-align: right;\">\n",
       "      <th></th>\n",
       "      <th>idx_gt</th>\n",
       "      <th>track_id_gt</th>\n",
       "      <th>label_gt</th>\n",
       "      <th>label_as_int_gt</th>\n",
       "      <th>conf_gt</th>\n",
       "      <th>frame_gt</th>\n",
       "      <th>xmin_gt</th>\n",
       "      <th>ymin_gt</th>\n",
       "      <th>xmax_gt</th>\n",
       "      <th>ymax_gt</th>\n",
       "    </tr>\n",
       "  </thead>\n",
       "  <tbody>\n",
       "    <tr>\n",
       "      <th>0</th>\n",
       "      <td>0</td>\n",
       "      <td>1</td>\n",
       "      <td>Person</td>\n",
       "      <td>0</td>\n",
       "      <td>1.0</td>\n",
       "      <td>3455</td>\n",
       "      <td>1</td>\n",
       "      <td>663</td>\n",
       "      <td>77</td>\n",
       "      <td>795</td>\n",
       "    </tr>\n",
       "    <tr>\n",
       "      <th>1</th>\n",
       "      <td>1</td>\n",
       "      <td>1</td>\n",
       "      <td>Person</td>\n",
       "      <td>0</td>\n",
       "      <td>1.0</td>\n",
       "      <td>3456</td>\n",
       "      <td>1</td>\n",
       "      <td>663</td>\n",
       "      <td>77</td>\n",
       "      <td>795</td>\n",
       "    </tr>\n",
       "    <tr>\n",
       "      <th>2</th>\n",
       "      <td>2</td>\n",
       "      <td>1</td>\n",
       "      <td>Person</td>\n",
       "      <td>0</td>\n",
       "      <td>1.0</td>\n",
       "      <td>3457</td>\n",
       "      <td>1</td>\n",
       "      <td>663</td>\n",
       "      <td>77</td>\n",
       "      <td>795</td>\n",
       "    </tr>\n",
       "    <tr>\n",
       "      <th>3</th>\n",
       "      <td>3</td>\n",
       "      <td>1</td>\n",
       "      <td>Person</td>\n",
       "      <td>0</td>\n",
       "      <td>1.0</td>\n",
       "      <td>3458</td>\n",
       "      <td>1</td>\n",
       "      <td>663</td>\n",
       "      <td>77</td>\n",
       "      <td>795</td>\n",
       "    </tr>\n",
       "    <tr>\n",
       "      <th>4</th>\n",
       "      <td>4</td>\n",
       "      <td>1</td>\n",
       "      <td>Person</td>\n",
       "      <td>0</td>\n",
       "      <td>1.0</td>\n",
       "      <td>3459</td>\n",
       "      <td>1</td>\n",
       "      <td>663</td>\n",
       "      <td>77</td>\n",
       "      <td>795</td>\n",
       "    </tr>\n",
       "    <tr>\n",
       "      <th>...</th>\n",
       "      <td>...</td>\n",
       "      <td>...</td>\n",
       "      <td>...</td>\n",
       "      <td>...</td>\n",
       "      <td>...</td>\n",
       "      <td>...</td>\n",
       "      <td>...</td>\n",
       "      <td>...</td>\n",
       "      <td>...</td>\n",
       "      <td>...</td>\n",
       "    </tr>\n",
       "    <tr>\n",
       "      <th>179568</th>\n",
       "      <td>179568</td>\n",
       "      <td>5003</td>\n",
       "      <td>Other</td>\n",
       "      <td>-1</td>\n",
       "      <td>1.0</td>\n",
       "      <td>20650</td>\n",
       "      <td>760</td>\n",
       "      <td>758</td>\n",
       "      <td>778</td>\n",
       "      <td>830</td>\n",
       "    </tr>\n",
       "    <tr>\n",
       "      <th>179569</th>\n",
       "      <td>179569</td>\n",
       "      <td>5003</td>\n",
       "      <td>Other</td>\n",
       "      <td>-1</td>\n",
       "      <td>1.0</td>\n",
       "      <td>20651</td>\n",
       "      <td>760</td>\n",
       "      <td>758</td>\n",
       "      <td>778</td>\n",
       "      <td>830</td>\n",
       "    </tr>\n",
       "    <tr>\n",
       "      <th>179570</th>\n",
       "      <td>179570</td>\n",
       "      <td>5003</td>\n",
       "      <td>Other</td>\n",
       "      <td>-1</td>\n",
       "      <td>1.0</td>\n",
       "      <td>20652</td>\n",
       "      <td>760</td>\n",
       "      <td>758</td>\n",
       "      <td>778</td>\n",
       "      <td>830</td>\n",
       "    </tr>\n",
       "    <tr>\n",
       "      <th>179571</th>\n",
       "      <td>179571</td>\n",
       "      <td>5003</td>\n",
       "      <td>Other</td>\n",
       "      <td>-1</td>\n",
       "      <td>1.0</td>\n",
       "      <td>20653</td>\n",
       "      <td>760</td>\n",
       "      <td>758</td>\n",
       "      <td>778</td>\n",
       "      <td>830</td>\n",
       "    </tr>\n",
       "    <tr>\n",
       "      <th>179572</th>\n",
       "      <td>179572</td>\n",
       "      <td>5003</td>\n",
       "      <td>Other</td>\n",
       "      <td>-1</td>\n",
       "      <td>1.0</td>\n",
       "      <td>20654</td>\n",
       "      <td>760</td>\n",
       "      <td>758</td>\n",
       "      <td>778</td>\n",
       "      <td>830</td>\n",
       "    </tr>\n",
       "  </tbody>\n",
       "</table>\n",
       "<p>179573 rows × 10 columns</p>\n",
       "</div>"
      ],
      "text/plain": [
       "        idx_gt  track_id_gt label_gt  label_as_int_gt  conf_gt  frame_gt  \\\n",
       "0            0            1   Person                0      1.0      3455   \n",
       "1            1            1   Person                0      1.0      3456   \n",
       "2            2            1   Person                0      1.0      3457   \n",
       "3            3            1   Person                0      1.0      3458   \n",
       "4            4            1   Person                0      1.0      3459   \n",
       "...        ...          ...      ...              ...      ...       ...   \n",
       "179568  179568         5003    Other               -1      1.0     20650   \n",
       "179569  179569         5003    Other               -1      1.0     20651   \n",
       "179570  179570         5003    Other               -1      1.0     20652   \n",
       "179571  179571         5003    Other               -1      1.0     20653   \n",
       "179572  179572         5003    Other               -1      1.0     20654   \n",
       "\n",
       "        xmin_gt  ymin_gt  xmax_gt  ymax_gt  \n",
       "0             1      663       77      795  \n",
       "1             1      663       77      795  \n",
       "2             1      663       77      795  \n",
       "3             1      663       77      795  \n",
       "4             1      663       77      795  \n",
       "...         ...      ...      ...      ...  \n",
       "179568      760      758      778      830  \n",
       "179569      760      758      778      830  \n",
       "179570      760      758      778      830  \n",
       "179571      760      758      778      830  \n",
       "179572      760      758      778      830  \n",
       "\n",
       "[179573 rows x 10 columns]"
      ]
     },
     "execution_count": 17,
     "metadata": {},
     "output_type": "execute_result"
    }
   ],
   "source": [
    "# Turns the geom.yml and types.yml files into a single dataframe\n",
    "\n",
    "detections = []  # all detections\n",
    "id0 = []  # unique detection index\n",
    "id1 = []  # track_id\n",
    "ts0 = []  # frame\n",
    "labels = []  # string class labels\n",
    "labels_ints = []  # integer class labels\n",
    "confs = []\n",
    "xmin, ymin, xmax, ymax = [], [], [], []\n",
    "\n",
    "for i in geom:\n",
    "  try:\n",
    "    if i['geom']['ts0'] is not None:  # populates detections data from geom file\n",
    "      detections.append(i)\n",
    "      id0.append(i['geom']['id0'])\n",
    "      id1.append(i['geom']['id1'])\n",
    "      ts0.append(i['geom']['ts0'])\n",
    "      bb = i['geom']['g0'].split(' ')\n",
    "      xmin.append(int(bb[0]))\n",
    "      ymin.append(int(bb[1]))\n",
    "      xmax.append(int(bb[2]))\n",
    "      ymax.append(int(bb[3]))\n",
    "\n",
    "      for j in types:\n",
    "        try:\n",
    "          if j['types']['id1'] == id1[-1]:  # pulls labels and confidences (by track id --> 'id1') from types.yaml file\n",
    "            label, conf = next(iter(j['types']['cset3'].items()))\n",
    "            confs.append(conf)\n",
    "            labels.append(label)\n",
    "            # also save labels as ints for comparison with YOLOv8 Predictions later on\n",
    "            if label == 'Person':\n",
    "              labels_ints.append(0)\n",
    "            elif label == 'Bike':\n",
    "              labels_ints.append(1)\n",
    "            elif label == 'Vehicle':\n",
    "              labels_ints.append(2)\n",
    "            else:\n",
    "              labels_ints.append(-1)\n",
    "        except:\n",
    "          pass\n",
    "  except:\n",
    "    pass\n",
    "\n",
    "print('idx: ', len(id0),\n",
    "      'track_id: ', len(id1),\n",
    "      'label: ', len(labels),\n",
    "      'conf: ', len(confs),\n",
    "      'frame: ', len(ts0))  # sanity check\n",
    "\n",
    "\n",
    "gt = {'idx_gt': id0, 'track_id_gt': id1, 'label_gt': labels,\n",
    "      'label_as_int_gt': labels_ints, 'conf_gt': confs, 'frame_gt': ts0,\n",
    "      'xmin_gt': xmin, 'ymin_gt': ymin, 'xmax_gt': xmax, 'ymax_gt': ymax}\n",
    "df_gt = pd.DataFrame(gt)\n",
    "df_gt"
   ]
  },
  {
   "cell_type": "code",
   "execution_count": 18,
   "id": "86be84d3",
   "metadata": {},
   "outputs": [],
   "source": [
    "# filter for cars and people\n",
    "\n",
    "# CHANGE TO JUST PEOPLE\n",
    "df_persons = df_gt[df_gt['label_as_int_gt'] == 0]\n",
    "df_cars = df_gt[df_gt['label_as_int_gt'] == 2]"
   ]
  },
  {
   "cell_type": "code",
   "execution_count": 19,
   "id": "3037fa1e",
   "metadata": {},
   "outputs": [],
   "source": [
    "# sample frames: 30 cars and 70 persons\n",
    "\n",
    "# CHANGE TO 200 PEOPLE. NO CARS.\n",
    "# CREATE CHECK SO AS NOT TO SAMPLE SAME FRAME TWICE\n",
    "df_persons_70 = df_persons.sample(n=70)\n",
    "df_cars_30 = df_cars.sample(n=30)"
   ]
  },
  {
   "cell_type": "code",
   "execution_count": 20,
   "id": "473a5353",
   "metadata": {},
   "outputs": [],
   "source": [
    "# get frame numbers from these samples\n",
    "\n",
    "# \n",
    "persons_frames = sorted(df_persons_70['frame_gt'].to_list())\n",
    "cars_frames = sorted(df_cars_30['frame_gt'].to_list())"
   ]
  },
  {
   "cell_type": "code",
   "execution_count": 28,
   "id": "f43bde67",
   "metadata": {
    "scrolled": true
   },
   "outputs": [
    {
     "data": {
      "text/plain": [
       "[4739,\n",
       " 4752,\n",
       " 5095,\n",
       " 5288,\n",
       " 5729,\n",
       " 5756,\n",
       " 5943,\n",
       " 6184,\n",
       " 6272,\n",
       " 6314,\n",
       " 6480,\n",
       " 7132,\n",
       " 7533,\n",
       " 7669,\n",
       " 7777,\n",
       " 7863,\n",
       " 7940,\n",
       " 8015,\n",
       " 8237,\n",
       " 8414,\n",
       " 8500,\n",
       " 8515,\n",
       " 8530,\n",
       " 8849,\n",
       " 8991,\n",
       " 9185,\n",
       " 9218,\n",
       " 9479,\n",
       " 9597,\n",
       " 9633,\n",
       " 9669,\n",
       " 10046,\n",
       " 10058,\n",
       " 10099,\n",
       " 10112,\n",
       " 10260,\n",
       " 11061,\n",
       " 11296,\n",
       " 11353,\n",
       " 11742,\n",
       " 11917,\n",
       " 12236,\n",
       " 12241,\n",
       " 12306,\n",
       " 12562,\n",
       " 12682,\n",
       " 12789,\n",
       " 13051,\n",
       " 13441,\n",
       " 13475,\n",
       " 13788,\n",
       " 14111,\n",
       " 14367,\n",
       " 14749,\n",
       " 15016,\n",
       " 15111,\n",
       " 15368,\n",
       " 15646,\n",
       " 15904,\n",
       " 16215,\n",
       " 16234,\n",
       " 16529,\n",
       " 16796,\n",
       " 16801,\n",
       " 17056,\n",
       " 17764,\n",
       " 18758,\n",
       " 19777,\n",
       " 20087,\n",
       " 20191]"
      ]
     },
     "execution_count": 28,
     "metadata": {},
     "output_type": "execute_result"
    }
   ],
   "source": [
    "# list of frames from video\n",
    "persons_frames"
   ]
  },
  {
   "cell_type": "code",
   "execution_count": 29,
   "id": "03f71ff5",
   "metadata": {},
   "outputs": [
    {
     "data": {
      "text/plain": [
       "'/Users/p/Documents/Code/VIRAT/VIRAT_Ground_Dataset/videos_original/VIRAT_S_000001.mp4'"
      ]
     },
     "execution_count": 29,
     "metadata": {},
     "output_type": "execute_result"
    }
   ],
   "source": [
    "# grab .mp4\n",
    "\n",
    "vid_path = '/Users/p/Documents/Code/VIRAT/VIRAT_Ground_Dataset/videos_original/'\n",
    "this_vid_path = vid_path + train_videos[0]\n",
    "this_vid_path"
   ]
  },
  {
   "cell_type": "code",
   "execution_count": 25,
   "id": "ce9e1014",
   "metadata": {},
   "outputs": [],
   "source": [
    "# declare destination\n",
    "\n",
    "loc = '/Users/p/Documents/Code/VIRAT/VIRAT_Ground_Dataset/Custom/'"
   ]
  },
  {
   "cell_type": "code",
   "execution_count": 45,
   "id": "b7a92dae",
   "metadata": {},
   "outputs": [],
   "source": [
    "def convert_bbox_format(bbox, total_width, total_height):\n",
    "    \"\"\"\n",
    "    Converts bounding box from [xmin, ymin, xmax, ymax] format to \n",
    "    normalized [x_mid, y_mid, width, height] format.\n",
    "\n",
    "    Parameters:\n",
    "    bbox (list): A list of 4 floats: [xmin, ymin, xmax, ymax].\n",
    "    total_width (int): The total width of the encoded frame.\n",
    "    total_height (int): The total height of the encoded frame.\n",
    "\n",
    "    Returns:\n",
    "    list: A list of 4 floats: [x_mid, y_mid, width, height] where these values \n",
    "    have been normalized with respect to total_width and total_height.\n",
    "    \"\"\"\n",
    "    xmin, ymin, xmax, ymax = bbox\n",
    "    width = xmax - xmin\n",
    "    height = ymax - ymin\n",
    "    x_mid = xmin + width / 2\n",
    "    y_mid = ymin + height / 2\n",
    "    \n",
    "    # Normalize the coordinates and dimensions\n",
    "    x_mid /= total_width\n",
    "    y_mid /= total_height\n",
    "    width /= total_width\n",
    "    height /= total_height\n",
    "    \n",
    "    return [x_mid, y_mid, width, height]"
   ]
  },
  {
   "cell_type": "code",
   "execution_count": 46,
   "id": "a9d3ebff",
   "metadata": {},
   "outputs": [
    {
     "name": "stdout",
     "output_type": "stream",
     "text": [
      "CPU times: user 1min 38s, sys: 2.88 s, total: 1min 41s\n",
      "Wall time: 20.9 s\n"
     ]
    }
   ],
   "source": [
    "%%time\n",
    "# write .jpgs and .txts for all frames of train_videos[0]\n",
    "# to '/Users/p/Documents/Code/VIRAT/VIRAT_Ground_Dataset/Custom/train/[images, labels]'\n",
    "\n",
    "vid_num = 0\n",
    "vid_path = '/Users/p/Documents/Code/VIRAT/VIRAT_Ground_Dataset/videos_original/'\n",
    "this_vid_path = vid_path + train_videos[vid_num]\n",
    "\n",
    "# begin video capture\n",
    "cap = cv2.VideoCapture(this_vid_path)\n",
    "\n",
    "total_width = cap.get(cv2.CAP_PROP_FRAME_WIDTH)\n",
    "total_height = cap.get(cv2.CAP_PROP_FRAME_HEIGHT)\n",
    "\n",
    "for i in persons_frames:\n",
    "    # write .txt files:\n",
    "    # get persons in frame\n",
    "    persons_in_frame_df = df_gt[(df_gt['frame_gt'] == i) & (df_gt['label_as_int_gt'] == 0)]\n",
    "    \n",
    "    write_this = \"\"\n",
    "    for j in range(len(persons_in_frame_df)):\n",
    "        this_person = persons_in_frame_df.iloc[j]\n",
    "        label = this_person['label_as_int_gt']\n",
    "        xmin = float(this_person['xmin_gt'])\n",
    "        ymin = float(this_person['ymin_gt'])\n",
    "        xmax = float(this_person['xmax_gt'])\n",
    "        ymax = float(this_person['ymax_gt'])\n",
    "        x_mid, y_mid, width, height = convert_bbox_format([xmin,ymin,xmax,ymax], total_width, total_height)\n",
    "        \n",
    "        # create string for .txt file\n",
    "        write_this += str(label) + ' ' + str(x_mid) + ' ' + str(y_mid) + ' ' + str(width) + ' ' + str(height)\n",
    "        if j != (len(persons_in_frame_df) - 1):\n",
    "            write_this += '\\n'\n",
    "    \n",
    "    # write the .txt file\n",
    "    labels_loc = '/Users/p/Documents/Code/VIRAT/VIRAT_Ground_Dataset/Custom/train/labels/'\n",
    "    txt_path = labels_loc + train_videos[vid_num].split('.')[0] + '_' + str(i) + '.txt'\n",
    "    with open(txt_path, 'w') as f:\n",
    "        f.write(write_this)\n",
    "    \n",
    "    # write .jpg files:\n",
    "    cap.set(cv2.CAP_PROP_POS_FRAMES, i)  # set frame position\n",
    "    success, frame = cap.read()  # read frame\n",
    "    if not success:\n",
    "        print(\"Failed to read the frame\")\n",
    "    if success:\n",
    "        images_loc = '/Users/p/Documents/Code/VIRAT/VIRAT_Ground_Dataset/Custom/train/images/'\n",
    "        filepath = images_loc + train_videos[vid_num].split('.')[0] + '_' + str(i) + '.jpg'\n",
    "        cv2.imwrite(filepath, frame)  # write frame to .jpg and store in parent folder\n",
    "\n",
    "# end capture\n",
    "cap.release()"
   ]
  },
  {
   "cell_type": "markdown",
   "id": "50995ee5",
   "metadata": {},
   "source": [
    ".txt file format\n",
    "\"label x_m y_m w h\""
   ]
  },
  {
   "cell_type": "code",
   "execution_count": null,
   "id": "ddf04554",
   "metadata": {},
   "outputs": [],
   "source": [
    "# NOW WRITE GROUND TRUTH TO .TXT FILE\n",
    "\n",
    "for i in persons_frames:\n",
    "    \n",
    "    # get persons in frame\n",
    "    persons_in_frame_df = df_gt[(df_gt['frame_gt'] == persons_frames[0]) & (df_gt['label_as_int_gt'] == 0)]\n",
    "    \n",
    "    "
   ]
  },
  {
   "cell_type": "code",
   "execution_count": 30,
   "id": "3858b230",
   "metadata": {},
   "outputs": [
    {
     "data": {
      "text/html": [
       "<div>\n",
       "<style scoped>\n",
       "    .dataframe tbody tr th:only-of-type {\n",
       "        vertical-align: middle;\n",
       "    }\n",
       "\n",
       "    .dataframe tbody tr th {\n",
       "        vertical-align: top;\n",
       "    }\n",
       "\n",
       "    .dataframe thead th {\n",
       "        text-align: right;\n",
       "    }\n",
       "</style>\n",
       "<table border=\"1\" class=\"dataframe\">\n",
       "  <thead>\n",
       "    <tr style=\"text-align: right;\">\n",
       "      <th></th>\n",
       "      <th>idx_gt</th>\n",
       "      <th>track_id_gt</th>\n",
       "      <th>label_gt</th>\n",
       "      <th>label_as_int_gt</th>\n",
       "      <th>conf_gt</th>\n",
       "      <th>frame_gt</th>\n",
       "      <th>xmin_gt</th>\n",
       "      <th>ymin_gt</th>\n",
       "      <th>xmax_gt</th>\n",
       "      <th>ymax_gt</th>\n",
       "    </tr>\n",
       "  </thead>\n",
       "  <tbody>\n",
       "    <tr>\n",
       "      <th>6303</th>\n",
       "      <td>6303</td>\n",
       "      <td>4</td>\n",
       "      <td>Person</td>\n",
       "      <td>0</td>\n",
       "      <td>1.0</td>\n",
       "      <td>4739</td>\n",
       "      <td>497</td>\n",
       "      <td>759</td>\n",
       "      <td>562</td>\n",
       "      <td>919</td>\n",
       "    </tr>\n",
       "    <tr>\n",
       "      <th>22964</th>\n",
       "      <td>22964</td>\n",
       "      <td>19</td>\n",
       "      <td>Person</td>\n",
       "      <td>0</td>\n",
       "      <td>1.0</td>\n",
       "      <td>4739</td>\n",
       "      <td>357</td>\n",
       "      <td>716</td>\n",
       "      <td>422</td>\n",
       "      <td>863</td>\n",
       "    </tr>\n",
       "    <tr>\n",
       "      <th>39947</th>\n",
       "      <td>39947</td>\n",
       "      <td>20</td>\n",
       "      <td>Person</td>\n",
       "      <td>0</td>\n",
       "      <td>1.0</td>\n",
       "      <td>4739</td>\n",
       "      <td>366</td>\n",
       "      <td>681</td>\n",
       "      <td>444</td>\n",
       "      <td>835</td>\n",
       "    </tr>\n",
       "  </tbody>\n",
       "</table>\n",
       "</div>"
      ],
      "text/plain": [
       "       idx_gt  track_id_gt label_gt  label_as_int_gt  conf_gt  frame_gt  \\\n",
       "6303     6303            4   Person                0      1.0      4739   \n",
       "22964   22964           19   Person                0      1.0      4739   \n",
       "39947   39947           20   Person                0      1.0      4739   \n",
       "\n",
       "       xmin_gt  ymin_gt  xmax_gt  ymax_gt  \n",
       "6303       497      759      562      919  \n",
       "22964      357      716      422      863  \n",
       "39947      366      681      444      835  "
      ]
     },
     "execution_count": 30,
     "metadata": {},
     "output_type": "execute_result"
    }
   ],
   "source": [
    "label = df_gt[(df_gt['frame_gt'] == persons_frames[0]) & (df_gt['label_as_int_gt'] == 0)]\n",
    "label"
   ]
  },
  {
   "cell_type": "code",
   "execution_count": 38,
   "id": "f83678a3",
   "metadata": {},
   "outputs": [
    {
     "data": {
      "text/plain": [
       "4739"
      ]
     },
     "execution_count": 38,
     "metadata": {},
     "output_type": "execute_result"
    }
   ],
   "source": [
    "label.iloc[2]['frame_gt']"
   ]
  },
  {
   "cell_type": "code",
   "execution_count": 36,
   "id": "a9141867",
   "metadata": {},
   "outputs": [
    {
     "data": {
      "text/plain": [
       "3"
      ]
     },
     "execution_count": 36,
     "metadata": {},
     "output_type": "execute_result"
    }
   ],
   "source": [
    "len(label)"
   ]
  },
  {
   "cell_type": "code",
   "execution_count": 2,
   "id": "4564c51f",
   "metadata": {
    "scrolled": true
   },
   "outputs": [
    {
     "data": {
      "text/plain": [
       "['VIRAT_S_000001_15904.jpg',\n",
       " 'VIRAT_S_000001_14367.jpg',\n",
       " 'VIRAT_S_000001_9218.jpg',\n",
       " 'VIRAT_S_000001_12306.jpg',\n",
       " 'VIRAT_S_000001_9185.jpg',\n",
       " 'VIRAT_S_000001_6314.jpg',\n",
       " 'VIRAT_S_000001_16215.jpg',\n",
       " 'VIRAT_S_000001_10260.jpg',\n",
       " 'VIRAT_S_000001_8515.jpg',\n",
       " 'VIRAT_S_000001_8500.jpg',\n",
       " 'VIRAT_S_000001_5756.jpg',\n",
       " 'VIRAT_S_000001_17056.jpg',\n",
       " 'VIRAT_S_000001_14749.jpg',\n",
       " 'VIRAT_S_000001_9597.jpg',\n",
       " '.DS_Store',\n",
       " 'VIRAT_S_000001_6272.jpg',\n",
       " 'VIRAT_S_000001_9633.jpg',\n",
       " 'VIRAT_S_000001_10099.jpg',\n",
       " 'VIRAT_S_000001_18758.jpg',\n",
       " 'VIRAT_S_000001_10112.jpg',\n",
       " 'VIRAT_S_000001_4739.jpg',\n",
       " 'VIRAT_S_000001_11742.jpg',\n",
       " 'VIRAT_S_000001_15646.jpg',\n",
       " 'VIRAT_S_000001_10058.jpg',\n",
       " 'VIRAT_S_000001_11353.jpg',\n",
       " 'VIRAT_S_000001_11917.jpg',\n",
       " 'VIRAT_S_000001_12562.jpg',\n",
       " 'VIRAT_S_000001_8414.jpg',\n",
       " 'VIRAT_S_000001_11296.jpg',\n",
       " 'VIRAT_S_000001_12789.jpg',\n",
       " 'VIRAT_S_000001_7533.jpg',\n",
       " 'VIRAT_S_000001_14111.jpg',\n",
       " 'VIRAT_S_000001_9669.jpg',\n",
       " 'VIRAT_S_000001_7863.jpg',\n",
       " 'VIRAT_S_000001_13051.jpg',\n",
       " 'VIRAT_S_000001_8991.jpg',\n",
       " 'VIRAT_S_000001_13441.jpg',\n",
       " 'VIRAT_S_000001_16529.jpg',\n",
       " 'VIRAT_S_000001_7132.jpg',\n",
       " 'VIRAT_S_000001_7669.jpg',\n",
       " 'VIRAT_S_000001_5095.jpg',\n",
       " 'VIRAT_S_000001_8015.jpg',\n",
       " 'VIRAT_S_000001_15368.jpg',\n",
       " 'VIRAT_S_000001_9479.jpg',\n",
       " 'VIRAT_S_000001_17764.jpg',\n",
       " 'VIRAT_S_000001_13475.jpg',\n",
       " 'VIRAT_S_000001_5729.jpg',\n",
       " 'VIRAT_S_000001_19777.jpg',\n",
       " 'VIRAT_S_000001_11061.jpg',\n",
       " 'VIRAT_S_000001_6184.jpg',\n",
       " 'VIRAT_S_000001_12236.jpg',\n",
       " 'VIRAT_S_000001_20087.jpg',\n",
       " 'VIRAT_S_000001_15016.jpg',\n",
       " 'VIRAT_S_000001_5288.jpg',\n",
       " 'VIRAT_S_000001_8237.jpg',\n",
       " 'VIRAT_S_000001_4752.jpg',\n",
       " 'VIRAT_S_000001_13788.jpg',\n",
       " 'VIRAT_S_000001_15111.jpg',\n",
       " 'VIRAT_S_000001_16801.jpg',\n",
       " 'VIRAT_S_000001_7940.jpg',\n",
       " 'VIRAT_S_000001_16234.jpg',\n",
       " 'VIRAT_S_000001_12682.jpg',\n",
       " 'VIRAT_S_000001_16796.jpg',\n",
       " 'VIRAT_S_000001_12241.jpg',\n",
       " 'VIRAT_S_000001_20191.jpg',\n",
       " 'VIRAT_S_000001_10046.jpg',\n",
       " 'VIRAT_S_000001_8530.jpg',\n",
       " 'VIRAT_S_000001_8849.jpg',\n",
       " 'VIRAT_S_000001_7777.jpg',\n",
       " 'VIRAT_S_000001_6480.jpg',\n",
       " 'VIRAT_S_000001_5943.jpg']"
      ]
     },
     "execution_count": 2,
     "metadata": {},
     "output_type": "execute_result"
    }
   ],
   "source": [
    "os.listdir('/Users/p/Documents/Code/VIRAT/VIRAT_Ground_Dataset/Custom/train/images')"
   ]
  },
  {
   "cell_type": "code",
   "execution_count": null,
   "id": "19554e5d",
   "metadata": {},
   "outputs": [],
   "source": []
  }
 ],
 "metadata": {
  "kernelspec": {
   "display_name": "virat3.10",
   "language": "python",
   "name": "virat3.10"
  },
  "language_info": {
   "codemirror_mode": {
    "name": "ipython",
    "version": 3
   },
   "file_extension": ".py",
   "mimetype": "text/x-python",
   "name": "python",
   "nbconvert_exporter": "python",
   "pygments_lexer": "ipython3",
   "version": "3.10.11"
  }
 },
 "nbformat": 4,
 "nbformat_minor": 5
}
