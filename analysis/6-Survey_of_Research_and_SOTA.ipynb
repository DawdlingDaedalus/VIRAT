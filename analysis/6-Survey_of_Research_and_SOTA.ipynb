{
 "cells": [
  {
   "cell_type": "markdown",
   "id": "f36d0500",
   "metadata": {},
   "source": [
    "# Step 6: Survey Existing Research & Reproduce Available Solutions"
   ]
  },
  {
   "cell_type": "markdown",
   "id": "624953f0",
   "metadata": {},
   "source": [
    "### Survey Research"
   ]
  },
  {
   "cell_type": "markdown",
   "id": "b19ac9d8",
   "metadata": {},
   "source": [
    "Publicly Available Benchmark Datasets for Image Recognition and Localization Tasks:\n",
    "- https://www.image-net.org/\n",
    "- https://paperswithcode.com/dataset/pcds\n",
    "- https://viratdata.org/\n",
    "- https://cocodataset.org/#home"
   ]
  },
  {
   "cell_type": "markdown",
   "id": "30259973",
   "metadata": {},
   "source": [
    "Papers on this Topic:\n",
    "- https://openaccess.thecvf.com/WACV2023_workshops/RWS\n",
    "- https://arxiv.org/pdf/1804.04339v2.pdf\n",
    "- https://www.image-net.org/static_files/papers/imagenet_cvpr09.pdf\n",
    "- https://arxiv.org/abs/2110.06864\n",
    "- https://arxiv.org/abs/2207.02696 - YOLOv7\n",
    "- https://arxiv.org/abs/1804.02767 - YOLOv3"
   ]
  },
  {
   "cell_type": "markdown",
   "id": "560cc10b",
   "metadata": {},
   "source": [
    "SOTA Models on this Topic:\n",
    "- YOLOv8 - https://github.com/ultralytics/ultralytics\n",
    "- ByteTrack - https://github.com/ifzhang/ByteTrack\n",
    "- Detectron2 - https://github.com/facebookresearch/detectron2\n",
    "- YOLOv7 - https://github.com/WongKinYiu/yolov7\n",
    "- YOLOv3 - https://github.com/ultralytics/yolov3"
   ]
  },
  {
   "cell_type": "markdown",
   "id": "6f1121bd",
   "metadata": {},
   "source": []
  },
  {
   "cell_type": "markdown",
   "id": "de845b0c",
   "metadata": {},
   "source": []
  },
  {
   "cell_type": "code",
   "execution_count": null,
   "id": "9b7e58a9",
   "metadata": {},
   "outputs": [],
   "source": []
  }
 ],
 "metadata": {
  "kernelspec": {
   "display_name": "virat3.10",
   "language": "python",
   "name": "virat3.10"
  },
  "language_info": {
   "codemirror_mode": {
    "name": "ipython",
    "version": 3
   },
   "file_extension": ".py",
   "mimetype": "text/x-python",
   "name": "python",
   "nbconvert_exporter": "python",
   "pygments_lexer": "ipython3",
   "version": "3.10.11"
  }
 },
 "nbformat": 4,
 "nbformat_minor": 5
}
