{
 "cells": [
  {
   "cell_type": "markdown",
   "id": "accabdb9",
   "metadata": {},
   "source": [
    "# Creating a Custom Dataset for training YOLOv8"
   ]
  },
  {
   "cell_type": "code",
   "execution_count": 51,
   "id": "0c1efd91",
   "metadata": {},
   "outputs": [],
   "source": [
    "import yaml\n",
    "import numpy as np\n",
    "import pandas as pd\n",
    "import os\n",
    "import cv2"
   ]
  },
  {
   "cell_type": "markdown",
   "id": "a7ee4a99",
   "metadata": {},
   "source": [
    "### Get File Names of geom.yml and types.yml annotation files from train and validate folders\n",
    "* `diva_train_path`\n",
    "    - `train_files`\n",
    "* `diva_valid_path`\n",
    "    - `valid_files`"
   ]
  },
  {
   "cell_type": "markdown",
   "id": "52ea9c94",
   "metadata": {},
   "source": [
    "### Some Data Cleaning:\n",
    "#### some files in the 'annotations' don't actually correspond to a VIRAT_Ground_Dataset .mp4 file"
   ]
  },
  {
   "cell_type": "code",
   "execution_count": 75,
   "id": "7a6d5d86",
   "metadata": {
    "scrolled": true
   },
   "outputs": [
    {
     "data": {
      "text/plain": [
       "[('VIRAT_S_000000.geom.yml', 'VIRAT_S_000000.types.yml'),\n",
       " ('VIRAT_S_000001.geom.yml', 'VIRAT_S_000001.types.yml'),\n",
       " ('VIRAT_S_000002.geom.yml', 'VIRAT_S_000002.types.yml'),\n",
       " ('VIRAT_S_000005.geom.yml', 'VIRAT_S_000005.types.yml'),\n",
       " ('VIRAT_S_000200_03_000657_000899.geom.yml',\n",
       "  'VIRAT_S_000200_03_000657_000899.types.yml'),\n",
       " ('VIRAT_S_000200_05_001525_001575.geom.yml',\n",
       "  'VIRAT_S_000200_05_001525_001575.types.yml'),\n",
       " ('VIRAT_S_000201_03_000640_000672.geom.yml',\n",
       "  'VIRAT_S_000201_03_000640_000672.types.yml'),\n",
       " ('VIRAT_S_000201_05_001081_001215.geom.yml',\n",
       "  'VIRAT_S_000201_05_001081_001215.types.yml'),\n",
       " ('VIRAT_S_000201_06_001354_001397.geom.yml',\n",
       "  'VIRAT_S_000201_06_001354_001397.types.yml'),\n",
       " ('VIRAT_S_000201_07_001485_001581.geom.yml',\n",
       "  'VIRAT_S_000201_07_001485_001581.types.yml'),\n",
       " ('VIRAT_S_000201_08_001652_001838.geom.yml',\n",
       "  'VIRAT_S_000201_08_001652_001838.types.yml'),\n",
       " ('VIRAT_S_000202_02_001527_001560.geom.yml',\n",
       "  'VIRAT_S_000202_02_001527_001560.types.yml'),\n",
       " ('VIRAT_S_000202_03_001577_001611.geom.yml',\n",
       "  'VIRAT_S_000202_03_001577_001611.types.yml'),\n",
       " ('VIRAT_S_000202_04_001704_001746.geom.yml',\n",
       "  'VIRAT_S_000202_04_001704_001746.types.yml'),\n",
       " ('VIRAT_S_000203_03_000736_000785.geom.yml',\n",
       "  'VIRAT_S_000203_03_000736_000785.types.yml'),\n",
       " ('VIRAT_S_000203_05_001122_001159.geom.yml',\n",
       "  'VIRAT_S_000203_05_001122_001159.types.yml'),\n",
       " ('VIRAT_S_000203_06_001206_001266.geom.yml',\n",
       "  'VIRAT_S_000203_06_001206_001266.types.yml'),\n",
       " ('VIRAT_S_000203_07_001341_001458.geom.yml',\n",
       "  'VIRAT_S_000203_07_001341_001458.types.yml'),\n",
       " ('VIRAT_S_000204_00_000000_000109.geom.yml',\n",
       "  'VIRAT_S_000204_00_000000_000109.types.yml'),\n",
       " ('VIRAT_S_000204_03_000667_000703.geom.yml',\n",
       "  'VIRAT_S_000204_03_000667_000703.types.yml'),\n",
       " ('VIRAT_S_000204_04_000738_000977.geom.yml',\n",
       "  'VIRAT_S_000204_04_000738_000977.types.yml'),\n",
       " ('VIRAT_S_000204_05_001334_001520.geom.yml',\n",
       "  'VIRAT_S_000204_05_001334_001520.types.yml'),\n",
       " ('VIRAT_S_000205_00_000065_000149.geom.yml',\n",
       "  'VIRAT_S_000205_00_000065_000149.types.yml'),\n",
       " ('VIRAT_S_000205_04_000927_001057.geom.yml',\n",
       "  'VIRAT_S_000205_04_000927_001057.types.yml'),\n",
       " ('VIRAT_S_000205_07_001761_001804.geom.yml',\n",
       "  'VIRAT_S_000205_07_001761_001804.types.yml'),\n",
       " ('VIRAT_S_000206_03_000500_000556.geom.yml',\n",
       "  'VIRAT_S_000206_03_000500_000556.types.yml'),\n",
       " ('VIRAT_S_000206_04_000710_000779.geom.yml',\n",
       "  'VIRAT_S_000206_04_000710_000779.types.yml'),\n",
       " ('VIRAT_S_000206_07_001501_001600.geom.yml',\n",
       "  'VIRAT_S_000206_07_001501_001600.types.yml'),\n",
       " ('VIRAT_S_000207_01_000094_000156.geom.yml',\n",
       "  'VIRAT_S_000207_01_000094_000156.types.yml'),\n",
       " ('VIRAT_S_000207_04_000902_000934.geom.yml',\n",
       "  'VIRAT_S_000207_04_000902_000934.types.yml'),\n",
       " ('VIRAT_S_040000_02_000111_000145.geom.yml',\n",
       "  'VIRAT_S_040000_02_000111_000145.types.yml'),\n",
       " ('VIRAT_S_040000_03_000221_000372.geom.yml',\n",
       "  'VIRAT_S_040000_03_000221_000372.types.yml'),\n",
       " ('VIRAT_S_040000_05_000668_000703.geom.yml',\n",
       "  'VIRAT_S_040000_05_000668_000703.types.yml'),\n",
       " ('VIRAT_S_040001_00_000035_000319.geom.yml',\n",
       "  'VIRAT_S_040001_00_000035_000319.types.yml'),\n",
       " ('VIRAT_S_040001_01_000448_001101.geom.yml',\n",
       "  'VIRAT_S_040001_01_000448_001101.types.yml'),\n",
       " ('VIRAT_S_040001_03_001531_001595.geom.yml',\n",
       "  'VIRAT_S_040001_03_001531_001595.types.yml'),\n",
       " ('VIRAT_S_040002_03_001525_001569.geom.yml',\n",
       "  'VIRAT_S_040002_03_001525_001569.types.yml'),\n",
       " ('VIRAT_S_040003_04_000758_001118.geom.yml',\n",
       "  'VIRAT_S_040003_04_000758_001118.types.yml'),\n",
       " ('VIRAT_S_040003_06_001441_001518.geom.yml',\n",
       "  'VIRAT_S_040003_06_001441_001518.types.yml'),\n",
       " ('VIRAT_S_040004_00_000011_000093.geom.yml',\n",
       "  'VIRAT_S_040004_00_000011_000093.types.yml'),\n",
       " ('VIRAT_S_040005_00_000003_000058.geom.yml',\n",
       "  'VIRAT_S_040005_00_000003_000058.types.yml'),\n",
       " ('VIRAT_S_040005_07_001026_001223.geom.yml',\n",
       "  'VIRAT_S_040005_07_001026_001223.types.yml'),\n",
       " ('VIRAT_S_040100_01_000347_000432.geom.yml',\n",
       "  'VIRAT_S_040100_01_000347_000432.types.yml'),\n",
       " ('VIRAT_S_040101_02_000224_000440.geom.yml',\n",
       "  'VIRAT_S_040101_02_000224_000440.types.yml'),\n",
       " ('VIRAT_S_040101_03_000460_000551.geom.yml',\n",
       "  'VIRAT_S_040101_03_000460_000551.types.yml'),\n",
       " ('VIRAT_S_040101_04_000562_000679.geom.yml',\n",
       "  'VIRAT_S_040101_04_000562_000679.types.yml'),\n",
       " ('VIRAT_S_040102_08_000986_001090.geom.yml',\n",
       "  'VIRAT_S_040102_08_000986_001090.types.yml'),\n",
       " ('VIRAT_S_040102_10_001258_001408.geom.yml',\n",
       "  'VIRAT_S_040102_10_001258_001408.types.yml'),\n",
       " ('VIRAT_S_040102_13_001557_001589.geom.yml',\n",
       "  'VIRAT_S_040102_13_001557_001589.types.yml'),\n",
       " ('VIRAT_S_040103_05_000729_000804.geom.yml',\n",
       "  'VIRAT_S_040103_05_000729_000804.types.yml'),\n",
       " ('VIRAT_S_040103_07_001011_001093.geom.yml',\n",
       "  'VIRAT_S_040103_07_001011_001093.types.yml'),\n",
       " ('VIRAT_S_040103_08_001475_001512.geom.yml',\n",
       "  'VIRAT_S_040103_08_001475_001512.types.yml'),\n",
       " ('VIRAT_S_040104_00_000120_000224.geom.yml',\n",
       "  'VIRAT_S_040104_00_000120_000224.types.yml'),\n",
       " ('VIRAT_S_040104_01_000227_000457.geom.yml',\n",
       "  'VIRAT_S_040104_01_000227_000457.types.yml'),\n",
       " ('VIRAT_S_040104_04_000854_000934.geom.yml',\n",
       "  'VIRAT_S_040104_04_000854_000934.types.yml'),\n",
       " ('VIRAT_S_040104_05_000939_001116.geom.yml',\n",
       "  'VIRAT_S_040104_05_000939_001116.types.yml'),\n",
       " ('VIRAT_S_040104_06_001121_001241.geom.yml',\n",
       "  'VIRAT_S_040104_06_001121_001241.types.yml'),\n",
       " ('VIRAT_S_040104_08_001353_001470.geom.yml',\n",
       "  'VIRAT_S_040104_08_001353_001470.types.yml'),\n",
       " ('VIRAT_S_050000_01_000207_000361.geom.yml',\n",
       "  'VIRAT_S_050000_01_000207_000361.types.yml'),\n",
       " ('VIRAT_S_050000_04_000640_000690.geom.yml',\n",
       "  'VIRAT_S_050000_04_000640_000690.types.yml'),\n",
       " ('VIRAT_S_050000_05_000696_000732.geom.yml',\n",
       "  'VIRAT_S_050000_05_000696_000732.types.yml'),\n",
       " ('VIRAT_S_050000_07_001014_001126.geom.yml',\n",
       "  'VIRAT_S_050000_07_001014_001126.types.yml'),\n",
       " ('VIRAT_S_050000_10_001462_001491.geom.yml',\n",
       "  'VIRAT_S_050000_10_001462_001491.types.yml'),\n",
       " ('VIRAT_S_050000_12_001591_001619.geom.yml',\n",
       "  'VIRAT_S_050000_12_001591_001619.types.yml')]"
      ]
     },
     "execution_count": 75,
     "metadata": {},
     "output_type": "execute_result"
    }
   ],
   "source": [
    "# get diva annotation files from training folder\n",
    "diva_train_path = '/Users/p/Documents/Code/VIRAT/VIRAT_Ground_Dataset/diva_annotations/train'\n",
    "train_dir = os.listdir(diva_train_path)\n",
    "keep_these = {\".geom\", \"types\"}\n",
    "train_geom_types = sorted([item for item in train_dir if item[-9:-4] in keep_these])\n",
    "train_files = list(zip(train_geom_types[::2], train_geom_types[1::2]))\n",
    "train_files"
   ]
  },
  {
   "cell_type": "code",
   "execution_count": 81,
   "id": "0ed12cca",
   "metadata": {},
   "outputs": [],
   "source": [
    "annotations_list = [item[0].split('.')[0] for item in train_files]\n",
    "videos_list_ = sorted(os.listdir('/Users/p/Documents/Code/VIRAT/VIRAT_Ground_Dataset/videos_original'))\n",
    "videos_list = [item.split('.')[0] for item in videos_list_]"
   ]
  },
  {
   "cell_type": "code",
   "execution_count": 84,
   "id": "cede533d",
   "metadata": {},
   "outputs": [
    {
     "data": {
      "text/plain": [
       "64"
      ]
     },
     "execution_count": 84,
     "metadata": {},
     "output_type": "execute_result"
    }
   ],
   "source": [
    "len(annotations_list)"
   ]
  },
  {
   "cell_type": "code",
   "execution_count": 85,
   "id": "2dc9cb66",
   "metadata": {},
   "outputs": [
    {
     "data": {
      "text/plain": [
       "329"
      ]
     },
     "execution_count": 85,
     "metadata": {},
     "output_type": "execute_result"
    }
   ],
   "source": [
    "len(videos_list)"
   ]
  },
  {
   "cell_type": "code",
   "execution_count": 87,
   "id": "196185fa",
   "metadata": {},
   "outputs": [
    {
     "data": {
      "text/plain": [
       "['VIRAT_S_000000',\n",
       " 'VIRAT_S_000005',\n",
       " 'VIRAT_S_000202_02_001527_001560',\n",
       " 'VIRAT_S_000202_03_001577_001611',\n",
       " 'VIRAT_S_000202_04_001704_001746',\n",
       " 'VIRAT_S_000204_00_000000_000109',\n",
       " 'VIRAT_S_000204_03_000667_000703',\n",
       " 'VIRAT_S_000204_04_000738_000977',\n",
       " 'VIRAT_S_000204_05_001334_001520',\n",
       " 'VIRAT_S_000205_07_001761_001804',\n",
       " 'VIRAT_S_000206_03_000500_000556',\n",
       " 'VIRAT_S_000206_04_000710_000779',\n",
       " 'VIRAT_S_040100_01_000347_000432',\n",
       " 'VIRAT_S_040101_02_000224_000440',\n",
       " 'VIRAT_S_040101_03_000460_000551',\n",
       " 'VIRAT_S_040101_04_000562_000679',\n",
       " 'VIRAT_S_040102_08_000986_001090',\n",
       " 'VIRAT_S_040102_10_001258_001408',\n",
       " 'VIRAT_S_040102_13_001557_001589']"
      ]
     },
     "execution_count": 87,
     "metadata": {},
     "output_type": "execute_result"
    }
   ],
   "source": [
    "dont_exist = []\n",
    "for i in range(len(annotations_list)):\n",
    "    if annotations_list[i] not in videos_list:\n",
    "        dont_exist.append(annotations_list[i])\n",
    "dont_exist"
   ]
  },
  {
   "cell_type": "code",
   "execution_count": 88,
   "id": "72ee3ea9",
   "metadata": {},
   "outputs": [],
   "source": [
    "remove_these = [(item+'.geom.yml', item+'.types.yml') for item in dont_exist]"
   ]
  },
  {
   "cell_type": "code",
   "execution_count": 89,
   "id": "87aa2be6",
   "metadata": {},
   "outputs": [
    {
     "data": {
      "text/plain": [
       "64"
      ]
     },
     "execution_count": 89,
     "metadata": {},
     "output_type": "execute_result"
    }
   ],
   "source": [
    "len(train_files)"
   ]
  },
  {
   "cell_type": "code",
   "execution_count": 90,
   "id": "997fd6f2",
   "metadata": {},
   "outputs": [],
   "source": [
    "for i in range(len(remove_these)):\n",
    "    train_files.remove(remove_these[i])"
   ]
  },
  {
   "cell_type": "code",
   "execution_count": 91,
   "id": "7e712ddb",
   "metadata": {},
   "outputs": [
    {
     "data": {
      "text/plain": [
       "45"
      ]
     },
     "execution_count": 91,
     "metadata": {},
     "output_type": "execute_result"
    }
   ],
   "source": [
    "len(train_files)"
   ]
  },
  {
   "cell_type": "code",
   "execution_count": 95,
   "id": "5b5eacce",
   "metadata": {
    "scrolled": true
   },
   "outputs": [
    {
     "data": {
      "text/plain": [
       "[('VIRAT_S_000007.geom.yml', 'VIRAT_S_000007.types.yml'),\n",
       " ('VIRAT_S_000008.geom.yml', 'VIRAT_S_000008.types.yml'),\n",
       " ('VIRAT_S_000200_00_000100_000171.geom.yml',\n",
       "  'VIRAT_S_000200_00_000100_000171.types.yml'),\n",
       " ('VIRAT_S_000200_02_000479_000635.geom.yml',\n",
       "  'VIRAT_S_000200_02_000479_000635.types.yml'),\n",
       " ('VIRAT_S_000201_00_000018_000380.geom.yml',\n",
       "  'VIRAT_S_000201_00_000018_000380.types.yml'),\n",
       " ('VIRAT_S_000201_01_000384_000589.geom.yml',\n",
       "  'VIRAT_S_000201_01_000384_000589.types.yml'),\n",
       " ('VIRAT_S_000201_02_000590_000623.geom.yml',\n",
       "  'VIRAT_S_000201_02_000590_000623.types.yml'),\n",
       " ('VIRAT_S_000201_04_000682_000822.geom.yml',\n",
       "  'VIRAT_S_000201_04_000682_000822.types.yml'),\n",
       " ('VIRAT_S_000203_01_000171_000345.geom.yml',\n",
       "  'VIRAT_S_000203_01_000171_000345.types.yml'),\n",
       " ('VIRAT_S_000203_08_001702_001734.geom.yml',\n",
       "  'VIRAT_S_000203_08_001702_001734.types.yml'),\n",
       " ('VIRAT_S_000204_07_001577_001611.geom.yml',\n",
       "  'VIRAT_S_000204_07_001577_001611.types.yml'),\n",
       " ('VIRAT_S_000204_09_001768_001849.geom.yml',\n",
       "  'VIRAT_S_000204_09_001768_001849.types.yml'),\n",
       " ('VIRAT_S_000205_01_000197_000342.geom.yml',\n",
       "  'VIRAT_S_000205_01_000197_000342.types.yml'),\n",
       " ('VIRAT_S_000205_02_000409_000566.geom.yml',\n",
       "  'VIRAT_S_000205_02_000409_000566.types.yml'),\n",
       " ('VIRAT_S_000205_03_000860_000922.geom.yml',\n",
       "  'VIRAT_S_000205_03_000860_000922.types.yml'),\n",
       " ('VIRAT_S_000205_05_001092_001124.geom.yml',\n",
       "  'VIRAT_S_000205_05_001092_001124.types.yml'),\n",
       " ('VIRAT_S_000205_06_001566_001631.geom.yml',\n",
       "  'VIRAT_S_000205_06_001566_001631.types.yml'),\n",
       " ('VIRAT_S_000206_00_000025_000058.geom.yml',\n",
       "  'VIRAT_S_000206_00_000025_000058.types.yml'),\n",
       " ('VIRAT_S_000206_01_000148_000184.geom.yml',\n",
       "  'VIRAT_S_000206_01_000148_000184.types.yml'),\n",
       " ('VIRAT_S_000206_02_000294_000327.geom.yml',\n",
       "  'VIRAT_S_000206_02_000294_000327.types.yml'),\n",
       " ('VIRAT_S_000206_08_001618_001712.geom.yml',\n",
       "  'VIRAT_S_000206_08_001618_001712.types.yml'),\n",
       " ('VIRAT_S_000207_02_000498_000530.geom.yml',\n",
       "  'VIRAT_S_000207_02_000498_000530.types.yml'),\n",
       " ('VIRAT_S_000207_03_000556_000590.geom.yml',\n",
       "  'VIRAT_S_000207_03_000556_000590.types.yml'),\n",
       " ('VIRAT_S_040000_00_000000_000036.geom.yml',\n",
       "  'VIRAT_S_040000_00_000000_000036.types.yml'),\n",
       " ('VIRAT_S_040000_01_000042_000099.geom.yml',\n",
       "  'VIRAT_S_040000_01_000042_000099.types.yml'),\n",
       " ('VIRAT_S_040000_04_000532_000622.geom.yml',\n",
       "  'VIRAT_S_040000_04_000532_000622.types.yml'),\n",
       " ('VIRAT_S_040000_08_001084_001190.geom.yml',\n",
       "  'VIRAT_S_040000_08_001084_001190.types.yml'),\n",
       " ('VIRAT_S_040000_09_001194_001574.geom.yml',\n",
       "  'VIRAT_S_040000_09_001194_001574.types.yml'),\n",
       " ('VIRAT_S_040003_00_000000_000072.geom.yml',\n",
       "  'VIRAT_S_040003_00_000000_000072.types.yml'),\n",
       " ('VIRAT_S_040003_01_000083_000193.geom.yml',\n",
       "  'VIRAT_S_040003_01_000083_000193.types.yml'),\n",
       " ('VIRAT_S_040003_02_000197_000552.geom.yml',\n",
       "  'VIRAT_S_040003_02_000197_000552.types.yml'),\n",
       " ('VIRAT_S_040005_06_000886_001016.geom.yml',\n",
       "  'VIRAT_S_040005_06_000886_001016.types.yml'),\n",
       " ('VIRAT_S_040005_08_001225_001276.geom.yml',\n",
       "  'VIRAT_S_040005_08_001225_001276.types.yml'),\n",
       " ('VIRAT_S_040100_03_000496_000559.geom.yml',\n",
       "  'VIRAT_S_040100_03_000496_000559.types.yml'),\n",
       " ('VIRAT_S_040100_04_000626_000689.geom.yml',\n",
       "  'VIRAT_S_040100_04_000626_000689.types.yml'),\n",
       " ('VIRAT_S_040100_05_000696_000762.geom.yml',\n",
       "  'VIRAT_S_040100_05_000696_000762.types.yml'),\n",
       " ('VIRAT_S_040100_06_000767_000988.geom.yml',\n",
       "  'VIRAT_S_040100_06_000767_000988.types.yml'),\n",
       " ('VIRAT_S_040100_07_001043_001099.geom.yml',\n",
       "  'VIRAT_S_040100_07_001043_001099.types.yml'),\n",
       " ('VIRAT_S_040100_08_001103_001181.geom.yml',\n",
       "  'VIRAT_S_040100_08_001103_001181.types.yml'),\n",
       " ('VIRAT_S_040100_09_001186_001533.geom.yml',\n",
       "  'VIRAT_S_040100_09_001186_001533.types.yml'),\n",
       " ('VIRAT_S_040101_05_000722_001547.geom.yml',\n",
       "  'VIRAT_S_040101_05_000722_001547.types.yml'),\n",
       " ('VIRAT_S_040101_06_001557_001590.geom.yml',\n",
       "  'VIRAT_S_040101_06_001557_001590.types.yml'),\n",
       " ('VIRAT_S_040102_04_000596_000689.geom.yml',\n",
       "  'VIRAT_S_040102_04_000596_000689.types.yml'),\n",
       " ('VIRAT_S_040102_06_000849_000908.geom.yml',\n",
       "  'VIRAT_S_040102_06_000849_000908.types.yml'),\n",
       " ('VIRAT_S_040102_07_000916_000983.geom.yml',\n",
       "  'VIRAT_S_040102_07_000916_000983.types.yml'),\n",
       " ('VIRAT_S_040103_00_000000_000120.geom.yml',\n",
       "  'VIRAT_S_040103_00_000000_000120.types.yml'),\n",
       " ('VIRAT_S_040103_01_000132_000195.geom.yml',\n",
       "  'VIRAT_S_040103_01_000132_000195.types.yml'),\n",
       " ('VIRAT_S_040103_02_000199_000279.geom.yml',\n",
       "  'VIRAT_S_040103_02_000199_000279.types.yml'),\n",
       " ('VIRAT_S_040103_03_000284_000425.geom.yml',\n",
       "  'VIRAT_S_040103_03_000284_000425.types.yml'),\n",
       " ('VIRAT_S_040103_06_000836_000909.geom.yml',\n",
       "  'VIRAT_S_040103_06_000836_000909.types.yml'),\n",
       " ('VIRAT_S_040104_07_001268_001348.geom.yml',\n",
       "  'VIRAT_S_040104_07_001268_001348.types.yml'),\n",
       " ('VIRAT_S_050000_06_000908_000970.geom.yml',\n",
       "  'VIRAT_S_050000_06_000908_000970.types.yml'),\n",
       " ('VIRAT_S_050000_08_001235_001295.geom.yml',\n",
       "  'VIRAT_S_050000_08_001235_001295.types.yml'),\n",
       " ('VIRAT_S_050000_09_001310_001373.geom.yml',\n",
       "  'VIRAT_S_050000_09_001310_001373.types.yml'),\n",
       " ('VIRAT_S_050000_11_001530_001576.geom.yml',\n",
       "  'VIRAT_S_050000_11_001530_001576.types.yml')]"
      ]
     },
     "execution_count": 95,
     "metadata": {},
     "output_type": "execute_result"
    }
   ],
   "source": [
    "# get diva annotation files from validation folder\n",
    "diva_validate_path = '/Users/p/Documents/Code/VIRAT/VIRAT_Ground_Dataset/diva_annotations/validate'\n",
    "valid_dir = os.listdir(diva_validate_path)\n",
    "keep_these = {\".geom\", \"types\"}\n",
    "valid_geom_types = sorted([item for item in valid_dir if item[-9:-4] in keep_these])\n",
    "valid_files = list(zip(valid_geom_types[::2], valid_geom_types[1::2]))\n",
    "valid_files"
   ]
  },
  {
   "cell_type": "code",
   "execution_count": 97,
   "id": "b1c37334",
   "metadata": {},
   "outputs": [],
   "source": [
    "annotations_list = [item[0].split('.')[0] for item in valid_files]\n",
    "videos_list_ = sorted(os.listdir('/Users/p/Documents/Code/VIRAT/VIRAT_Ground_Dataset/videos_original'))\n",
    "videos_list = [item.split('.')[0] for item in videos_list_]"
   ]
  },
  {
   "cell_type": "code",
   "execution_count": 98,
   "id": "818eb239",
   "metadata": {},
   "outputs": [
    {
     "data": {
      "text/plain": [
       "['VIRAT_S_000007',\n",
       " 'VIRAT_S_000008',\n",
       " 'VIRAT_S_000203_01_000171_000345',\n",
       " 'VIRAT_S_000204_07_001577_001611',\n",
       " 'VIRAT_S_000204_09_001768_001849',\n",
       " 'VIRAT_S_000205_06_001566_001631',\n",
       " 'VIRAT_S_000206_00_000025_000058',\n",
       " 'VIRAT_S_000206_01_000148_000184',\n",
       " 'VIRAT_S_000206_02_000294_000327',\n",
       " 'VIRAT_S_040100_03_000496_000559',\n",
       " 'VIRAT_S_040100_04_000626_000689',\n",
       " 'VIRAT_S_040100_05_000696_000762',\n",
       " 'VIRAT_S_040100_06_000767_000988',\n",
       " 'VIRAT_S_040100_07_001043_001099',\n",
       " 'VIRAT_S_040100_08_001103_001181',\n",
       " 'VIRAT_S_040100_09_001186_001533',\n",
       " 'VIRAT_S_040101_05_000722_001547',\n",
       " 'VIRAT_S_040101_06_001557_001590',\n",
       " 'VIRAT_S_040102_04_000596_000689',\n",
       " 'VIRAT_S_040102_06_000849_000908',\n",
       " 'VIRAT_S_040102_07_000916_000983']"
      ]
     },
     "execution_count": 98,
     "metadata": {},
     "output_type": "execute_result"
    }
   ],
   "source": [
    "dont_exist = []\n",
    "for i in range(len(annotations_list)):\n",
    "    if annotations_list[i] not in videos_list:\n",
    "        dont_exist.append(annotations_list[i])\n",
    "dont_exist"
   ]
  },
  {
   "cell_type": "code",
   "execution_count": 99,
   "id": "1752c232",
   "metadata": {},
   "outputs": [
    {
     "data": {
      "text/plain": [
       "55"
      ]
     },
     "execution_count": 99,
     "metadata": {},
     "output_type": "execute_result"
    }
   ],
   "source": [
    "len(valid_files)"
   ]
  },
  {
   "cell_type": "code",
   "execution_count": 101,
   "id": "a09d473e",
   "metadata": {},
   "outputs": [],
   "source": [
    "remove_these = [(item+'.geom.yml', item+'.types.yml') for item in dont_exist]"
   ]
  },
  {
   "cell_type": "code",
   "execution_count": 102,
   "id": "1bffc3e7",
   "metadata": {},
   "outputs": [],
   "source": [
    "for i in range(len(remove_these)):\n",
    "    valid_files.remove(remove_these[i])"
   ]
  },
  {
   "cell_type": "code",
   "execution_count": 103,
   "id": "d38e1133",
   "metadata": {},
   "outputs": [
    {
     "data": {
      "text/plain": [
       "34"
      ]
     },
     "execution_count": 103,
     "metadata": {},
     "output_type": "execute_result"
    }
   ],
   "source": [
    "len(valid_files)"
   ]
  },
  {
   "cell_type": "markdown",
   "id": "53769764",
   "metadata": {},
   "source": [
    "### Take a sample of the Train and Validate files for data extraction\n",
    "- 30 from Train\n",
    "- 10 from Validate"
   ]
  },
  {
   "cell_type": "code",
   "execution_count": 104,
   "id": "80bca9d9",
   "metadata": {},
   "outputs": [],
   "source": [
    "import random\n",
    "random.seed(40)\n",
    "\n",
    "train_sample = sorted(random.sample(train_files, 30))\n",
    "valid_sample = sorted(random.sample(valid_files, 10))"
   ]
  },
  {
   "cell_type": "code",
   "execution_count": 105,
   "id": "e3b13009",
   "metadata": {
    "scrolled": true
   },
   "outputs": [
    {
     "data": {
      "text/plain": [
       "30"
      ]
     },
     "execution_count": 105,
     "metadata": {},
     "output_type": "execute_result"
    }
   ],
   "source": [
    "len(train_sample)"
   ]
  },
  {
   "cell_type": "code",
   "execution_count": 106,
   "id": "bd785b8b",
   "metadata": {
    "scrolled": true
   },
   "outputs": [
    {
     "data": {
      "text/plain": [
       "10"
      ]
     },
     "execution_count": 106,
     "metadata": {},
     "output_type": "execute_result"
    }
   ],
   "source": [
    "len(valid_sample)"
   ]
  },
  {
   "cell_type": "markdown",
   "id": "ba4971d0",
   "metadata": {},
   "source": [
    "### Match Annotation Files to Video Files\n",
    "* `train_sample` <--> `train_files`\n",
    "* `valid_sample` <--> `valid_files`"
   ]
  },
  {
   "cell_type": "code",
   "execution_count": 107,
   "id": "2943d8b1",
   "metadata": {
    "scrolled": true
   },
   "outputs": [
    {
     "data": {
      "text/plain": [
       "30"
      ]
     },
     "execution_count": 107,
     "metadata": {},
     "output_type": "execute_result"
    }
   ],
   "source": [
    "train_files = []\n",
    "\n",
    "for i in range(len(train_sample)):\n",
    "    this_file = train_sample[i][0].split('.')[0]\n",
    "    this_file += '.mp4'\n",
    "    train_files.append((train_sample[i][0], train_sample[i][1], this_file))\n",
    "len(train_files)"
   ]
  },
  {
   "cell_type": "code",
   "execution_count": 108,
   "id": "6b50443d",
   "metadata": {},
   "outputs": [
    {
     "name": "stdout",
     "output_type": "stream",
     "text": [
      "VIRAT_S_040104_06_001121_001241.geom.yml\n",
      "VIRAT_S_040104_06_001121_001241.types.yml\n",
      "VIRAT_S_040104_06_001121_001241.mp4\n"
     ]
    }
   ],
   "source": [
    "for i in range(3):\n",
    "    print(train_files[27][i])"
   ]
  },
  {
   "cell_type": "code",
   "execution_count": 109,
   "id": "24985c76",
   "metadata": {},
   "outputs": [
    {
     "data": {
      "text/plain": [
       "10"
      ]
     },
     "execution_count": 109,
     "metadata": {},
     "output_type": "execute_result"
    }
   ],
   "source": [
    "valid_files = []\n",
    "\n",
    "for i in range(len(valid_sample)):\n",
    "    this_file = valid_sample[i][0].split('.')[0]\n",
    "    this_file += '.mp4'\n",
    "    valid_files.append((valid_sample[i][0], valid_sample[i][1], this_file))\n",
    "len(valid_files)"
   ]
  },
  {
   "cell_type": "code",
   "execution_count": 110,
   "id": "73b551bb",
   "metadata": {},
   "outputs": [
    {
     "name": "stdout",
     "output_type": "stream",
     "text": [
      "VIRAT_S_040103_00_000000_000120.geom.yml\n",
      "VIRAT_S_040103_00_000000_000120.types.yml\n",
      "VIRAT_S_040103_00_000000_000120.mp4\n"
     ]
    }
   ],
   "source": [
    "for i in range(3):\n",
    "    print(valid_files[7][i])"
   ]
  },
  {
   "cell_type": "markdown",
   "id": "230e066d",
   "metadata": {},
   "source": [
    "### Get 200 images of 'Persons' with ground truth from each video.\n",
    "#### Training"
   ]
  },
  {
   "cell_type": "markdown",
   "id": "ed44c24f",
   "metadata": {},
   "source": [
    "1. Import geom.yml and types.yml files\n",
    "2. get dataframe from (1)\n",
    "3. Filter for 'Persons' and create sample of frames\n",
    "4. Write frames as .jpgs in Custom_Dataset/train/images/ folder with '[file-prefix]_[frame-num].jpg' as file name\n",
    "5. Write .txt files by Querying full dataframe per frame for detections' labels and bboxes. write to Custom_Dataset/train/labels/ folder with '[file-prefix]_[frame-num].txt' as file name\n",
    "6. Repeat 1-5 for Validation Set"
   ]
  },
  {
   "cell_type": "code",
   "execution_count": 111,
   "id": "49001b40",
   "metadata": {},
   "outputs": [],
   "source": [
    "diva_train_path = '/Users/p/Documents/Code/VIRAT/VIRAT_Ground_Dataset/diva_annotations/train'\n",
    "\n",
    "def get_geom_types(files_pos):\n",
    "    '''\n",
    "    Reads .yml files into python dictionaries...\n",
    "    takes a while...\n",
    "    '''\n",
    "    \n",
    "    # geom\n",
    "    geom_path = diva_train_path + '/' + train_files[files_pos][0]\n",
    "    with open(geom_path, 'r') as file:\n",
    "        geom = yaml.safe_load(file)\n",
    "\n",
    "    # types\n",
    "    types_path = diva_train_path + '/' + train_files[files_pos][1]\n",
    "    with open(types_path, 'r') as file:\n",
    "        types = yaml.safe_load(file)\n",
    "    \n",
    "    return geom, types"
   ]
  },
  {
   "cell_type": "code",
   "execution_count": 112,
   "id": "42556b10",
   "metadata": {},
   "outputs": [],
   "source": [
    "# Turns the geom.yml and types.yml files into a single dataframe\n",
    "\n",
    "def get_df(geom, types):\n",
    "    '''\n",
    "    returns a dataframe from the geom and types dictionaries\n",
    "    '''\n",
    "    id0 = []  # unique detection index\n",
    "    id1 = []  # track_id\n",
    "    ts0 = []  # frame\n",
    "    labels = []  # string class labels\n",
    "    labels_ints = []  # integer class labels\n",
    "    confs = []\n",
    "    xmin, ymin, xmax, ymax = [], [], [], []\n",
    "\n",
    "    for i in geom:\n",
    "      try:\n",
    "        if i['geom']['ts0'] is not None:  # populates detections data from geom file\n",
    "          id0.append(i['geom']['id0'])\n",
    "          id1.append(i['geom']['id1'])\n",
    "          ts0.append(i['geom']['ts0'])\n",
    "          bb = i['geom']['g0'].split(' ')\n",
    "          xmin.append(int(bb[0]))\n",
    "          ymin.append(int(bb[1]))\n",
    "          xmax.append(int(bb[2]))\n",
    "          ymax.append(int(bb[3]))\n",
    "\n",
    "          for j in types:\n",
    "            try:\n",
    "              if j['types']['id1'] == id1[-1]:  # pulls labels and confidences (by track id --> 'id1') from types.yaml file\n",
    "                label, conf = next(iter(j['types']['cset3'].items()))\n",
    "                confs.append(conf)\n",
    "                labels.append(label)\n",
    "                # also save labels as ints for comparison with YOLOv8 Predictions later on\n",
    "                if label == 'Person':\n",
    "                  labels_ints.append(0)\n",
    "                elif label == 'Bike':\n",
    "                  labels_ints.append(1)\n",
    "                elif label == 'Vehicle':\n",
    "                  labels_ints.append(2)\n",
    "                else:\n",
    "                  labels_ints.append(-1)\n",
    "            except:\n",
    "              pass\n",
    "      except:\n",
    "        pass\n",
    "\n",
    "    gt = {'idx_gt': id0, 'track_id_gt': id1, 'label_gt': labels,\n",
    "          'label_as_int_gt': labels_ints, 'conf_gt': confs, 'frame_gt': ts0,\n",
    "          'xmin_gt': xmin, 'ymin_gt': ymin, 'xmax_gt': xmax, 'ymax_gt': ymax}\n",
    "    df = pd.DataFrame(gt)\n",
    "    \n",
    "    print('df is created!')\n",
    "    return df"
   ]
  },
  {
   "cell_type": "code",
   "execution_count": 118,
   "id": "86be84d3",
   "metadata": {},
   "outputs": [],
   "source": [
    "# sample and filter the df\n",
    "def filter_and_sample(df):\n",
    "    '''filters and samples from a dataframe\n",
    "    \n",
    "    returns: list of frame numbers\n",
    "    '''\n",
    "    # filter for cars and people\n",
    "    df_persons = df[df['label_as_int_gt'] == 0]\n",
    "    # sample of the df\n",
    "    df_persons_200 = df_persons.sample(n=min(len(df_persons), 200))\n",
    "    persons_frames = sorted(df_persons_200['frame_gt'].to_list())\n",
    "    print('len(persons_frames): ', len(persons_frames))\n",
    "    \n",
    "    return persons_frames"
   ]
  },
  {
   "cell_type": "code",
   "execution_count": 114,
   "id": "b7a92dae",
   "metadata": {},
   "outputs": [],
   "source": [
    "def convert_bbox_format(bbox, total_width, total_height):\n",
    "    \"\"\"\n",
    "    Converts bounding box from [xmin, ymin, xmax, ymax] format to \n",
    "    normalized [x_mid, y_mid, width, height] format.\n",
    "\n",
    "    Parameters:\n",
    "    bbox (list): A list of 4 floats: [xmin, ymin, xmax, ymax].\n",
    "    total_width (int): The total width of the encoded frame.\n",
    "    total_height (int): The total height of the encoded frame.\n",
    "\n",
    "    Returns:\n",
    "    list: A list of 4 floats: [x_mid, y_mid, width, height] where these values \n",
    "    have been normalized with respect to total_width and total_height.\n",
    "    \"\"\"\n",
    "    xmin, ymin, xmax, ymax = bbox\n",
    "    width = xmax - xmin\n",
    "    height = ymax - ymin\n",
    "    x_mid = xmin + width / 2\n",
    "    y_mid = ymin + height / 2\n",
    "    \n",
    "    # Normalize the coordinates and dimensions\n",
    "    x_mid /= total_width\n",
    "    y_mid /= total_height\n",
    "    width /= total_width\n",
    "    height /= total_height\n",
    "    \n",
    "    return [x_mid, y_mid, width, height]"
   ]
  },
  {
   "cell_type": "code",
   "execution_count": 119,
   "id": "a9d3ebff",
   "metadata": {},
   "outputs": [],
   "source": [
    "def write_files(files_pos, persons_frames, df):\n",
    "\n",
    "    # write .jpgs and .txts for all frames of train_files[files_pos][3]\n",
    "    # to '/Users/p/Documents/Code/VIRAT/VIRAT_Ground_Dataset/Custom/train/[images, labels]'\n",
    "    vid_path = '/Users/p/Documents/Code/VIRAT/VIRAT_Ground_Dataset/videos_original/'\n",
    "    this_vid_path = vid_path + train_files[files_pos][2]\n",
    "\n",
    "    # begin video capture\n",
    "    cap = cv2.VideoCapture(this_vid_path)\n",
    "\n",
    "    total_width = cap.get(cv2.CAP_PROP_FRAME_WIDTH)\n",
    "    total_height = cap.get(cv2.CAP_PROP_FRAME_HEIGHT)\n",
    "\n",
    "    for i in persons_frames:\n",
    "        # write .txt files:\n",
    "        # get persons in frame\n",
    "        persons_in_frame_df = df[(df['frame_gt'] == i) & (df['label_as_int_gt'] == 0)]\n",
    "\n",
    "        write_this = \"\"\n",
    "        for j in range(len(persons_in_frame_df)):\n",
    "            this_person = persons_in_frame_df.iloc[j]\n",
    "            label = this_person['label_as_int_gt']\n",
    "            xmin = float(this_person['xmin_gt'])\n",
    "            ymin = float(this_person['ymin_gt'])\n",
    "            xmax = float(this_person['xmax_gt'])\n",
    "            ymax = float(this_person['ymax_gt'])\n",
    "            x_mid, y_mid, width, height = convert_bbox_format([xmin,ymin,xmax,ymax], total_width, total_height)\n",
    "\n",
    "            # create string for .txt file\n",
    "            write_this += str(label) + ' ' + str(x_mid) + ' ' + str(y_mid) + ' ' + str(width) + ' ' + str(height)\n",
    "            if j != (len(persons_in_frame_df) - 1):\n",
    "                write_this += '\\n'\n",
    "\n",
    "        # write the .txt file\n",
    "        labels_loc = '/Users/p/Documents/Code/VIRAT/VIRAT_Ground_Dataset/Custom/train/labels/'\n",
    "        txt_path = labels_loc + train_files[files_pos][2].split('.')[0] + '_' + str(i) + '.txt'\n",
    "        with open(txt_path, 'w') as f:\n",
    "            f.write(write_this)\n",
    "\n",
    "        # write .jpg files:\n",
    "        cap.set(cv2.CAP_PROP_POS_FRAMES, p)  # set frame position\n",
    "        success, frame = cap.read()  # read frame\n",
    "        if not success:\n",
    "            print(\"Failed to read the frame\")\n",
    "        if success:\n",
    "            images_loc = '/Users/p/Documents/Code/VIRAT/VIRAT_Ground_Dataset/Custom/train/images/'\n",
    "            filepath = images_loc + train_files[files_pos][2].split('.')[0] + '_' + str(i) + '.jpg'\n",
    "            cv2.imwrite(filepath, frame)  # write frame to .jpg and store in parent folder\n",
    "\n",
    "    # end capture\n",
    "    cap.release()"
   ]
  },
  {
   "cell_type": "code",
   "execution_count": 116,
   "id": "19554e5d",
   "metadata": {},
   "outputs": [
    {
     "name": "stdout",
     "output_type": "stream",
     "text": [
      "df is created!\n",
      "len(persons_frames):  200\n",
      "df is created!\n",
      "len(persons_frames):  200\n",
      "df is created!\n",
      "len(persons_frames):  200\n",
      "df is created!\n",
      "len(persons_frames):  200\n",
      "df is created!\n",
      "len(persons_frames):  200\n",
      "df is created!\n",
      "len(persons_frames):  200\n",
      "df is created!\n",
      "len(persons_frames):  200\n",
      "df is created!\n",
      "len(persons_frames):  200\n",
      "df is created!\n",
      "len(persons_frames):  200\n",
      "df is created!\n",
      "len(persons_frames):  200\n",
      "df is created!\n",
      "len(persons_frames):  200\n",
      "df is created!\n",
      "len(persons_frames):  200\n",
      "df is created!\n",
      "len(persons_frames):  200\n",
      "df is created!\n",
      "len(persons_frames):  200\n",
      "df is created!\n",
      "len(persons_frames):  200\n",
      "df is created!\n"
     ]
    },
    {
     "ename": "ValueError",
     "evalue": "a must be greater than 0 unless no samples are taken",
     "output_type": "error",
     "traceback": [
      "\u001b[0;31m---------------------------------------------------------------------------\u001b[0m",
      "\u001b[0;31mValueError\u001b[0m                                Traceback (most recent call last)",
      "File \u001b[0;32m<timed exec>:4\u001b[0m\n",
      "Cell \u001b[0;32mIn[113], line 10\u001b[0m, in \u001b[0;36mfilter_and_sample\u001b[0;34m(df)\u001b[0m\n\u001b[1;32m      8\u001b[0m df_persons \u001b[38;5;241m=\u001b[39m df[df[\u001b[38;5;124m'\u001b[39m\u001b[38;5;124mlabel_as_int_gt\u001b[39m\u001b[38;5;124m'\u001b[39m] \u001b[38;5;241m==\u001b[39m \u001b[38;5;241m0\u001b[39m]\n\u001b[1;32m      9\u001b[0m \u001b[38;5;66;03m# sample of the df\u001b[39;00m\n\u001b[0;32m---> 10\u001b[0m df_persons_200 \u001b[38;5;241m=\u001b[39m \u001b[43mdf_persons\u001b[49m\u001b[38;5;241;43m.\u001b[39;49m\u001b[43msample\u001b[49m\u001b[43m(\u001b[49m\u001b[43mn\u001b[49m\u001b[38;5;241;43m=\u001b[39;49m\u001b[38;5;241;43m200\u001b[39;49m\u001b[43m)\u001b[49m\n\u001b[1;32m     11\u001b[0m persons_frames \u001b[38;5;241m=\u001b[39m \u001b[38;5;28msorted\u001b[39m(df_persons_200[\u001b[38;5;124m'\u001b[39m\u001b[38;5;124mframe_gt\u001b[39m\u001b[38;5;124m'\u001b[39m]\u001b[38;5;241m.\u001b[39mto_list())\n\u001b[1;32m     12\u001b[0m \u001b[38;5;28mprint\u001b[39m(\u001b[38;5;124m'\u001b[39m\u001b[38;5;124mlen(persons_frames): \u001b[39m\u001b[38;5;124m'\u001b[39m, \u001b[38;5;28mlen\u001b[39m(persons_frames))\n",
      "File \u001b[0;32m~/miniconda3/envs/virat3.10/lib/python3.10/site-packages/pandas/core/generic.py:5858\u001b[0m, in \u001b[0;36mNDFrame.sample\u001b[0;34m(self, n, frac, replace, weights, random_state, axis, ignore_index)\u001b[0m\n\u001b[1;32m   5855\u001b[0m \u001b[38;5;28;01mif\u001b[39;00m weights \u001b[38;5;129;01mis\u001b[39;00m \u001b[38;5;129;01mnot\u001b[39;00m \u001b[38;5;28;01mNone\u001b[39;00m:\n\u001b[1;32m   5856\u001b[0m     weights \u001b[38;5;241m=\u001b[39m sample\u001b[38;5;241m.\u001b[39mpreprocess_weights(\u001b[38;5;28mself\u001b[39m, weights, axis)\n\u001b[0;32m-> 5858\u001b[0m sampled_indices \u001b[38;5;241m=\u001b[39m \u001b[43msample\u001b[49m\u001b[38;5;241;43m.\u001b[39;49m\u001b[43msample\u001b[49m\u001b[43m(\u001b[49m\u001b[43mobj_len\u001b[49m\u001b[43m,\u001b[49m\u001b[43m \u001b[49m\u001b[43msize\u001b[49m\u001b[43m,\u001b[49m\u001b[43m \u001b[49m\u001b[43mreplace\u001b[49m\u001b[43m,\u001b[49m\u001b[43m \u001b[49m\u001b[43mweights\u001b[49m\u001b[43m,\u001b[49m\u001b[43m \u001b[49m\u001b[43mrs\u001b[49m\u001b[43m)\u001b[49m\n\u001b[1;32m   5859\u001b[0m result \u001b[38;5;241m=\u001b[39m \u001b[38;5;28mself\u001b[39m\u001b[38;5;241m.\u001b[39mtake(sampled_indices, axis\u001b[38;5;241m=\u001b[39maxis)\n\u001b[1;32m   5861\u001b[0m \u001b[38;5;28;01mif\u001b[39;00m ignore_index:\n",
      "File \u001b[0;32m~/miniconda3/envs/virat3.10/lib/python3.10/site-packages/pandas/core/sample.py:151\u001b[0m, in \u001b[0;36msample\u001b[0;34m(obj_len, size, replace, weights, random_state)\u001b[0m\n\u001b[1;32m    148\u001b[0m     \u001b[38;5;28;01melse\u001b[39;00m:\n\u001b[1;32m    149\u001b[0m         \u001b[38;5;28;01mraise\u001b[39;00m \u001b[38;5;167;01mValueError\u001b[39;00m(\u001b[38;5;124m\"\u001b[39m\u001b[38;5;124mInvalid weights: weights sum to zero\u001b[39m\u001b[38;5;124m\"\u001b[39m)\n\u001b[0;32m--> 151\u001b[0m \u001b[38;5;28;01mreturn\u001b[39;00m \u001b[43mrandom_state\u001b[49m\u001b[38;5;241;43m.\u001b[39;49m\u001b[43mchoice\u001b[49m\u001b[43m(\u001b[49m\u001b[43mobj_len\u001b[49m\u001b[43m,\u001b[49m\u001b[43m \u001b[49m\u001b[43msize\u001b[49m\u001b[38;5;241;43m=\u001b[39;49m\u001b[43msize\u001b[49m\u001b[43m,\u001b[49m\u001b[43m \u001b[49m\u001b[43mreplace\u001b[49m\u001b[38;5;241;43m=\u001b[39;49m\u001b[43mreplace\u001b[49m\u001b[43m,\u001b[49m\u001b[43m \u001b[49m\u001b[43mp\u001b[49m\u001b[38;5;241;43m=\u001b[39;49m\u001b[43mweights\u001b[49m\u001b[43m)\u001b[49m\u001b[38;5;241m.\u001b[39mastype(\n\u001b[1;32m    152\u001b[0m     np\u001b[38;5;241m.\u001b[39mintp, copy\u001b[38;5;241m=\u001b[39m\u001b[38;5;28;01mFalse\u001b[39;00m\n\u001b[1;32m    153\u001b[0m )\n",
      "File \u001b[0;32mmtrand.pyx:944\u001b[0m, in \u001b[0;36mnumpy.random.mtrand.RandomState.choice\u001b[0;34m()\u001b[0m\n",
      "\u001b[0;31mValueError\u001b[0m: a must be greater than 0 unless no samples are taken"
     ]
    }
   ],
   "source": [
    "%%time\n",
    "for files_pos in range(len(train_files)):\n",
    "    geom, types = get_geom_types(files_pos)\n",
    "    df = get_df(geom, types)\n",
    "    persons_frames = filter_and_sample(df)\n",
    "    write_files(files_pos, persons_frames, df)"
   ]
  },
  {
   "cell_type": "code",
   "execution_count": 121,
   "id": "3af8aa5d",
   "metadata": {},
   "outputs": [],
   "source": [
    "for j in []:\n",
    "    print()"
   ]
  },
  {
   "cell_type": "code",
   "execution_count": 125,
   "id": "b5be868b",
   "metadata": {},
   "outputs": [],
   "source": [
    "md = {1: ['2', 'tw'], 2: [0.1, 3.3], 3:['3', 'll']}\n",
    "df_qq = pd.DataFrame(data=md)"
   ]
  },
  {
   "cell_type": "code",
   "execution_count": 128,
   "id": "5c0938ec",
   "metadata": {},
   "outputs": [],
   "source": [
    "df_qq.drop(index=df_qq.index, inplace=True)"
   ]
  },
  {
   "cell_type": "code",
   "execution_count": 131,
   "id": "974a4bfe",
   "metadata": {},
   "outputs": [],
   "source": [
    "pt = sorted(df_qq[1].to_list())"
   ]
  },
  {
   "cell_type": "code",
   "execution_count": 132,
   "id": "41cda861",
   "metadata": {},
   "outputs": [
    {
     "data": {
      "text/plain": [
       "[]"
      ]
     },
     "execution_count": 132,
     "metadata": {},
     "output_type": "execute_result"
    }
   ],
   "source": [
    "pt"
   ]
  },
  {
   "cell_type": "code",
   "execution_count": null,
   "id": "50e8e90c",
   "metadata": {},
   "outputs": [],
   "source": []
  }
 ],
 "metadata": {
  "kernelspec": {
   "display_name": "virat3.10",
   "language": "python",
   "name": "virat3.10"
  },
  "language_info": {
   "codemirror_mode": {
    "name": "ipython",
    "version": 3
   },
   "file_extension": ".py",
   "mimetype": "text/x-python",
   "name": "python",
   "nbconvert_exporter": "python",
   "pygments_lexer": "ipython3",
   "version": "3.10.11"
  }
 },
 "nbformat": 4,
 "nbformat_minor": 5
}
