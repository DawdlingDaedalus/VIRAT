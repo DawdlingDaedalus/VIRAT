{
 "cells": [
  {
   "cell_type": "code",
   "execution_count": 2,
   "id": "e440c525",
   "metadata": {},
   "outputs": [],
   "source": [
    "video_path = '/Users/p/Documents/Code/VIRAT/VIRAT_Ground_Dataset/videos_original/VIRAT_S_000001.mp4'\n"
   ]
  },
  {
   "cell_type": "code",
   "execution_count": 3,
   "id": "f693c948",
   "metadata": {},
   "outputs": [
    {
     "name": "stdout",
     "output_type": "stream",
     "text": [
      "/Users/p/Documents/GitHub/VIRAT/analysis\r\n"
     ]
    }
   ],
   "source": [
    "!pwd"
   ]
  },
  {
   "cell_type": "code",
   "execution_count": 4,
   "id": "6de0a903",
   "metadata": {},
   "outputs": [],
   "source": [
    "import os"
   ]
  },
  {
   "cell_type": "code",
   "execution_count": 5,
   "id": "06162c6d",
   "metadata": {},
   "outputs": [],
   "source": [
    "!cd /Users/p/Desktop"
   ]
  },
  {
   "cell_type": "code",
   "execution_count": 6,
   "id": "5c8c6a9f",
   "metadata": {
    "scrolled": false
   },
   "outputs": [
    {
     "name": "stdout",
     "output_type": "stream",
     "text": [
      "ffmpeg version 6.0 Copyright (c) 2000-2023 the FFmpeg developers\n",
      "  built with Apple clang version 14.0.0 (clang-1400.0.29.202)\n",
      "  configuration: --prefix=/opt/homebrew/Cellar/ffmpeg/6.0 --enable-shared --enable-pthreads --enable-version3 --cc=clang --host-cflags= --host-ldflags= --enable-ffplay --enable-gnutls --enable-gpl --enable-libaom --enable-libaribb24 --enable-libbluray --enable-libdav1d --enable-libmp3lame --enable-libopus --enable-librav1e --enable-librist --enable-librubberband --enable-libsnappy --enable-libsrt --enable-libsvtav1 --enable-libtesseract --enable-libtheora --enable-libvidstab --enable-libvmaf --enable-libvorbis --enable-libvpx --enable-libwebp --enable-libx264 --enable-libx265 --enable-libxml2 --enable-libxvid --enable-lzma --enable-libfontconfig --enable-libfreetype --enable-frei0r --enable-libass --enable-libopencore-amrnb --enable-libopencore-amrwb --enable-libopenjpeg --enable-libspeex --enable-libsoxr --enable-libzmq --enable-libzimg --disable-libjack --disable-indev=jack --enable-videotoolbox --enable-audiotoolbox --enable-neon\n",
      "  libavutil      58.  2.100 / 58.  2.100\n",
      "  libavcodec     60.  3.100 / 60.  3.100\n",
      "  libavformat    60.  3.100 / 60.  3.100\n",
      "  libavdevice    60.  1.100 / 60.  1.100\n",
      "  libavfilter     9.  3.100 /  9.  3.100\n",
      "  libswscale      7.  1.100 /  7.  1.100\n",
      "  libswresample   4. 10.100 /  4. 10.100\n",
      "  libpostproc    57.  1.100 / 57.  1.100\n",
      "Input #0, mov,mp4,m4a,3gp,3g2,mj2, from '/Users/p/Documents/Code/VIRAT/VIRAT_Ground_Dataset/videos_original/VIRAT_S_000001.mp4':\n",
      "  Metadata:\n",
      "    major_brand     : isom\n",
      "    minor_version   : 512\n",
      "    compatible_brands: isomiso2avc1mp41\n",
      "    creation_time   : 1970-01-01T00:00:00.000000Z\n",
      "    encoder         : Lavf52.91.0\n",
      "  Duration: 00:11:29.19, start: 0.000000, bitrate: 16905 kb/s\n",
      "  Stream #0:0[0x1](und): Video: h264 (High) (avc1 / 0x31637661), yuv420p(progressive), 1920x1080 [SAR 1:1 DAR 16:9], 16901 kb/s, 29.97 fps, 29.97 tbr, 30k tbn (default)\n",
      "    Metadata:\n",
      "      creation_time   : 1970-01-01T00:00:00.000000Z\n",
      "      handler_name    : VideoHandler\n",
      "      vendor_id       : [0][0][0][0]\n",
      "Output #0, mp4, to 'test.mp4':\n",
      "  Metadata:\n",
      "    major_brand     : isom\n",
      "    minor_version   : 512\n",
      "    compatible_brands: isomiso2avc1mp41\n",
      "    encoder         : Lavf60.3.100\n",
      "  Stream #0:0(und): Video: h264 (High) (avc1 / 0x31637661), yuv420p(progressive), 1920x1080 [SAR 1:1 DAR 16:9], q=2-31, 16901 kb/s, 29.97 fps, 29.97 tbr, 30k tbn (default)\n",
      "    Metadata:\n",
      "      creation_time   : 1970-01-01T00:00:00.000000Z\n",
      "      handler_name    : VideoHandler\n",
      "      vendor_id       : [0][0][0][0]\n",
      "Stream mapping:\n",
      "  Stream #0:0 -> #0:0 (copy)\n",
      "Press [q] to stop, [?] for help\n",
      "frame=  197 fps=0.0 q=-1.0 Lsize=   13797kB time=00:00:09.97 bitrate=11333.1kbits/s speed= 194x     \n",
      "video:13794kB audio:0kB subtitle:0kB other streams:0kB global headers:0kB muxing overhead: 0.020516%\n"
     ]
    }
   ],
   "source": [
    "!ffmpeg -i /Users/p/Documents/Code/VIRAT/VIRAT_Ground_Dataset/videos_original/VIRAT_S_000001.mp4 -ss 00:02:10 -to 00:02:20 -c copy test.mp4 -y"
   ]
  },
  {
   "cell_type": "code",
   "execution_count": 7,
   "id": "9fbdb7f7",
   "metadata": {},
   "outputs": [
    {
     "name": "stdout",
     "output_type": "stream",
     "text": [
      "Annotations_EDA.ipynb             Untitled1.ipynb\r\n",
      "EDA.04.17.py                      Untitled2.ipynb\r\n",
      "EDA_04_25_23.alt.ipynb            Untitled3.ipynb\r\n",
      "EDA_04_25_23.ipynb                VIRAT_EDA-Peter_McMaster.ipynb\r\n",
      "EDA_04_29_23.alt.ipynb            YOLOv3_performance_on_virat.ipynb\r\n",
      "EDA_04_29_23.ipynb                test.mp4\r\n",
      "Untitled.ipynb                    testttt.mp4\r\n"
     ]
    }
   ],
   "source": [
    "!ls"
   ]
  },
  {
   "cell_type": "code",
   "execution_count": 8,
   "id": "63559d84",
   "metadata": {},
   "outputs": [
    {
     "name": "stdout",
     "output_type": "stream",
     "text": [
      "Requirement already satisfied: gdown in /Users/p/miniconda3/envs/virat/lib/python3.11/site-packages (4.7.1)\r\n",
      "Requirement already satisfied: filelock in /Users/p/miniconda3/envs/virat/lib/python3.11/site-packages (from gdown) (3.12.2)\r\n",
      "Requirement already satisfied: requests[socks] in /Users/p/miniconda3/envs/virat/lib/python3.11/site-packages (from gdown) (2.29.0)\r\n",
      "Requirement already satisfied: six in /Users/p/miniconda3/envs/virat/lib/python3.11/site-packages (from gdown) (1.16.0)\r\n",
      "Requirement already satisfied: tqdm in /Users/p/miniconda3/envs/virat/lib/python3.11/site-packages (from gdown) (4.65.0)\r\n",
      "Requirement already satisfied: beautifulsoup4 in /Users/p/miniconda3/envs/virat/lib/python3.11/site-packages (from gdown) (4.12.2)\r\n",
      "Requirement already satisfied: soupsieve>1.2 in /Users/p/miniconda3/envs/virat/lib/python3.11/site-packages (from beautifulsoup4->gdown) (2.4)\r\n",
      "Requirement already satisfied: charset-normalizer<4,>=2 in /Users/p/miniconda3/envs/virat/lib/python3.11/site-packages (from requests[socks]->gdown) (3.1.0)\r\n",
      "Requirement already satisfied: idna<4,>=2.5 in /Users/p/miniconda3/envs/virat/lib/python3.11/site-packages (from requests[socks]->gdown) (3.4)\r\n",
      "Requirement already satisfied: urllib3<1.27,>=1.21.1 in /Users/p/miniconda3/envs/virat/lib/python3.11/site-packages (from requests[socks]->gdown) (1.26.15)\r\n",
      "Requirement already satisfied: certifi>=2017.4.17 in /Users/p/miniconda3/envs/virat/lib/python3.11/site-packages (from requests[socks]->gdown) (2022.12.7)\r\n",
      "Requirement already satisfied: PySocks!=1.5.7,>=1.5.6 in /Users/p/miniconda3/envs/virat/lib/python3.11/site-packages (from requests[socks]->gdown) (1.7.1)\r\n"
     ]
    }
   ],
   "source": [
    "!pip install gdown"
   ]
  },
  {
   "cell_type": "code",
   "execution_count": 9,
   "id": "176cf8a2",
   "metadata": {},
   "outputs": [],
   "source": [
    "import gdown"
   ]
  },
  {
   "cell_type": "code",
   "execution_count": 10,
   "id": "5c7bb0e4",
   "metadata": {},
   "outputs": [
    {
     "name": "stdout",
     "output_type": "stream",
     "text": [
      "Downloading...\n",
      "From: https://drive.google.com/uc?id=1ucEKUw4MxPCD-C8Jo9zKz4RlB4xA9rRJ\n",
      "To: /Users/p/Documents/GitHub/VIRAT/analysis/testttt.mp4\n",
      "100%|██████████████████████████████████████| 14.1M/14.1M [00:00<00:00, 19.0MB/s]\n"
     ]
    }
   ],
   "source": [
    "!gdown \"https://drive.google.com/uc?id=1ucEKUw4MxPCD-C8Jo9zKz4RlB4xA9rRJ\" -O testttt.mp4"
   ]
  },
  {
   "cell_type": "code",
   "execution_count": 11,
   "id": "82d95cb6",
   "metadata": {},
   "outputs": [
    {
     "name": "stdout",
     "output_type": "stream",
     "text": [
      "Annotations_EDA.ipynb             Untitled1.ipynb\r\n",
      "EDA.04.17.py                      Untitled2.ipynb\r\n",
      "EDA_04_25_23.alt.ipynb            Untitled3.ipynb\r\n",
      "EDA_04_25_23.ipynb                VIRAT_EDA-Peter_McMaster.ipynb\r\n",
      "EDA_04_29_23.alt.ipynb            YOLOv3_performance_on_virat.ipynb\r\n",
      "EDA_04_29_23.ipynb                test.mp4\r\n",
      "Untitled.ipynb                    testttt.mp4\r\n"
     ]
    }
   ],
   "source": [
    "!ls"
   ]
  },
  {
   "cell_type": "code",
   "execution_count": 12,
   "id": "cae84d6a",
   "metadata": {},
   "outputs": [],
   "source": [
    "import cv2"
   ]
  },
  {
   "cell_type": "code",
   "execution_count": 13,
   "id": "92ef3aa6",
   "metadata": {},
   "outputs": [],
   "source": [
    "def end_sequence(cap):\n",
    "    cap.release() # Release video capture\n",
    "    cv2.destroyAllWindows() # close windows\n",
    "    cv2.waitKey(1)\n",
    "    cv2.waitKey(1)\n",
    "    cv2.waitKey(1)\n",
    "    cv2.waitKey(1);"
   ]
  },
  {
   "cell_type": "code",
   "execution_count": 16,
   "id": "34513659",
   "metadata": {},
   "outputs": [],
   "source": [
    "cap = cv2.VideoCapture('test.mp4')\n",
    "\n",
    "frame_num = 1\n",
    "\n",
    "'''\n",
    "while(cap.isOpened()):\n",
    "    cap.set(cv2.CAP_PROP_POS_FRAMES, frame_num) # set the frame position\n",
    "    ret, frame = cap.read()\n",
    "    if not ret:\n",
    "        print('error reading frame')\n",
    "    cv2.imshow('frame', frame)\n",
    "    frame_num += 1\n",
    "\n",
    "end_sequence(cap)\n",
    "\n",
    "'''\n",
    "while(cap.isOpened()):\n",
    "    # Capture frame-by-frame\n",
    "    ret, frame = cap.read()\n",
    "    \n",
    "    if ret:\n",
    "        # Display the resulting frame\n",
    "        cv2.imshow('Frame', frame)\n",
    " \n",
    "        # Press Q on keyboard to exit\n",
    "        if cv2.waitKey(25) & 0xFF == ord('q'):\n",
    "            end_sequence(cap);\n",
    "            break\n",
    "    else:\n",
    "        end_sequence(cap);\n",
    "        break"
   ]
  }
 ],
 "metadata": {
  "kernelspec": {
   "display_name": "virat",
   "language": "python",
   "name": "virat"
  },
  "language_info": {
   "codemirror_mode": {
    "name": "ipython",
    "version": 3
   },
   "file_extension": ".py",
   "mimetype": "text/x-python",
   "name": "python",
   "nbconvert_exporter": "python",
   "pygments_lexer": "ipython3",
   "version": "3.11.2"
  }
 },
 "nbformat": 4,
 "nbformat_minor": 5
}
