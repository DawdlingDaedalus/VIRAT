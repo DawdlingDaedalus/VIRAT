{
 "cells": [
  {
   "cell_type": "code",
   "execution_count": 1,
   "id": "630b5402",
   "metadata": {},
   "outputs": [
    {
     "name": "stdout",
     "output_type": "stream",
     "text": [
      "hi\n"
     ]
    }
   ],
   "source": [
    "print('hi')"
   ]
  },
  {
   "cell_type": "code",
   "execution_count": 2,
   "id": "e2361d0d",
   "metadata": {},
   "outputs": [
    {
     "name": "stdout",
     "output_type": "stream",
     "text": [
      "/Users/p/Documents/GitHub/VIRAT/analysis\r\n"
     ]
    }
   ],
   "source": [
    "!pwd"
   ]
  },
  {
   "cell_type": "code",
   "execution_count": 3,
   "id": "8128bcc7",
   "metadata": {},
   "outputs": [
    {
     "name": "stdout",
     "output_type": "stream",
     "text": [
      "yolov3.cfg     yolov3.weights\r\n"
     ]
    }
   ],
   "source": [
    "!ls ../data"
   ]
  },
  {
   "cell_type": "code",
   "execution_count": 4,
   "id": "cc2612b9",
   "metadata": {},
   "outputs": [],
   "source": [
    "import numpy as np\n",
    "import pandas as pd\n",
    "import cv2 as cv\n",
    "import time"
   ]
  },
  {
   "cell_type": "code",
   "execution_count": 5,
   "id": "df2f54b4",
   "metadata": {},
   "outputs": [],
   "source": [
    "# Load YOLO network model from harddisk\n",
    "net = cv.dnn.readNetFromDarknet('../data/yolov3.cfg', '../data/yolov3.weights')\n",
    "net.setPreferableBackend(cv.dnn.DNN_BACKEND_OPENCV)"
   ]
  },
  {
   "cell_type": "code",
   "execution_count": 6,
   "id": "0c16c3d5",
   "metadata": {},
   "outputs": [
    {
     "name": "stdout",
     "output_type": "stream",
     "text": [
      "254 ('conv_0', 'bn_0', 'leaky_1', 'conv_1', 'bn_1', 'leaky_2', 'conv_2', 'bn_2', 'leaky_3', 'conv_3', 'bn_3', 'leaky_4', 'shortcut_4', 'conv_5', 'bn_5', 'leaky_6', 'conv_6', 'bn_6', 'leaky_7', 'conv_7', 'bn_7', 'leaky_8', 'shortcut_8', 'conv_9', 'bn_9', 'leaky_10', 'conv_10', 'bn_10', 'leaky_11', 'shortcut_11', 'conv_12', 'bn_12', 'leaky_13', 'conv_13', 'bn_13', 'leaky_14', 'conv_14', 'bn_14', 'leaky_15', 'shortcut_15', 'conv_16', 'bn_16', 'leaky_17', 'conv_17', 'bn_17', 'leaky_18', 'shortcut_18', 'conv_19', 'bn_19', 'leaky_20', 'conv_20', 'bn_20', 'leaky_21', 'shortcut_21', 'conv_22', 'bn_22', 'leaky_23', 'conv_23', 'bn_23', 'leaky_24', 'shortcut_24', 'conv_25', 'bn_25', 'leaky_26', 'conv_26', 'bn_26', 'leaky_27', 'shortcut_27', 'conv_28', 'bn_28', 'leaky_29', 'conv_29', 'bn_29', 'leaky_30', 'shortcut_30', 'conv_31', 'bn_31', 'leaky_32', 'conv_32', 'bn_32', 'leaky_33', 'shortcut_33', 'conv_34', 'bn_34', 'leaky_35', 'conv_35', 'bn_35', 'leaky_36', 'shortcut_36', 'conv_37', 'bn_37', 'leaky_38', 'conv_38', 'bn_38', 'leaky_39', 'conv_39', 'bn_39', 'leaky_40', 'shortcut_40', 'conv_41', 'bn_41', 'leaky_42', 'conv_42', 'bn_42', 'leaky_43', 'shortcut_43', 'conv_44', 'bn_44', 'leaky_45', 'conv_45', 'bn_45', 'leaky_46', 'shortcut_46', 'conv_47', 'bn_47', 'leaky_48', 'conv_48', 'bn_48', 'leaky_49', 'shortcut_49', 'conv_50', 'bn_50', 'leaky_51', 'conv_51', 'bn_51', 'leaky_52', 'shortcut_52', 'conv_53', 'bn_53', 'leaky_54', 'conv_54', 'bn_54', 'leaky_55', 'shortcut_55', 'conv_56', 'bn_56', 'leaky_57', 'conv_57', 'bn_57', 'leaky_58', 'shortcut_58', 'conv_59', 'bn_59', 'leaky_60', 'conv_60', 'bn_60', 'leaky_61', 'shortcut_61', 'conv_62', 'bn_62', 'leaky_63', 'conv_63', 'bn_63', 'leaky_64', 'conv_64', 'bn_64', 'leaky_65', 'shortcut_65', 'conv_66', 'bn_66', 'leaky_67', 'conv_67', 'bn_67', 'leaky_68', 'shortcut_68', 'conv_69', 'bn_69', 'leaky_70', 'conv_70', 'bn_70', 'leaky_71', 'shortcut_71', 'conv_72', 'bn_72', 'leaky_73', 'conv_73', 'bn_73', 'leaky_74', 'shortcut_74', 'conv_75', 'bn_75', 'leaky_76', 'conv_76', 'bn_76', 'leaky_77', 'conv_77', 'bn_77', 'leaky_78', 'conv_78', 'bn_78', 'leaky_79', 'conv_79', 'bn_79', 'leaky_80', 'conv_80', 'bn_80', 'leaky_81', 'conv_81', 'permute_82', 'yolo_82', 'identity_83', 'conv_84', 'bn_84', 'leaky_85', 'upsample_85', 'concat_86', 'conv_87', 'bn_87', 'leaky_88', 'conv_88', 'bn_88', 'leaky_89', 'conv_89', 'bn_89', 'leaky_90', 'conv_90', 'bn_90', 'leaky_91', 'conv_91', 'bn_91', 'leaky_92', 'conv_92', 'bn_92', 'leaky_93', 'conv_93', 'permute_94', 'yolo_94', 'identity_95', 'conv_96', 'bn_96', 'leaky_97', 'upsample_97', 'concat_98', 'conv_99', 'bn_99', 'leaky_100', 'conv_100', 'bn_100', 'leaky_101', 'conv_101', 'bn_101', 'leaky_102', 'conv_102', 'bn_102', 'leaky_103', 'conv_103', 'bn_103', 'leaky_104', 'conv_104', 'bn_104', 'leaky_105', 'conv_105', 'permute_106', 'yolo_106')\n"
     ]
    }
   ],
   "source": [
    "# YOLO NN has 254 components. U can print them\n",
    "ln = net.getLayerNames()\n",
    "print(len(ln), ln)"
   ]
  },
  {
   "cell_type": "code",
   "execution_count": 20,
   "id": "d78a8e61",
   "metadata": {},
   "outputs": [],
   "source": [
    "# Turn image into a blob\n",
    "img = cv.imread('../images/000001_20654.jpg')\n",
    "blob = cv.dnn.blobFromImage(img, 1/255.0, (416, 416), swapRB=True, crop=False)"
   ]
  },
  {
   "cell_type": "code",
   "execution_count": 21,
   "id": "77e861f1",
   "metadata": {},
   "outputs": [
    {
     "data": {
      "text/plain": [
       "(1, 3, 416, 416)"
      ]
     },
     "execution_count": 21,
     "metadata": {},
     "output_type": "execute_result"
    }
   ],
   "source": [
    "blob.shape"
   ]
  },
  {
   "cell_type": "code",
   "execution_count": 24,
   "id": "17efa1f0",
   "metadata": {},
   "outputs": [],
   "source": [
    "# show blob\n",
    "r = blob[0,0,:,:]\n",
    "\n",
    "cv.imshow('blob', r)\n",
    "text = f'Blob shape={blob.shape}'\n",
    "cv.waitKey(5000)\n",
    "\n",
    "cv.destroyAllWindows()\n",
    "cv.waitKey(1)\n",
    "cv.waitKey(1)\n",
    "cv.waitKey(1)\n",
    "cv.waitKey(1);"
   ]
  },
  {
   "cell_type": "code",
   "execution_count": 26,
   "id": "550dfdc1",
   "metadata": {},
   "outputs": [
    {
     "name": "stdout",
     "output_type": "stream",
     "text": [
      "254\n",
      "(1, 32, 416, 416)\n",
      "(1, 32, 416, 416)\n",
      "(1, 32, 416, 416)\n",
      "(1, 64, 208, 208)\n",
      "(1, 64, 208, 208)\n",
      "(1, 64, 208, 208)\n",
      "(1, 32, 208, 208)\n",
      "(1, 32, 208, 208)\n",
      "(1, 32, 208, 208)\n",
      "(1, 64, 208, 208)\n",
      "(1, 64, 208, 208)\n",
      "(1, 64, 208, 208)\n",
      "(1, 64, 208, 208)\n",
      "(1, 128, 104, 104)\n",
      "(1, 128, 104, 104)\n",
      "(1, 128, 104, 104)\n",
      "(1, 64, 104, 104)\n",
      "(1, 64, 104, 104)\n",
      "(1, 64, 104, 104)\n",
      "(1, 128, 104, 104)\n",
      "(1, 128, 104, 104)\n",
      "(1, 128, 104, 104)\n",
      "(1, 128, 104, 104)\n",
      "(1, 64, 104, 104)\n",
      "(1, 64, 104, 104)\n",
      "(1, 64, 104, 104)\n",
      "(1, 128, 104, 104)\n",
      "(1, 128, 104, 104)\n",
      "(1, 128, 104, 104)\n",
      "(1, 128, 104, 104)\n",
      "(1, 256, 52, 52)\n",
      "(1, 256, 52, 52)\n",
      "(1, 256, 52, 52)\n",
      "(1, 128, 52, 52)\n",
      "(1, 128, 52, 52)\n",
      "(1, 128, 52, 52)\n",
      "(1, 256, 52, 52)\n",
      "(1, 256, 52, 52)\n",
      "(1, 256, 52, 52)\n",
      "(1, 256, 52, 52)\n",
      "(1, 128, 52, 52)\n",
      "(1, 128, 52, 52)\n",
      "(1, 128, 52, 52)\n",
      "(1, 256, 52, 52)\n",
      "(1, 256, 52, 52)\n",
      "(1, 256, 52, 52)\n",
      "(1, 256, 52, 52)\n",
      "(1, 128, 52, 52)\n",
      "(1, 128, 52, 52)\n",
      "(1, 128, 52, 52)\n",
      "(1, 256, 52, 52)\n",
      "(1, 256, 52, 52)\n",
      "(1, 256, 52, 52)\n",
      "(1, 256, 52, 52)\n",
      "(1, 128, 52, 52)\n",
      "(1, 128, 52, 52)\n",
      "(1, 128, 52, 52)\n",
      "(1, 256, 52, 52)\n",
      "(1, 256, 52, 52)\n",
      "(1, 256, 52, 52)\n",
      "(1, 256, 52, 52)\n",
      "(1, 128, 52, 52)\n",
      "(1, 128, 52, 52)\n",
      "(1, 128, 52, 52)\n",
      "(1, 256, 52, 52)\n",
      "(1, 256, 52, 52)\n",
      "(1, 256, 52, 52)\n",
      "(1, 256, 52, 52)\n",
      "(1, 128, 52, 52)\n",
      "(1, 128, 52, 52)\n",
      "(1, 128, 52, 52)\n",
      "(1, 256, 52, 52)\n",
      "(1, 256, 52, 52)\n",
      "(1, 256, 52, 52)\n",
      "(1, 256, 52, 52)\n",
      "(1, 128, 52, 52)\n",
      "(1, 128, 52, 52)\n",
      "(1, 128, 52, 52)\n",
      "(1, 256, 52, 52)\n",
      "(1, 256, 52, 52)\n",
      "(1, 256, 52, 52)\n",
      "(1, 256, 52, 52)\n",
      "(1, 128, 52, 52)\n",
      "(1, 128, 52, 52)\n",
      "(1, 128, 52, 52)\n",
      "(1, 256, 52, 52)\n",
      "(1, 256, 52, 52)\n",
      "(1, 256, 52, 52)\n",
      "(1, 256, 52, 52)\n",
      "(1, 512, 26, 26)\n",
      "(1, 512, 26, 26)\n",
      "(1, 512, 26, 26)\n",
      "(1, 256, 26, 26)\n",
      "(1, 256, 26, 26)\n",
      "(1, 256, 26, 26)\n",
      "(1, 512, 26, 26)\n",
      "(1, 512, 26, 26)\n",
      "(1, 512, 26, 26)\n",
      "(1, 512, 26, 26)\n",
      "(1, 256, 26, 26)\n",
      "(1, 256, 26, 26)\n",
      "(1, 256, 26, 26)\n",
      "(1, 512, 26, 26)\n",
      "(1, 512, 26, 26)\n",
      "(1, 512, 26, 26)\n",
      "(1, 512, 26, 26)\n",
      "(1, 256, 26, 26)\n",
      "(1, 256, 26, 26)\n",
      "(1, 256, 26, 26)\n",
      "(1, 512, 26, 26)\n",
      "(1, 512, 26, 26)\n",
      "(1, 512, 26, 26)\n",
      "(1, 512, 26, 26)\n",
      "(1, 256, 26, 26)\n",
      "(1, 256, 26, 26)\n",
      "(1, 256, 26, 26)\n",
      "(1, 512, 26, 26)\n",
      "(1, 512, 26, 26)\n",
      "(1, 512, 26, 26)\n",
      "(1, 512, 26, 26)\n",
      "(1, 256, 26, 26)\n",
      "(1, 256, 26, 26)\n",
      "(1, 256, 26, 26)\n",
      "(1, 512, 26, 26)\n",
      "(1, 512, 26, 26)\n",
      "(1, 512, 26, 26)\n",
      "(1, 512, 26, 26)\n",
      "(1, 256, 26, 26)\n",
      "(1, 256, 26, 26)\n",
      "(1, 256, 26, 26)\n",
      "(1, 512, 26, 26)\n",
      "(1, 512, 26, 26)\n",
      "(1, 512, 26, 26)\n",
      "(1, 512, 26, 26)\n",
      "(1, 256, 26, 26)\n",
      "(1, 256, 26, 26)\n",
      "(1, 256, 26, 26)\n",
      "(1, 512, 26, 26)\n",
      "(1, 512, 26, 26)\n",
      "(1, 512, 26, 26)\n",
      "(1, 512, 26, 26)\n",
      "(1, 256, 26, 26)\n",
      "(1, 256, 26, 26)\n",
      "(1, 256, 26, 26)\n",
      "(1, 512, 26, 26)\n",
      "(1, 512, 26, 26)\n",
      "(1, 512, 26, 26)\n",
      "(1, 512, 26, 26)\n",
      "(1, 1024, 13, 13)\n",
      "(1, 1024, 13, 13)\n",
      "(1, 1024, 13, 13)\n",
      "(1, 512, 13, 13)\n",
      "(1, 512, 13, 13)\n",
      "(1, 512, 13, 13)\n",
      "(1, 1024, 13, 13)\n",
      "(1, 1024, 13, 13)\n",
      "(1, 1024, 13, 13)\n",
      "(1, 1024, 13, 13)\n",
      "(1, 512, 13, 13)\n",
      "(1, 512, 13, 13)\n",
      "(1, 512, 13, 13)\n",
      "(1, 1024, 13, 13)\n",
      "(1, 1024, 13, 13)\n",
      "(1, 1024, 13, 13)\n",
      "(1, 1024, 13, 13)\n",
      "(1, 512, 13, 13)\n",
      "(1, 512, 13, 13)\n",
      "(1, 512, 13, 13)\n",
      "(1, 1024, 13, 13)\n",
      "(1, 1024, 13, 13)\n",
      "(1, 1024, 13, 13)\n",
      "(1, 1024, 13, 13)\n",
      "(1, 512, 13, 13)\n",
      "(1, 512, 13, 13)\n",
      "(1, 512, 13, 13)\n",
      "(1, 1024, 13, 13)\n",
      "(1, 1024, 13, 13)\n",
      "(1, 1024, 13, 13)\n",
      "(1, 1024, 13, 13)\n",
      "(1, 512, 13, 13)\n",
      "(1, 512, 13, 13)\n",
      "(1, 512, 13, 13)\n",
      "(1, 1024, 13, 13)\n",
      "(1, 1024, 13, 13)\n",
      "(1, 1024, 13, 13)\n",
      "(1, 512, 13, 13)\n",
      "(1, 512, 13, 13)\n",
      "(1, 512, 13, 13)\n",
      "(1, 1024, 13, 13)\n",
      "(1, 1024, 13, 13)\n",
      "(1, 1024, 13, 13)\n",
      "(1, 512, 13, 13)\n",
      "(1, 512, 13, 13)\n",
      "(1, 512, 13, 13)\n",
      "(1, 1024, 13, 13)\n",
      "(1, 1024, 13, 13)\n",
      "(1, 1024, 13, 13)\n",
      "(1, 255, 13, 13)\n",
      "(1, 13, 13, 255)\n",
      "(507, 85)\n",
      "(1, 512, 13, 13)\n",
      "(1, 256, 13, 13)\n",
      "(1, 256, 13, 13)\n",
      "(1, 256, 13, 13)\n",
      "(1, 256, 26, 26)\n",
      "(1, 768, 26, 26)\n",
      "(1, 256, 26, 26)\n",
      "(1, 256, 26, 26)\n",
      "(1, 256, 26, 26)\n",
      "(1, 512, 26, 26)\n",
      "(1, 512, 26, 26)\n",
      "(1, 512, 26, 26)\n",
      "(1, 256, 26, 26)\n",
      "(1, 256, 26, 26)\n",
      "(1, 256, 26, 26)\n",
      "(1, 512, 26, 26)\n",
      "(1, 512, 26, 26)\n",
      "(1, 512, 26, 26)\n",
      "(1, 256, 26, 26)\n",
      "(1, 256, 26, 26)\n",
      "(1, 256, 26, 26)\n",
      "(1, 512, 26, 26)\n",
      "(1, 512, 26, 26)\n",
      "(1, 512, 26, 26)\n",
      "(1, 255, 26, 26)\n",
      "(1, 26, 26, 255)\n",
      "(2028, 85)\n",
      "(1, 256, 26, 26)\n",
      "(1, 128, 26, 26)\n",
      "(1, 128, 26, 26)\n",
      "(1, 128, 26, 26)\n",
      "(1, 128, 52, 52)\n",
      "(1, 384, 52, 52)\n",
      "(1, 128, 52, 52)\n",
      "(1, 128, 52, 52)\n",
      "(1, 128, 52, 52)\n",
      "(1, 256, 52, 52)\n",
      "(1, 256, 52, 52)\n",
      "(1, 256, 52, 52)\n",
      "(1, 128, 52, 52)\n",
      "(1, 128, 52, 52)\n",
      "(1, 128, 52, 52)\n",
      "(1, 256, 52, 52)\n",
      "(1, 256, 52, 52)\n",
      "(1, 256, 52, 52)\n",
      "(1, 128, 52, 52)\n",
      "(1, 128, 52, 52)\n",
      "(1, 128, 52, 52)\n",
      "(1, 256, 52, 52)\n",
      "(1, 256, 52, 52)\n",
      "(1, 256, 52, 52)\n",
      "(1, 255, 52, 52)\n",
      "(1, 52, 52, 255)\n",
      "(8112, 85)\n"
     ]
    }
   ],
   "source": [
    "# run blob through NN\n",
    "net.setInput(blob)\n",
    "outputs = net.forward(ln)\n",
    "\n",
    "print(len(outputs))\n",
    "for out in outputs:\n",
    "    print(out.shape)\n"
   ]
  },
  {
   "cell_type": "code",
   "execution_count": 33,
   "id": "42f8f52e",
   "metadata": {},
   "outputs": [],
   "source": [
    "pred = outputs[-1]"
   ]
  },
  {
   "cell_type": "code",
   "execution_count": 41,
   "id": "5779059d",
   "metadata": {},
   "outputs": [],
   "source": [
    "# get prediction values where something is predicted > 0.001\n",
    "a_list = []\n",
    "for i in range(len(pred)):\n",
    "    for j in range(5, 85):\n",
    "        if pred[i][j] > 0.001:\n",
    "            a_list.append(i)"
   ]
  },
  {
   "cell_type": "code",
   "execution_count": 43,
   "id": "ecf9b52b",
   "metadata": {},
   "outputs": [
    {
     "data": {
      "text/plain": [
       "[3379, 3382, 3538, 4165]"
      ]
     },
     "execution_count": 43,
     "metadata": {},
     "output_type": "execute_result"
    }
   ],
   "source": [
    "a_list"
   ]
  },
  {
   "cell_type": "code",
   "execution_count": 46,
   "id": "3cca5099",
   "metadata": {
    "scrolled": true
   },
   "outputs": [
    {
     "data": {
      "text/plain": [
       "(4, 85)"
      ]
     },
     "execution_count": 46,
     "metadata": {},
     "output_type": "execute_result"
    }
   ],
   "source": [
    "# Show when something was actually predicted\n",
    "new_outputs = pred[a_list]\n",
    "new_outputs.shape"
   ]
  },
  {
   "cell_type": "code",
   "execution_count": 45,
   "id": "bf1f3ee5",
   "metadata": {},
   "outputs": [],
   "source": [
    "classes = open('../data/coco.names').read().strip().split('\\n')"
   ]
  },
  {
   "cell_type": "code",
   "execution_count": 53,
   "id": "16e4f51f",
   "metadata": {},
   "outputs": [],
   "source": [
    "def trackbar2(x):\n",
    "    confidence = x/100\n",
    "    r = r0.copy()\n",
    "    for output in np.vstack(new_outputs):\n",
    "        if output[4] > confidence:\n",
    "            x, y, w, h = output[:4]\n",
    "            p0 = int((x-w/2)*416), int((y-h/2)*416)\n",
    "            p1 = int((x+w/2)*416), int((y+h/2)*416)\n",
    "            cv.rectangle(r, p0, p1, 1, 1)\n",
    "    text = f'Bbox confidence={confidence}'\n",
    "    cv.imshow(text, r)\n",
    "    cv.waitKey(5000)\n",
    "    cv.destroyAllWindows()\n",
    "    cv.waitKey(1)\n",
    "    cv.waitKey(1)\n",
    "    cv.waitKey(1)\n",
    "    cv.waitKey(1);"
   ]
  },
  {
   "cell_type": "code",
   "execution_count": 54,
   "id": "4775ae73",
   "metadata": {},
   "outputs": [],
   "source": [
    "r0 = blob[0, 0, :, :]\n",
    "r = r0.copy()\n",
    "cv.imshow('blob', r)\n",
    "cv.createTrackbar('confidence', 'blob', 5, 101, trackbar2)\n",
    "trackbar2(5)"
   ]
  },
  {
   "cell_type": "code",
   "execution_count": 55,
   "id": "067c8028",
   "metadata": {},
   "outputs": [],
   "source": [
    "boxes = []\n",
    "confidences = []\n",
    "classIDs = []\n",
    "h, w = img.shape[:2]\n",
    "\n"
   ]
  },
  {
   "cell_type": "code",
   "execution_count": 74,
   "id": "73a54ac0",
   "metadata": {},
   "outputs": [
    {
     "name": "stdout",
     "output_type": "stream",
     "text": [
      "[0.27451694 0.         0.         0.         0.         0.\n",
      " 0.         0.         0.         0.         0.         0.\n",
      " 0.         0.         0.         0.         0.         0.\n",
      " 0.         0.         0.         0.         0.         0.\n",
      " 0.         0.         0.         0.         0.         0.\n",
      " 0.         0.         0.         0.         0.         0.\n",
      " 0.         0.         0.         0.         0.         0.\n",
      " 0.         0.         0.         0.         0.         0.\n",
      " 0.         0.         0.         0.         0.         0.\n",
      " 0.         0.         0.         0.         0.         0.\n",
      " 0.         0.         0.         0.         0.         0.\n",
      " 0.         0.         0.         0.         0.         0.\n",
      " 0.         0.         0.         0.         0.         0.\n",
      " 0.         0.        ]\n",
      "[0.28439915 0.         0.         0.         0.         0.\n",
      " 0.         0.         0.         0.         0.         0.\n",
      " 0.         0.         0.         0.         0.         0.\n",
      " 0.         0.         0.         0.         0.         0.\n",
      " 0.         0.         0.         0.         0.         0.\n",
      " 0.         0.         0.         0.         0.         0.\n",
      " 0.         0.         0.         0.         0.         0.\n",
      " 0.         0.         0.         0.         0.         0.\n",
      " 0.         0.         0.         0.         0.         0.\n",
      " 0.         0.         0.         0.         0.         0.\n",
      " 0.         0.         0.         0.         0.         0.\n",
      " 0.         0.         0.         0.         0.         0.\n",
      " 0.         0.         0.         0.         0.         0.\n",
      " 0.         0.        ]\n",
      "[0.411019 0.       0.       0.       0.       0.       0.       0.\n",
      " 0.       0.       0.       0.       0.       0.       0.       0.\n",
      " 0.       0.       0.       0.       0.       0.       0.       0.\n",
      " 0.       0.       0.       0.       0.       0.       0.       0.\n",
      " 0.       0.       0.       0.       0.       0.       0.       0.\n",
      " 0.       0.       0.       0.       0.       0.       0.       0.\n",
      " 0.       0.       0.       0.       0.       0.       0.       0.\n",
      " 0.       0.       0.       0.       0.       0.       0.       0.\n",
      " 0.       0.       0.       0.       0.       0.       0.       0.\n",
      " 0.       0.       0.       0.       0.       0.       0.       0.      ]\n",
      "[0.         0.         0.         0.         0.         0.\n",
      " 0.         0.         0.         0.         0.         0.\n",
      " 0.         0.         0.         0.         0.         0.\n",
      " 0.         0.         0.         0.         0.         0.\n",
      " 0.         0.         0.         0.         0.22210184 0.\n",
      " 0.         0.         0.         0.         0.         0.\n",
      " 0.         0.         0.         0.         0.         0.\n",
      " 0.         0.         0.         0.         0.         0.\n",
      " 0.         0.         0.         0.         0.         0.\n",
      " 0.         0.         0.         0.         0.         0.\n",
      " 0.         0.         0.         0.         0.         0.\n",
      " 0.         0.         0.         0.         0.         0.\n",
      " 0.         0.         0.         0.         0.         0.\n",
      " 0.         0.        ]\n"
     ]
    }
   ],
   "source": [
    "for i in new_outputs:\n",
    "    print(i[5:])"
   ]
  },
  {
   "cell_type": "code",
   "execution_count": 79,
   "id": "2a80ce4e",
   "metadata": {},
   "outputs": [],
   "source": [
    "# display image with bounding boxes\n",
    "\n",
    "for detection in new_outputs:\n",
    "    scores = detection[5:]\n",
    "    classID = np.argmax(scores)\n",
    "    confidence = scores[classID]\n",
    "    if confidence > 0.05:\n",
    "        box = detection[:4] * np.array([w, h, w, h])\n",
    "        (centerX, centerY, width, height) = box.astype(\"int\")\n",
    "        x = int(centerX - (width / 2))\n",
    "        y = int(centerY - (height / 2))\n",
    "        box = [x, y, int(width), int(height)]\n",
    "        boxes.append(box)\n",
    "        confidences.append(float(confidence))\n",
    "        classIDs.append(classID)\n",
    "\n",
    "indices = cv.dnn.NMSBoxes(boxes, confidences, 0.5, 0.4)\n",
    "if len(indices) > 0:\n",
    "    for i in indices.flatten():\n",
    "        (x, y) = (boxes[i][0], boxes[i][1])\n",
    "        (w, h) = (boxes[i][2], boxes[i][3])\n",
    "        color = [int(c) for c in colors[classIDs[i]]]\n",
    "        cv.rectangle(img, (x, y), (x + w, y + h), color, 2)\n",
    "        text = \"{}: {:.4f}\".format(classes[classIDs[i]], confidences[i])\n",
    "        cv.putText(img, text, (x, y - 5), cv.FONT_HERSHEY_SIMPLEX, 0.5, color, 1)\n",
    "\n",
    "cv.imshow('window', img)\n",
    "cv.waitKey(3000)\n",
    "cv.destroyAllWindows()\n",
    "cv.waitKey(1)\n",
    "cv.waitKey(1)\n",
    "cv.waitKey(1)\n",
    "cv.waitKey(1);"
   ]
  },
  {
   "cell_type": "code",
   "execution_count": null,
   "id": "cf61898e",
   "metadata": {},
   "outputs": [],
   "source": []
  },
  {
   "cell_type": "code",
   "execution_count": null,
   "id": "281c935b",
   "metadata": {},
   "outputs": [],
   "source": []
  }
 ],
 "metadata": {
  "kernelspec": {
   "display_name": "virat",
   "language": "python",
   "name": "virat"
  },
  "language_info": {
   "codemirror_mode": {
    "name": "ipython",
    "version": 3
   },
   "file_extension": ".py",
   "mimetype": "text/x-python",
   "name": "python",
   "nbconvert_exporter": "python",
   "pygments_lexer": "ipython3",
   "version": "3.11.2"
  }
 },
 "nbformat": 4,
 "nbformat_minor": 5
}
