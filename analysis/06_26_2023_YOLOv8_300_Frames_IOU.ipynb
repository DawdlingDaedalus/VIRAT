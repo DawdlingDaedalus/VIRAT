{
  "nbformat": 4,
  "nbformat_minor": 0,
  "metadata": {
    "colab": {
      "provenance": [],
      "gpuType": "T4"
    },
    "kernelspec": {
      "name": "python3",
      "display_name": "Python 3"
    },
    "language_info": {
      "name": "python"
    },
    "accelerator": "GPU"
  },
  "cells": [
    {
      "cell_type": "markdown",
      "source": [
        "## 1. Data Import"
      ],
      "metadata": {
        "id": "4CaJtbqJpqWx"
      }
    },
    {
      "cell_type": "code",
      "source": [
        "!python --version"
      ],
      "metadata": {
        "colab": {
          "base_uri": "https://localhost:8080/"
        },
        "id": "HKFwf7pCvfON",
        "outputId": "03574878-47b0-4142-afcb-f3f1fda9a908"
      },
      "execution_count": 26,
      "outputs": [
        {
          "output_type": "stream",
          "name": "stdout",
          "text": [
            "Python 3.10.12\n"
          ]
        }
      ]
    },
    {
      "cell_type": "code",
      "execution_count": 1,
      "metadata": {
        "id": "TalsXFrDpMvh"
      },
      "outputs": [],
      "source": [
        "import pandas as pd\n",
        "import numpy as np\n",
        "import torch"
      ]
    },
    {
      "cell_type": "code",
      "source": [
        "# upload sample file: 'VIRAT_S_000200_03_000657_000899_first300.mp4'\n",
        "# this is the first 300 frames of 'VIRAT_S_000200_03_000657_000899.mp4'\n",
        "# viewable at: https://drive.google.com/file/d/1C-HPOEIdZnJm_RSbYGXH6gMLhlmobaxn/view?usp=drive_link\n",
        "\n",
        "!gdown \"https://drive.google.com/uc?id=1C-HPOEIdZnJm_RSbYGXH6gMLhlmobaxn\" -O test.mp4"
      ],
      "metadata": {
        "colab": {
          "base_uri": "https://localhost:8080/"
        },
        "id": "SiElw_37pSZe",
        "outputId": "f39a34e2-8f24-4c36-e4bb-e3f32daba95f"
      },
      "execution_count": 2,
      "outputs": [
        {
          "output_type": "stream",
          "name": "stdout",
          "text": [
            "Downloading...\n",
            "From: https://drive.google.com/uc?id=1C-HPOEIdZnJm_RSbYGXH6gMLhlmobaxn\n",
            "To: /content/test.mp4\n",
            "100% 10.4M/10.4M [00:00<00:00, 27.2MB/s]\n"
          ]
        }
      ]
    },
    {
      "cell_type": "markdown",
      "source": [
        "I used `ffmpeg -i VIRAT_S_000200_03_000657_000899.mp4 -c:v copy -frames:v 300 -r 30 -an ~/Desktop/VIRAT_S_000200_03_000657_000899_first300.mp4` to create cut the first 300 frames of this video to a clip\n",
        "\n"
      ],
      "metadata": {
        "id": "3DZugZRVpckV"
      }
    },
    {
      "cell_type": "code",
      "source": [
        "# display details of clip\n",
        "!ffprobe -v quiet -print_format json -show_format -show_streams test.mp4"
      ],
      "metadata": {
        "colab": {
          "base_uri": "https://localhost:8080/"
        },
        "id": "f34a0TGipYcZ",
        "outputId": "a4a6a200-9ad4-4825-cc98-39b83adb4807"
      },
      "execution_count": 3,
      "outputs": [
        {
          "output_type": "stream",
          "name": "stdout",
          "text": [
            "{\n",
            "    \"streams\": [\n",
            "        {\n",
            "            \"index\": 0,\n",
            "            \"codec_name\": \"mpeg4\",\n",
            "            \"codec_long_name\": \"MPEG-4 part 2\",\n",
            "            \"profile\": \"Simple Profile\",\n",
            "            \"codec_type\": \"video\",\n",
            "            \"codec_time_base\": \"1/30\",\n",
            "            \"codec_tag_string\": \"mp4v\",\n",
            "            \"codec_tag\": \"0x7634706d\",\n",
            "            \"width\": 1280,\n",
            "            \"height\": 720,\n",
            "            \"coded_width\": 1280,\n",
            "            \"coded_height\": 720,\n",
            "            \"has_b_frames\": 0,\n",
            "            \"sample_aspect_ratio\": \"1:1\",\n",
            "            \"display_aspect_ratio\": \"16:9\",\n",
            "            \"pix_fmt\": \"yuv420p\",\n",
            "            \"level\": 3,\n",
            "            \"color_range\": \"tv\",\n",
            "            \"color_space\": \"bt709\",\n",
            "            \"color_transfer\": \"bt709\",\n",
            "            \"color_primaries\": \"bt709\",\n",
            "            \"chroma_location\": \"left\",\n",
            "            \"refs\": 1,\n",
            "            \"quarter_sample\": \"false\",\n",
            "            \"divx_packed\": \"false\",\n",
            "            \"r_frame_rate\": \"30/1\",\n",
            "            \"avg_frame_rate\": \"30/1\",\n",
            "            \"time_base\": \"1/11988\",\n",
            "            \"start_pts\": 0,\n",
            "            \"start_time\": \"0.000000\",\n",
            "            \"duration_ts\": 119880,\n",
            "            \"duration\": \"10.000000\",\n",
            "            \"bit_rate\": \"8320345\",\n",
            "            \"max_bit_rate\": \"8320345\",\n",
            "            \"nb_frames\": \"300\",\n",
            "            \"disposition\": {\n",
            "                \"default\": 1,\n",
            "                \"dub\": 0,\n",
            "                \"original\": 0,\n",
            "                \"comment\": 0,\n",
            "                \"lyrics\": 0,\n",
            "                \"karaoke\": 0,\n",
            "                \"forced\": 0,\n",
            "                \"hearing_impaired\": 0,\n",
            "                \"visual_impaired\": 0,\n",
            "                \"clean_effects\": 0,\n",
            "                \"attached_pic\": 0,\n",
            "                \"timed_thumbnails\": 0\n",
            "            },\n",
            "            \"tags\": {\n",
            "                \"language\": \"und\",\n",
            "                \"handler_name\": \"VideoHandler\"\n",
            "            }\n",
            "        }\n",
            "    ],\n",
            "    \"format\": {\n",
            "        \"filename\": \"test.mp4\",\n",
            "        \"nb_streams\": 1,\n",
            "        \"nb_programs\": 0,\n",
            "        \"format_name\": \"mov,mp4,m4a,3gp,3g2,mj2\",\n",
            "        \"format_long_name\": \"QuickTime / MOV\",\n",
            "        \"start_time\": \"0.000000\",\n",
            "        \"duration\": \"10.000000\",\n",
            "        \"size\": \"10404719\",\n",
            "        \"bit_rate\": \"8323775\",\n",
            "        \"probe_score\": 100,\n",
            "        \"tags\": {\n",
            "            \"major_brand\": \"isom\",\n",
            "            \"minor_version\": \"512\",\n",
            "            \"compatible_brands\": \"isomiso2mp41\",\n",
            "            \"encoder\": \"Lavf60.3.100\"\n",
            "        }\n",
            "    }\n",
            "}\n"
          ]
        }
      ]
    },
    {
      "cell_type": "code",
      "source": [
        "!ls -lh"
      ],
      "metadata": {
        "colab": {
          "base_uri": "https://localhost:8080/"
        },
        "id": "_vTqrpjTpk8M",
        "outputId": "4224858d-47b3-4fb0-ab48-13540c401c00"
      },
      "execution_count": 4,
      "outputs": [
        {
          "output_type": "stream",
          "name": "stdout",
          "text": [
            "total 10M\n",
            "drwxr-xr-x 1 root root 4.0K Jun 23 13:41 sample_data\n",
            "-rw-r--r-- 1 root root  10M Jun 26 21:39 test.mp4\n"
          ]
        }
      ]
    },
    {
      "cell_type": "markdown",
      "source": [
        "## 2. Ground Truth"
      ],
      "metadata": {
        "id": "W2eU2ER5ptR_"
      }
    },
    {
      "cell_type": "markdown",
      "source": [
        "- Data from https://gitlab.kitware.com/viratdata/viratannotations\n",
        "- obtain the ground truth bounding boxes data\n",
        "- store in Pandas DataFrame 'gtdf'"
      ],
      "metadata": {
        "id": "QZY-fDLep5cy"
      }
    },
    {
      "cell_type": "code",
      "source": [
        "# VIRAT_S_000200_03_000657_000899.types.yml\n",
        "!gdown \"https://drive.google.com/uc?id=12h_35hXzoSciduBzDWmpKB2-rgUuraiN\" -O test.types.yml"
      ],
      "metadata": {
        "colab": {
          "base_uri": "https://localhost:8080/"
        },
        "id": "M4IVYOF3pnk7",
        "outputId": "2a0211ed-ad46-401b-a2a2-2d826743a634"
      },
      "execution_count": 5,
      "outputs": [
        {
          "output_type": "stream",
          "name": "stdout",
          "text": [
            "Downloading...\n",
            "From: https://drive.google.com/uc?id=12h_35hXzoSciduBzDWmpKB2-rgUuraiN\n",
            "To: /content/test.types.yml\n",
            "\r  0% 0.00/2.71k [00:00<?, ?B/s]\r100% 2.71k/2.71k [00:00<00:00, 14.6MB/s]\n"
          ]
        }
      ]
    },
    {
      "cell_type": "code",
      "source": [
        "# VIRAT_S_000200_03_000657_000899.regions.yml\n",
        "!gdown \"https://drive.google.com/uc?id=1Ieau47ZxLLpE6mw04XwjfANeQPB9m7hY\" -O test.regions.yml"
      ],
      "metadata": {
        "colab": {
          "base_uri": "https://localhost:8080/"
        },
        "id": "G1TC6KILp-ZM",
        "outputId": "cfd3df0c-6c7e-4f6e-e105-2861cff3d3c4"
      },
      "execution_count": 6,
      "outputs": [
        {
          "output_type": "stream",
          "name": "stdout",
          "text": [
            "Downloading...\n",
            "From: https://drive.google.com/uc?id=1Ieau47ZxLLpE6mw04XwjfANeQPB9m7hY\n",
            "To: /content/test.regions.yml\n",
            "100% 12.6M/12.6M [00:00<00:00, 49.1MB/s]\n"
          ]
        }
      ]
    },
    {
      "cell_type": "code",
      "source": [
        "# VIRAT_S_000200_03_000657_000899.geom.yml\n",
        "!gdown \"https://drive.google.com/uc?id=1UH9s2MPSZFdJJ7TD827DrmqGPtR_CWdQ\" -O test.geom.yml"
      ],
      "metadata": {
        "colab": {
          "base_uri": "https://localhost:8080/"
        },
        "id": "yKfgQcyvqAJE",
        "outputId": "b8d5d620-f540-4bc9-a545-d8d459e7dd39"
      },
      "execution_count": 7,
      "outputs": [
        {
          "output_type": "stream",
          "name": "stdout",
          "text": [
            "Downloading...\n",
            "From: https://drive.google.com/uc?id=1UH9s2MPSZFdJJ7TD827DrmqGPtR_CWdQ\n",
            "To: /content/test.geom.yml\n",
            "100% 8.54M/8.54M [00:00<00:00, 31.9MB/s]\n"
          ]
        }
      ]
    },
    {
      "cell_type": "code",
      "source": [
        "# VIRAT_S_000200_03_000657_000899.activities.yml\n",
        "!gdown \"https://drive.google.com/uc?id=1tTAnWLE5f9FhbWCe4vElR7gD9aK0jYin\" -O test.activities.yml"
      ],
      "metadata": {
        "colab": {
          "base_uri": "https://localhost:8080/"
        },
        "id": "YXtZox9HqBo0",
        "outputId": "46efb199-1a56-42b8-ab8a-84279cb48298"
      },
      "execution_count": 8,
      "outputs": [
        {
          "output_type": "stream",
          "name": "stdout",
          "text": [
            "Downloading...\n",
            "From: https://drive.google.com/uc?id=1tTAnWLE5f9FhbWCe4vElR7gD9aK0jYin\n",
            "To: /content/test.activities.yml\n",
            "\r  0% 0.00/14.3k [00:00<?, ?B/s]\r100% 14.3k/14.3k [00:00<00:00, 62.9MB/s]\n"
          ]
        }
      ]
    },
    {
      "cell_type": "code",
      "source": [
        "!ls -lh"
      ],
      "metadata": {
        "colab": {
          "base_uri": "https://localhost:8080/"
        },
        "id": "5vK_LQWzqDA8",
        "outputId": "272dce7b-e9d8-4242-d756-02c1087ccdb8"
      },
      "execution_count": 9,
      "outputs": [
        {
          "output_type": "stream",
          "name": "stdout",
          "text": [
            "total 31M\n",
            "drwxr-xr-x 1 root root 4.0K Jun 23 13:41 sample_data\n",
            "-rw-r--r-- 1 root root  14K Jun 26 21:42 test.activities.yml\n",
            "-rw-r--r-- 1 root root 8.2M Jun 26 21:42 test.geom.yml\n",
            "-rw-r--r-- 1 root root  10M Jun 26 21:39 test.mp4\n",
            "-rw-r--r-- 1 root root  12M Jun 26 21:42 test.regions.yml\n",
            "-rw-r--r-- 1 root root 2.7K Jun 26 21:41 test.types.yml\n"
          ]
        }
      ]
    },
    {
      "cell_type": "code",
      "source": [
        "# get bounding boxes, classes and track ids for detections in the first frame\n",
        "import yaml\n",
        "\n",
        "file_path = 'test.geom.yml'\n",
        "with open(file_path, 'r') as file:\n",
        "    geom = yaml.safe_load(file)\n",
        "file_path = 'test.types.yml'\n",
        "with open(file_path, 'r') as file:\n",
        "    types = yaml.safe_load(file)"
      ],
      "metadata": {
        "id": "Li5MdfCvqE_H"
      },
      "execution_count": 10,
      "outputs": []
    },
    {
      "cell_type": "markdown",
      "source": [
        "### Create Ground Truth DataFrame"
      ],
      "metadata": {
        "id": "CJENLOOSqI_u"
      }
    },
    {
      "cell_type": "markdown",
      "source": [
        "AS pd.DataFrame </br>\n",
        "format: </br>\n",
        "{idx: geom_id0, </br>\n",
        "track_id: geom_id1, </br>\n",
        "label: types_cset3-key_on_id1, </br>\n",
        "conf: types_cset3-value_on_id1, </br>\n",
        "frame: geom_ts0, </br>\n",
        "xmin: geom_g0.split(' ')[0], ymin: geom_g0.split(' ')[1], xmax: geom_g0.split(' ')[2], ymax: geom_g0.split(' ')[3]}"
      ],
      "metadata": {
        "id": "ACm-Ft_SqJr_"
      }
    },
    {
      "cell_type": "code",
      "source": [
        "detections = []\n",
        "\n",
        "# lists for populating dictionary then DataFrame\n",
        "idx = []\n",
        "track_id = []\n",
        "labels = []\n",
        "labels_ints = []\n",
        "confs = []\n",
        "frame = []\n",
        "xmin, ymin, xmax, ymax = [], [], [], []\n",
        "\n",
        "for i in geom:\n",
        "  try:\n",
        "    if i['geom']['id0'] > -1:  # populates data from all detections\n",
        "      detections.append(i)\n",
        "      idx.append(i['geom']['id0'])\n",
        "      track_id.append(i['geom']['id1'])\n",
        "      frame.append(i['geom']['ts0'])\n",
        "      bb = i['geom']['g0'].split(' ')\n",
        "      xmin.append(int(bb[0]))\n",
        "      ymin.append(int(bb[1]))\n",
        "      xmax.append(int(bb[2]))\n",
        "      ymax.append(int(bb[3]))\n",
        "\n",
        "      for j in types:\n",
        "        try:\n",
        "          if j['types']['id1'] == track_id[-1]:  # pulls labels and confidences (by track id --> 'id1') from types.yaml file\n",
        "            label, conf = next(iter(j['types']['cset3'].items()))\n",
        "            confs.append(conf)\n",
        "            labels.append(label)\n",
        "            # also save labels as ints for comparison with YOLOv8 Predictions later on\n",
        "            if label == 'Person':\n",
        "              labels_ints.append(0)\n",
        "            elif label == 'Bike':\n",
        "              labels_ints.append(1)\n",
        "            elif label == 'Vehicle':\n",
        "              labels_ints.append(2)\n",
        "            else:\n",
        "              labels_ints.append(-1)\n",
        "        except:\n",
        "          pass\n",
        "  except:\n",
        "    pass\n",
        "\n",
        "print('idx: ', len(idx),\n",
        "      'track_id: ', len(track_id),\n",
        "      'label: ', len(labels),\n",
        "      'conf: ', len(confs),\n",
        "      'frame: ', len(frame))\n",
        "\n",
        "\n",
        "gt = {'idx_gt': idx, 'track_id_gt': track_id, 'label_gt': labels,\n",
        "      'label_as_int_gt': labels_ints, 'conf_gt': confs, 'frame_gt': frame,\n",
        "      'xmin_gt': xmin, 'ymin_gt': ymin, 'xmax_gt': xmax, 'ymax_gt': ymax}\n",
        "df_gt = pd.DataFrame(gt)\n",
        "df_gt"
      ],
      "metadata": {
        "colab": {
          "base_uri": "https://localhost:8080/",
          "height": 441
        },
        "id": "-CrzcvxU2cqM",
        "outputId": "d1e563ce-a3e6-4181-af27-282d1c4b610f"
      },
      "execution_count": 31,
      "outputs": [
        {
          "output_type": "stream",
          "name": "stdout",
          "text": [
            "idx:  79997 track_id:  79997 label:  79997 conf:  79997 frame:  79997\n"
          ]
        },
        {
          "output_type": "execute_result",
          "data": {
            "text/plain": [
              "       idx_gt  track_id_gt label_gt  label_as_int_gt  conf_gt  frame_gt  \\\n",
              "0           0            1  Vehicle                2      1.0         0   \n",
              "1           1            1  Vehicle                2      1.0         1   \n",
              "2           2            1  Vehicle                2      1.0         2   \n",
              "3           3            1  Vehicle                2      1.0         3   \n",
              "4           4            1  Vehicle                2      1.0         4   \n",
              "...       ...          ...      ...              ...      ...       ...   \n",
              "79992   79992         5030     Door               -1      1.0      7238   \n",
              "79993   79993         5030     Door               -1      1.0      7239   \n",
              "79994   79994         5030     Door               -1      1.0      7240   \n",
              "79995   79995         5030     Door               -1      1.0      7241   \n",
              "79996   79996         5030     Door               -1      1.0      7242   \n",
              "\n",
              "       xmin_gt  ymin_gt  xmax_gt  ymax_gt  \n",
              "0          946      327     1010      360  \n",
              "1          945      326     1009      359  \n",
              "2          945      326     1009      359  \n",
              "3          945      326     1009      359  \n",
              "4          945      326     1009      359  \n",
              "...        ...      ...      ...      ...  \n",
              "79992       72      423       95      487  \n",
              "79993       72      423       95      487  \n",
              "79994       72      423       95      487  \n",
              "79995       72      423       95      487  \n",
              "79996       72      423       95      487  \n",
              "\n",
              "[79997 rows x 10 columns]"
            ],
            "text/html": [
              "\n",
              "  <div id=\"df-141ecd90-fdef-4b5a-aca2-db3f21b16479\">\n",
              "    <div class=\"colab-df-container\">\n",
              "      <div>\n",
              "<style scoped>\n",
              "    .dataframe tbody tr th:only-of-type {\n",
              "        vertical-align: middle;\n",
              "    }\n",
              "\n",
              "    .dataframe tbody tr th {\n",
              "        vertical-align: top;\n",
              "    }\n",
              "\n",
              "    .dataframe thead th {\n",
              "        text-align: right;\n",
              "    }\n",
              "</style>\n",
              "<table border=\"1\" class=\"dataframe\">\n",
              "  <thead>\n",
              "    <tr style=\"text-align: right;\">\n",
              "      <th></th>\n",
              "      <th>idx_gt</th>\n",
              "      <th>track_id_gt</th>\n",
              "      <th>label_gt</th>\n",
              "      <th>label_as_int_gt</th>\n",
              "      <th>conf_gt</th>\n",
              "      <th>frame_gt</th>\n",
              "      <th>xmin_gt</th>\n",
              "      <th>ymin_gt</th>\n",
              "      <th>xmax_gt</th>\n",
              "      <th>ymax_gt</th>\n",
              "    </tr>\n",
              "  </thead>\n",
              "  <tbody>\n",
              "    <tr>\n",
              "      <th>0</th>\n",
              "      <td>0</td>\n",
              "      <td>1</td>\n",
              "      <td>Vehicle</td>\n",
              "      <td>2</td>\n",
              "      <td>1.0</td>\n",
              "      <td>0</td>\n",
              "      <td>946</td>\n",
              "      <td>327</td>\n",
              "      <td>1010</td>\n",
              "      <td>360</td>\n",
              "    </tr>\n",
              "    <tr>\n",
              "      <th>1</th>\n",
              "      <td>1</td>\n",
              "      <td>1</td>\n",
              "      <td>Vehicle</td>\n",
              "      <td>2</td>\n",
              "      <td>1.0</td>\n",
              "      <td>1</td>\n",
              "      <td>945</td>\n",
              "      <td>326</td>\n",
              "      <td>1009</td>\n",
              "      <td>359</td>\n",
              "    </tr>\n",
              "    <tr>\n",
              "      <th>2</th>\n",
              "      <td>2</td>\n",
              "      <td>1</td>\n",
              "      <td>Vehicle</td>\n",
              "      <td>2</td>\n",
              "      <td>1.0</td>\n",
              "      <td>2</td>\n",
              "      <td>945</td>\n",
              "      <td>326</td>\n",
              "      <td>1009</td>\n",
              "      <td>359</td>\n",
              "    </tr>\n",
              "    <tr>\n",
              "      <th>3</th>\n",
              "      <td>3</td>\n",
              "      <td>1</td>\n",
              "      <td>Vehicle</td>\n",
              "      <td>2</td>\n",
              "      <td>1.0</td>\n",
              "      <td>3</td>\n",
              "      <td>945</td>\n",
              "      <td>326</td>\n",
              "      <td>1009</td>\n",
              "      <td>359</td>\n",
              "    </tr>\n",
              "    <tr>\n",
              "      <th>4</th>\n",
              "      <td>4</td>\n",
              "      <td>1</td>\n",
              "      <td>Vehicle</td>\n",
              "      <td>2</td>\n",
              "      <td>1.0</td>\n",
              "      <td>4</td>\n",
              "      <td>945</td>\n",
              "      <td>326</td>\n",
              "      <td>1009</td>\n",
              "      <td>359</td>\n",
              "    </tr>\n",
              "    <tr>\n",
              "      <th>...</th>\n",
              "      <td>...</td>\n",
              "      <td>...</td>\n",
              "      <td>...</td>\n",
              "      <td>...</td>\n",
              "      <td>...</td>\n",
              "      <td>...</td>\n",
              "      <td>...</td>\n",
              "      <td>...</td>\n",
              "      <td>...</td>\n",
              "      <td>...</td>\n",
              "    </tr>\n",
              "    <tr>\n",
              "      <th>79992</th>\n",
              "      <td>79992</td>\n",
              "      <td>5030</td>\n",
              "      <td>Door</td>\n",
              "      <td>-1</td>\n",
              "      <td>1.0</td>\n",
              "      <td>7238</td>\n",
              "      <td>72</td>\n",
              "      <td>423</td>\n",
              "      <td>95</td>\n",
              "      <td>487</td>\n",
              "    </tr>\n",
              "    <tr>\n",
              "      <th>79993</th>\n",
              "      <td>79993</td>\n",
              "      <td>5030</td>\n",
              "      <td>Door</td>\n",
              "      <td>-1</td>\n",
              "      <td>1.0</td>\n",
              "      <td>7239</td>\n",
              "      <td>72</td>\n",
              "      <td>423</td>\n",
              "      <td>95</td>\n",
              "      <td>487</td>\n",
              "    </tr>\n",
              "    <tr>\n",
              "      <th>79994</th>\n",
              "      <td>79994</td>\n",
              "      <td>5030</td>\n",
              "      <td>Door</td>\n",
              "      <td>-1</td>\n",
              "      <td>1.0</td>\n",
              "      <td>7240</td>\n",
              "      <td>72</td>\n",
              "      <td>423</td>\n",
              "      <td>95</td>\n",
              "      <td>487</td>\n",
              "    </tr>\n",
              "    <tr>\n",
              "      <th>79995</th>\n",
              "      <td>79995</td>\n",
              "      <td>5030</td>\n",
              "      <td>Door</td>\n",
              "      <td>-1</td>\n",
              "      <td>1.0</td>\n",
              "      <td>7241</td>\n",
              "      <td>72</td>\n",
              "      <td>423</td>\n",
              "      <td>95</td>\n",
              "      <td>487</td>\n",
              "    </tr>\n",
              "    <tr>\n",
              "      <th>79996</th>\n",
              "      <td>79996</td>\n",
              "      <td>5030</td>\n",
              "      <td>Door</td>\n",
              "      <td>-1</td>\n",
              "      <td>1.0</td>\n",
              "      <td>7242</td>\n",
              "      <td>72</td>\n",
              "      <td>423</td>\n",
              "      <td>95</td>\n",
              "      <td>487</td>\n",
              "    </tr>\n",
              "  </tbody>\n",
              "</table>\n",
              "<p>79997 rows × 10 columns</p>\n",
              "</div>\n",
              "      <button class=\"colab-df-convert\" onclick=\"convertToInteractive('df-141ecd90-fdef-4b5a-aca2-db3f21b16479')\"\n",
              "              title=\"Convert this dataframe to an interactive table.\"\n",
              "              style=\"display:none;\">\n",
              "        \n",
              "  <svg xmlns=\"http://www.w3.org/2000/svg\" height=\"24px\"viewBox=\"0 0 24 24\"\n",
              "       width=\"24px\">\n",
              "    <path d=\"M0 0h24v24H0V0z\" fill=\"none\"/>\n",
              "    <path d=\"M18.56 5.44l.94 2.06.94-2.06 2.06-.94-2.06-.94-.94-2.06-.94 2.06-2.06.94zm-11 1L8.5 8.5l.94-2.06 2.06-.94-2.06-.94L8.5 2.5l-.94 2.06-2.06.94zm10 10l.94 2.06.94-2.06 2.06-.94-2.06-.94-.94-2.06-.94 2.06-2.06.94z\"/><path d=\"M17.41 7.96l-1.37-1.37c-.4-.4-.92-.59-1.43-.59-.52 0-1.04.2-1.43.59L10.3 9.45l-7.72 7.72c-.78.78-.78 2.05 0 2.83L4 21.41c.39.39.9.59 1.41.59.51 0 1.02-.2 1.41-.59l7.78-7.78 2.81-2.81c.8-.78.8-2.07 0-2.86zM5.41 20L4 18.59l7.72-7.72 1.47 1.35L5.41 20z\"/>\n",
              "  </svg>\n",
              "      </button>\n",
              "      \n",
              "  <style>\n",
              "    .colab-df-container {\n",
              "      display:flex;\n",
              "      flex-wrap:wrap;\n",
              "      gap: 12px;\n",
              "    }\n",
              "\n",
              "    .colab-df-convert {\n",
              "      background-color: #E8F0FE;\n",
              "      border: none;\n",
              "      border-radius: 50%;\n",
              "      cursor: pointer;\n",
              "      display: none;\n",
              "      fill: #1967D2;\n",
              "      height: 32px;\n",
              "      padding: 0 0 0 0;\n",
              "      width: 32px;\n",
              "    }\n",
              "\n",
              "    .colab-df-convert:hover {\n",
              "      background-color: #E2EBFA;\n",
              "      box-shadow: 0px 1px 2px rgba(60, 64, 67, 0.3), 0px 1px 3px 1px rgba(60, 64, 67, 0.15);\n",
              "      fill: #174EA6;\n",
              "    }\n",
              "\n",
              "    [theme=dark] .colab-df-convert {\n",
              "      background-color: #3B4455;\n",
              "      fill: #D2E3FC;\n",
              "    }\n",
              "\n",
              "    [theme=dark] .colab-df-convert:hover {\n",
              "      background-color: #434B5C;\n",
              "      box-shadow: 0px 1px 3px 1px rgba(0, 0, 0, 0.15);\n",
              "      filter: drop-shadow(0px 1px 2px rgba(0, 0, 0, 0.3));\n",
              "      fill: #FFFFFF;\n",
              "    }\n",
              "  </style>\n",
              "\n",
              "      <script>\n",
              "        const buttonEl =\n",
              "          document.querySelector('#df-141ecd90-fdef-4b5a-aca2-db3f21b16479 button.colab-df-convert');\n",
              "        buttonEl.style.display =\n",
              "          google.colab.kernel.accessAllowed ? 'block' : 'none';\n",
              "\n",
              "        async function convertToInteractive(key) {\n",
              "          const element = document.querySelector('#df-141ecd90-fdef-4b5a-aca2-db3f21b16479');\n",
              "          const dataTable =\n",
              "            await google.colab.kernel.invokeFunction('convertToInteractive',\n",
              "                                                     [key], {});\n",
              "          if (!dataTable) return;\n",
              "\n",
              "          const docLinkHtml = 'Like what you see? Visit the ' +\n",
              "            '<a target=\"_blank\" href=https://colab.research.google.com/notebooks/data_table.ipynb>data table notebook</a>'\n",
              "            + ' to learn more about interactive tables.';\n",
              "          element.innerHTML = '';\n",
              "          dataTable['output_type'] = 'display_data';\n",
              "          await google.colab.output.renderOutput(dataTable, element);\n",
              "          const docLink = document.createElement('div');\n",
              "          docLink.innerHTML = docLinkHtml;\n",
              "          element.appendChild(docLink);\n",
              "        }\n",
              "      </script>\n",
              "    </div>\n",
              "  </div>\n",
              "  "
            ]
          },
          "metadata": {},
          "execution_count": 31
        }
      ]
    },
    {
      "cell_type": "code",
      "source": [
        "df_gt.info()"
      ],
      "metadata": {
        "colab": {
          "base_uri": "https://localhost:8080/"
        },
        "id": "i-ussYmgqTNK",
        "outputId": "0843fc36-9cd0-45d9-e5d1-9a6766253694"
      },
      "execution_count": 32,
      "outputs": [
        {
          "output_type": "stream",
          "name": "stdout",
          "text": [
            "<class 'pandas.core.frame.DataFrame'>\n",
            "RangeIndex: 79997 entries, 0 to 79996\n",
            "Data columns (total 10 columns):\n",
            " #   Column           Non-Null Count  Dtype  \n",
            "---  ------           --------------  -----  \n",
            " 0   idx_gt           79997 non-null  int64  \n",
            " 1   track_id_gt      79997 non-null  int64  \n",
            " 2   label_gt         79997 non-null  object \n",
            " 3   label_as_int_gt  79997 non-null  int64  \n",
            " 4   conf_gt          79997 non-null  float64\n",
            " 5   frame_gt         79997 non-null  int64  \n",
            " 6   xmin_gt          79997 non-null  int64  \n",
            " 7   ymin_gt          79997 non-null  int64  \n",
            " 8   xmax_gt          79997 non-null  int64  \n",
            " 9   ymax_gt          79997 non-null  int64  \n",
            "dtypes: float64(1), int64(8), object(1)\n",
            "memory usage: 6.1+ MB\n"
          ]
        }
      ]
    },
    {
      "cell_type": "markdown",
      "source": [
        "## 3. Get Predictions\n",
        "- get inference from YOLOv8 with ByteTracker on this test clip\n",
        "- store predictions in Pandas DataFrame 'preddf'"
      ],
      "metadata": {
        "id": "ZbG2baCHqXpI"
      }
    },
    {
      "cell_type": "markdown",
      "source": [
        "Install YOLOv8"
      ],
      "metadata": {
        "id": "kMwNAd-4qZik"
      }
    },
    {
      "cell_type": "code",
      "source": [
        "!pip -q install ultralytics\n",
        "!pip -q install lap"
      ],
      "metadata": {
        "colab": {
          "base_uri": "https://localhost:8080/"
        },
        "id": "yeEeGAtjqVHT",
        "outputId": "2ee68d09-b025-4d38-89af-0ba2094d21a2"
      },
      "execution_count": 14,
      "outputs": [
        {
          "output_type": "stream",
          "name": "stdout",
          "text": [
            "\u001b[2K     \u001b[90m━━━━━━━━━━━━━━━━━━━━━━━━━━━━━━━━━━━━━━\u001b[0m \u001b[32m612.4/612.4 kB\u001b[0m \u001b[31m41.2 MB/s\u001b[0m eta \u001b[36m0:00:00\u001b[0m\n",
            "\u001b[2K     \u001b[90m━━━━━━━━━━━━━━━━━━━━━━━━━━━━━━━━━━━━━━━━\u001b[0m \u001b[32m1.5/1.5 MB\u001b[0m \u001b[31m42.1 MB/s\u001b[0m eta \u001b[36m0:00:00\u001b[0m\n",
            "\u001b[?25h  Preparing metadata (setup.py) ... \u001b[?25l\u001b[?25hdone\n",
            "  Building wheel for lap (setup.py) ... \u001b[?25l\u001b[?25hdone\n"
          ]
        }
      ]
    },
    {
      "cell_type": "code",
      "source": [
        "from ultralytics import YOLO\n",
        "import lap\n",
        "\n",
        "model = YOLO('yolov8n.pt')"
      ],
      "metadata": {
        "colab": {
          "base_uri": "https://localhost:8080/"
        },
        "id": "vxjtLsvQqb8m",
        "outputId": "144c8518-2d01-4901-b02f-e55eca4c7a90"
      },
      "execution_count": 15,
      "outputs": [
        {
          "output_type": "stream",
          "name": "stderr",
          "text": [
            "Downloading https://github.com/ultralytics/assets/releases/download/v0.0.0/yolov8n.pt to yolov8n.pt...\n",
            "100%|██████████| 6.23M/6.23M [00:00<00:00, 8.37MB/s]\n"
          ]
        }
      ]
    },
    {
      "cell_type": "code",
      "source": [
        "results = model.track(source='/content/test.mp4', conf=0.12, iou=0.5,\n",
        "                      device=0, save_txt=True, imgsz=1280, classes=[0,1,2],\n",
        "                      tracker=\"bytetrack.yaml\", stream=True)\n",
        "list_results = list(results)"
      ],
      "metadata": {
        "colab": {
          "base_uri": "https://localhost:8080/"
        },
        "id": "3L4oqUohqdmd",
        "outputId": "67237e26-c5b6-4c77-a823-f000641f2e99"
      },
      "execution_count": 16,
      "outputs": [
        {
          "output_type": "stream",
          "name": "stderr",
          "text": [
            "\n",
            "video 1/1 (1/300) /content/test.mp4: 736x1280 3 persons, 5 cars, 62.0ms\n",
            "video 1/1 (2/300) /content/test.mp4: 736x1280 3 persons, 5 cars, 13.4ms\n",
            "video 1/1 (3/300) /content/test.mp4: 736x1280 3 persons, 5 cars, 13.4ms\n",
            "video 1/1 (4/300) /content/test.mp4: 736x1280 3 persons, 5 cars, 13.3ms\n",
            "video 1/1 (5/300) /content/test.mp4: 736x1280 3 persons, 5 cars, 13.3ms\n",
            "video 1/1 (6/300) /content/test.mp4: 736x1280 3 persons, 5 cars, 13.4ms\n",
            "video 1/1 (7/300) /content/test.mp4: 736x1280 3 persons, 5 cars, 13.4ms\n",
            "video 1/1 (8/300) /content/test.mp4: 736x1280 3 persons, 5 cars, 13.4ms\n",
            "video 1/1 (9/300) /content/test.mp4: 736x1280 3 persons, 5 cars, 12.9ms\n",
            "video 1/1 (10/300) /content/test.mp4: 736x1280 3 persons, 5 cars, 12.9ms\n",
            "video 1/1 (11/300) /content/test.mp4: 736x1280 3 persons, 5 cars, 14.3ms\n",
            "video 1/1 (12/300) /content/test.mp4: 736x1280 3 persons, 5 cars, 12.9ms\n",
            "video 1/1 (13/300) /content/test.mp4: 736x1280 3 persons, 5 cars, 12.9ms\n",
            "video 1/1 (14/300) /content/test.mp4: 736x1280 3 persons, 5 cars, 12.9ms\n",
            "video 1/1 (15/300) /content/test.mp4: 736x1280 3 persons, 5 cars, 12.4ms\n",
            "video 1/1 (16/300) /content/test.mp4: 736x1280 3 persons, 5 cars, 12.4ms\n",
            "video 1/1 (17/300) /content/test.mp4: 736x1280 3 persons, 5 cars, 12.5ms\n",
            "video 1/1 (18/300) /content/test.mp4: 736x1280 3 persons, 5 cars, 12.8ms\n",
            "video 1/1 (19/300) /content/test.mp4: 736x1280 3 persons, 5 cars, 12.4ms\n",
            "video 1/1 (20/300) /content/test.mp4: 736x1280 3 persons, 5 cars, 12.4ms\n",
            "video 1/1 (21/300) /content/test.mp4: 736x1280 3 persons, 5 cars, 12.7ms\n",
            "video 1/1 (22/300) /content/test.mp4: 736x1280 3 persons, 5 cars, 11.1ms\n",
            "video 1/1 (23/300) /content/test.mp4: 736x1280 3 persons, 5 cars, 11.1ms\n",
            "video 1/1 (24/300) /content/test.mp4: 736x1280 3 persons, 5 cars, 11.1ms\n",
            "video 1/1 (25/300) /content/test.mp4: 736x1280 3 persons, 5 cars, 11.1ms\n",
            "video 1/1 (26/300) /content/test.mp4: 736x1280 3 persons, 5 cars, 11.1ms\n",
            "video 1/1 (27/300) /content/test.mp4: 736x1280 3 persons, 5 cars, 11.1ms\n",
            "video 1/1 (28/300) /content/test.mp4: 736x1280 3 persons, 5 cars, 11.1ms\n",
            "video 1/1 (29/300) /content/test.mp4: 736x1280 3 persons, 5 cars, 10.8ms\n",
            "video 1/1 (30/300) /content/test.mp4: 736x1280 3 persons, 5 cars, 10.8ms\n",
            "video 1/1 (31/300) /content/test.mp4: 736x1280 3 persons, 5 cars, 10.8ms\n",
            "video 1/1 (32/300) /content/test.mp4: 736x1280 3 persons, 5 cars, 10.8ms\n",
            "video 1/1 (33/300) /content/test.mp4: 736x1280 3 persons, 5 cars, 10.8ms\n",
            "video 1/1 (34/300) /content/test.mp4: 736x1280 3 persons, 5 cars, 10.8ms\n",
            "video 1/1 (35/300) /content/test.mp4: 736x1280 3 persons, 5 cars, 10.8ms\n",
            "video 1/1 (36/300) /content/test.mp4: 736x1280 3 persons, 5 cars, 10.9ms\n",
            "video 1/1 (37/300) /content/test.mp4: 736x1280 3 persons, 5 cars, 10.8ms\n",
            "video 1/1 (38/300) /content/test.mp4: 736x1280 3 persons, 5 cars, 10.8ms\n",
            "video 1/1 (39/300) /content/test.mp4: 736x1280 3 persons, 5 cars, 10.8ms\n",
            "video 1/1 (40/300) /content/test.mp4: 736x1280 3 persons, 5 cars, 10.8ms\n",
            "video 1/1 (41/300) /content/test.mp4: 736x1280 3 persons, 5 cars, 10.8ms\n",
            "video 1/1 (42/300) /content/test.mp4: 736x1280 3 persons, 5 cars, 12.3ms\n",
            "video 1/1 (43/300) /content/test.mp4: 736x1280 3 persons, 5 cars, 10.8ms\n",
            "video 1/1 (44/300) /content/test.mp4: 736x1280 3 persons, 5 cars, 10.8ms\n",
            "video 1/1 (45/300) /content/test.mp4: 736x1280 3 persons, 5 cars, 10.8ms\n",
            "video 1/1 (46/300) /content/test.mp4: 736x1280 3 persons, 5 cars, 10.8ms\n",
            "video 1/1 (47/300) /content/test.mp4: 736x1280 3 persons, 5 cars, 10.8ms\n",
            "video 1/1 (48/300) /content/test.mp4: 736x1280 3 persons, 5 cars, 11.2ms\n",
            "video 1/1 (49/300) /content/test.mp4: 736x1280 3 persons, 5 cars, 10.8ms\n",
            "video 1/1 (50/300) /content/test.mp4: 736x1280 3 persons, 5 cars, 10.6ms\n",
            "video 1/1 (51/300) /content/test.mp4: 736x1280 3 persons, 5 cars, 10.4ms\n",
            "video 1/1 (52/300) /content/test.mp4: 736x1280 3 persons, 5 cars, 10.4ms\n",
            "video 1/1 (53/300) /content/test.mp4: 736x1280 3 persons, 5 cars, 10.4ms\n",
            "video 1/1 (54/300) /content/test.mp4: 736x1280 3 persons, 5 cars, 10.4ms\n",
            "video 1/1 (55/300) /content/test.mp4: 736x1280 3 persons, 5 cars, 10.4ms\n",
            "video 1/1 (56/300) /content/test.mp4: 736x1280 3 persons, 5 cars, 10.4ms\n",
            "video 1/1 (57/300) /content/test.mp4: 736x1280 3 persons, 5 cars, 10.4ms\n",
            "video 1/1 (58/300) /content/test.mp4: 736x1280 3 persons, 5 cars, 10.0ms\n",
            "video 1/1 (59/300) /content/test.mp4: 736x1280 3 persons, 5 cars, 10.0ms\n",
            "video 1/1 (60/300) /content/test.mp4: 736x1280 3 persons, 5 cars, 11.2ms\n",
            "video 1/1 (61/300) /content/test.mp4: 736x1280 3 persons, 5 cars, 10.0ms\n",
            "video 1/1 (62/300) /content/test.mp4: 736x1280 3 persons, 5 cars, 10.0ms\n",
            "video 1/1 (63/300) /content/test.mp4: 736x1280 3 persons, 5 cars, 10.0ms\n",
            "video 1/1 (64/300) /content/test.mp4: 736x1280 3 persons, 5 cars, 10.4ms\n",
            "video 1/1 (65/300) /content/test.mp4: 736x1280 3 persons, 4 cars, 10.0ms\n",
            "video 1/1 (66/300) /content/test.mp4: 736x1280 3 persons, 4 cars, 14.5ms\n",
            "video 1/1 (67/300) /content/test.mp4: 736x1280 3 persons, 4 cars, 10.0ms\n",
            "video 1/1 (68/300) /content/test.mp4: 736x1280 3 persons, 4 cars, 10.0ms\n",
            "video 1/1 (69/300) /content/test.mp4: 736x1280 3 persons, 4 cars, 10.0ms\n",
            "video 1/1 (70/300) /content/test.mp4: 736x1280 3 persons, 4 cars, 10.0ms\n",
            "video 1/1 (71/300) /content/test.mp4: 736x1280 3 persons, 4 cars, 10.0ms\n",
            "video 1/1 (72/300) /content/test.mp4: 736x1280 3 persons, 5 cars, 10.0ms\n",
            "video 1/1 (73/300) /content/test.mp4: 736x1280 3 persons, 5 cars, 10.0ms\n",
            "video 1/1 (74/300) /content/test.mp4: 736x1280 3 persons, 5 cars, 10.0ms\n",
            "video 1/1 (75/300) /content/test.mp4: 736x1280 3 persons, 5 cars, 10.0ms\n",
            "video 1/1 (76/300) /content/test.mp4: 736x1280 3 persons, 5 cars, 10.0ms\n",
            "video 1/1 (77/300) /content/test.mp4: 736x1280 3 persons, 5 cars, 10.0ms\n",
            "video 1/1 (78/300) /content/test.mp4: 736x1280 3 persons, 4 cars, 10.0ms\n",
            "video 1/1 (79/300) /content/test.mp4: 736x1280 3 persons, 4 cars, 10.0ms\n",
            "video 1/1 (80/300) /content/test.mp4: 736x1280 3 persons, 4 cars, 10.1ms\n",
            "video 1/1 (81/300) /content/test.mp4: 736x1280 3 persons, 4 cars, 10.0ms\n",
            "video 1/1 (82/300) /content/test.mp4: 736x1280 3 persons, 4 cars, 10.0ms\n",
            "video 1/1 (83/300) /content/test.mp4: 736x1280 3 persons, 4 cars, 10.0ms\n",
            "video 1/1 (84/300) /content/test.mp4: 736x1280 3 persons, 4 cars, 10.0ms\n",
            "video 1/1 (85/300) /content/test.mp4: 736x1280 3 persons, 4 cars, 10.0ms\n",
            "video 1/1 (86/300) /content/test.mp4: 736x1280 3 persons, 4 cars, 10.1ms\n",
            "video 1/1 (87/300) /content/test.mp4: 736x1280 3 persons, 4 cars, 9.5ms\n",
            "video 1/1 (88/300) /content/test.mp4: 736x1280 3 persons, 4 cars, 9.5ms\n",
            "video 1/1 (89/300) /content/test.mp4: 736x1280 3 persons, 5 cars, 9.5ms\n",
            "video 1/1 (90/300) /content/test.mp4: 736x1280 3 persons, 5 cars, 9.5ms\n",
            "video 1/1 (91/300) /content/test.mp4: 736x1280 3 persons, 5 cars, 9.5ms\n",
            "video 1/1 (92/300) /content/test.mp4: 736x1280 3 persons, 5 cars, 9.5ms\n",
            "video 1/1 (93/300) /content/test.mp4: 736x1280 3 persons, 5 cars, 9.5ms\n",
            "video 1/1 (94/300) /content/test.mp4: 736x1280 3 persons, 5 cars, 9.6ms\n",
            "video 1/1 (95/300) /content/test.mp4: 736x1280 3 persons, 5 cars, 9.5ms\n",
            "video 1/1 (96/300) /content/test.mp4: 736x1280 3 persons, 5 cars, 9.5ms\n",
            "video 1/1 (97/300) /content/test.mp4: 736x1280 3 persons, 5 cars, 10.6ms\n",
            "video 1/1 (98/300) /content/test.mp4: 736x1280 3 persons, 5 cars, 9.5ms\n",
            "video 1/1 (99/300) /content/test.mp4: 736x1280 3 persons, 5 cars, 9.5ms\n",
            "video 1/1 (100/300) /content/test.mp4: 736x1280 3 persons, 4 cars, 9.6ms\n",
            "video 1/1 (101/300) /content/test.mp4: 736x1280 3 persons, 4 cars, 9.5ms\n",
            "video 1/1 (102/300) /content/test.mp4: 736x1280 3 persons, 4 cars, 9.4ms\n",
            "video 1/1 (103/300) /content/test.mp4: 736x1280 3 persons, 4 cars, 9.4ms\n",
            "video 1/1 (104/300) /content/test.mp4: 736x1280 3 persons, 4 cars, 9.4ms\n",
            "video 1/1 (105/300) /content/test.mp4: 736x1280 3 persons, 4 cars, 9.4ms\n",
            "video 1/1 (106/300) /content/test.mp4: 736x1280 3 persons, 4 cars, 9.4ms\n",
            "video 1/1 (107/300) /content/test.mp4: 736x1280 3 persons, 4 cars, 9.4ms\n",
            "video 1/1 (108/300) /content/test.mp4: 736x1280 3 persons, 4 cars, 9.6ms\n",
            "video 1/1 (109/300) /content/test.mp4: 736x1280 3 persons, 4 cars, 9.4ms\n",
            "video 1/1 (110/300) /content/test.mp4: 736x1280 3 persons, 4 cars, 9.5ms\n",
            "video 1/1 (111/300) /content/test.mp4: 736x1280 3 persons, 4 cars, 9.5ms\n",
            "video 1/1 (112/300) /content/test.mp4: 736x1280 3 persons, 4 cars, 9.4ms\n",
            "video 1/1 (113/300) /content/test.mp4: 736x1280 3 persons, 4 cars, 9.5ms\n",
            "video 1/1 (114/300) /content/test.mp4: 736x1280 3 persons, 4 cars, 9.4ms\n",
            "video 1/1 (115/300) /content/test.mp4: 736x1280 3 persons, 4 cars, 9.4ms\n",
            "video 1/1 (116/300) /content/test.mp4: 736x1280 3 persons, 4 cars, 9.4ms\n",
            "video 1/1 (117/300) /content/test.mp4: 736x1280 3 persons, 4 cars, 9.5ms\n",
            "video 1/1 (118/300) /content/test.mp4: 736x1280 3 persons, 4 cars, 9.4ms\n",
            "video 1/1 (119/300) /content/test.mp4: 736x1280 3 persons, 4 cars, 9.4ms\n",
            "video 1/1 (120/300) /content/test.mp4: 736x1280 3 persons, 4 cars, 10.0ms\n",
            "video 1/1 (121/300) /content/test.mp4: 736x1280 3 persons, 4 cars, 9.4ms\n",
            "video 1/1 (122/300) /content/test.mp4: 736x1280 3 persons, 4 cars, 9.5ms\n",
            "video 1/1 (123/300) /content/test.mp4: 736x1280 3 persons, 4 cars, 9.4ms\n",
            "video 1/1 (124/300) /content/test.mp4: 736x1280 3 persons, 4 cars, 9.4ms\n",
            "video 1/1 (125/300) /content/test.mp4: 736x1280 3 persons, 4 cars, 9.3ms\n",
            "video 1/1 (126/300) /content/test.mp4: 736x1280 3 persons, 4 cars, 9.3ms\n",
            "video 1/1 (127/300) /content/test.mp4: 736x1280 3 persons, 4 cars, 9.3ms\n",
            "video 1/1 (128/300) /content/test.mp4: 736x1280 3 persons, 4 cars, 9.3ms\n",
            "video 1/1 (129/300) /content/test.mp4: 736x1280 3 persons, 4 cars, 9.3ms\n",
            "video 1/1 (130/300) /content/test.mp4: 736x1280 3 persons, 4 cars, 9.3ms\n",
            "video 1/1 (131/300) /content/test.mp4: 736x1280 3 persons, 4 cars, 9.4ms\n",
            "video 1/1 (132/300) /content/test.mp4: 736x1280 3 persons, 4 cars, 9.3ms\n",
            "video 1/1 (133/300) /content/test.mp4: 736x1280 3 persons, 4 cars, 9.3ms\n",
            "video 1/1 (134/300) /content/test.mp4: 736x1280 3 persons, 4 cars, 9.3ms\n",
            "video 1/1 (135/300) /content/test.mp4: 736x1280 3 persons, 4 cars, 9.3ms\n",
            "video 1/1 (136/300) /content/test.mp4: 736x1280 3 persons, 4 cars, 11.6ms\n",
            "video 1/1 (137/300) /content/test.mp4: 736x1280 3 persons, 4 cars, 9.3ms\n",
            "video 1/1 (138/300) /content/test.mp4: 736x1280 3 persons, 4 cars, 9.3ms\n",
            "video 1/1 (139/300) /content/test.mp4: 736x1280 3 persons, 4 cars, 9.3ms\n",
            "video 1/1 (140/300) /content/test.mp4: 736x1280 3 persons, 4 cars, 9.3ms\n",
            "video 1/1 (141/300) /content/test.mp4: 736x1280 3 persons, 4 cars, 9.3ms\n",
            "video 1/1 (142/300) /content/test.mp4: 736x1280 3 persons, 4 cars, 9.3ms\n",
            "video 1/1 (143/300) /content/test.mp4: 736x1280 3 persons, 4 cars, 9.3ms\n",
            "video 1/1 (144/300) /content/test.mp4: 736x1280 3 persons, 4 cars, 9.3ms\n",
            "video 1/1 (145/300) /content/test.mp4: 736x1280 3 persons, 4 cars, 9.3ms\n",
            "video 1/1 (146/300) /content/test.mp4: 736x1280 3 persons, 4 cars, 9.3ms\n",
            "video 1/1 (147/300) /content/test.mp4: 736x1280 3 persons, 4 cars, 9.3ms\n",
            "video 1/1 (148/300) /content/test.mp4: 736x1280 3 persons, 4 cars, 9.3ms\n",
            "video 1/1 (149/300) /content/test.mp4: 736x1280 3 persons, 4 cars, 9.3ms\n",
            "video 1/1 (150/300) /content/test.mp4: 736x1280 3 persons, 4 cars, 9.4ms\n",
            "video 1/1 (151/300) /content/test.mp4: 736x1280 3 persons, 4 cars, 9.4ms\n",
            "video 1/1 (152/300) /content/test.mp4: 736x1280 3 persons, 4 cars, 9.3ms\n",
            "video 1/1 (153/300) /content/test.mp4: 736x1280 3 persons, 4 cars, 9.3ms\n",
            "video 1/1 (154/300) /content/test.mp4: 736x1280 3 persons, 4 cars, 9.3ms\n",
            "video 1/1 (155/300) /content/test.mp4: 736x1280 3 persons, 4 cars, 9.3ms\n",
            "video 1/1 (156/300) /content/test.mp4: 736x1280 3 persons, 4 cars, 10.0ms\n",
            "video 1/1 (157/300) /content/test.mp4: 736x1280 3 persons, 4 cars, 9.3ms\n",
            "video 1/1 (158/300) /content/test.mp4: 736x1280 3 persons, 4 cars, 9.3ms\n",
            "video 1/1 (159/300) /content/test.mp4: 736x1280 3 persons, 4 cars, 9.4ms\n",
            "video 1/1 (160/300) /content/test.mp4: 736x1280 3 persons, 4 cars, 9.3ms\n",
            "video 1/1 (161/300) /content/test.mp4: 736x1280 3 persons, 4 cars, 9.3ms\n",
            "video 1/1 (162/300) /content/test.mp4: 736x1280 3 persons, 4 cars, 9.3ms\n",
            "video 1/1 (163/300) /content/test.mp4: 736x1280 3 persons, 4 cars, 9.3ms\n",
            "video 1/1 (164/300) /content/test.mp4: 736x1280 3 persons, 4 cars, 9.3ms\n",
            "video 1/1 (165/300) /content/test.mp4: 736x1280 3 persons, 4 cars, 9.3ms\n",
            "video 1/1 (166/300) /content/test.mp4: 736x1280 3 persons, 4 cars, 9.3ms\n",
            "video 1/1 (167/300) /content/test.mp4: 736x1280 3 persons, 4 cars, 9.3ms\n",
            "video 1/1 (168/300) /content/test.mp4: 736x1280 3 persons, 4 cars, 9.5ms\n",
            "video 1/1 (169/300) /content/test.mp4: 736x1280 3 persons, 4 cars, 9.5ms\n",
            "video 1/1 (170/300) /content/test.mp4: 736x1280 3 persons, 4 cars, 9.3ms\n",
            "video 1/1 (171/300) /content/test.mp4: 736x1280 3 persons, 4 cars, 9.3ms\n",
            "video 1/1 (172/300) /content/test.mp4: 736x1280 3 persons, 4 cars, 9.3ms\n",
            "video 1/1 (173/300) /content/test.mp4: 736x1280 3 persons, 4 cars, 9.3ms\n",
            "video 1/1 (174/300) /content/test.mp4: 736x1280 3 persons, 4 cars, 9.3ms\n",
            "video 1/1 (175/300) /content/test.mp4: 736x1280 3 persons, 4 cars, 9.4ms\n",
            "video 1/1 (176/300) /content/test.mp4: 736x1280 3 persons, 4 cars, 9.3ms\n",
            "video 1/1 (177/300) /content/test.mp4: 736x1280 3 persons, 4 cars, 9.3ms\n",
            "video 1/1 (178/300) /content/test.mp4: 736x1280 3 persons, 4 cars, 9.3ms\n",
            "video 1/1 (179/300) /content/test.mp4: 736x1280 3 persons, 4 cars, 9.3ms\n",
            "video 1/1 (180/300) /content/test.mp4: 736x1280 3 persons, 4 cars, 9.3ms\n",
            "video 1/1 (181/300) /content/test.mp4: 736x1280 3 persons, 4 cars, 9.3ms\n",
            "video 1/1 (182/300) /content/test.mp4: 736x1280 3 persons, 4 cars, 9.3ms\n",
            "video 1/1 (183/300) /content/test.mp4: 736x1280 3 persons, 4 cars, 9.4ms\n",
            "video 1/1 (184/300) /content/test.mp4: 736x1280 3 persons, 4 cars, 9.3ms\n",
            "video 1/1 (185/300) /content/test.mp4: 736x1280 3 persons, 4 cars, 9.3ms\n",
            "video 1/1 (186/300) /content/test.mp4: 736x1280 3 persons, 4 cars, 9.3ms\n",
            "video 1/1 (187/300) /content/test.mp4: 736x1280 3 persons, 4 cars, 9.3ms\n",
            "video 1/1 (188/300) /content/test.mp4: 736x1280 3 persons, 4 cars, 9.3ms\n",
            "video 1/1 (189/300) /content/test.mp4: 736x1280 3 persons, 4 cars, 13.3ms\n",
            "video 1/1 (190/300) /content/test.mp4: 736x1280 3 persons, 4 cars, 9.3ms\n",
            "video 1/1 (191/300) /content/test.mp4: 736x1280 3 persons, 4 cars, 9.3ms\n",
            "video 1/1 (192/300) /content/test.mp4: 736x1280 3 persons, 4 cars, 9.3ms\n",
            "video 1/1 (193/300) /content/test.mp4: 736x1280 3 persons, 4 cars, 9.3ms\n",
            "video 1/1 (194/300) /content/test.mp4: 736x1280 3 persons, 4 cars, 9.3ms\n",
            "video 1/1 (195/300) /content/test.mp4: 736x1280 3 persons, 4 cars, 9.3ms\n",
            "video 1/1 (196/300) /content/test.mp4: 736x1280 3 persons, 4 cars, 9.3ms\n",
            "video 1/1 (197/300) /content/test.mp4: 736x1280 3 persons, 4 cars, 9.3ms\n",
            "video 1/1 (198/300) /content/test.mp4: 736x1280 3 persons, 4 cars, 9.3ms\n",
            "video 1/1 (199/300) /content/test.mp4: 736x1280 3 persons, 4 cars, 9.4ms\n",
            "video 1/1 (200/300) /content/test.mp4: 736x1280 3 persons, 4 cars, 9.3ms\n",
            "video 1/1 (201/300) /content/test.mp4: 736x1280 3 persons, 4 cars, 9.4ms\n",
            "video 1/1 (202/300) /content/test.mp4: 736x1280 3 persons, 4 cars, 9.4ms\n",
            "video 1/1 (203/300) /content/test.mp4: 736x1280 3 persons, 4 cars, 9.5ms\n",
            "video 1/1 (204/300) /content/test.mp4: 736x1280 3 persons, 4 cars, 9.4ms\n",
            "video 1/1 (205/300) /content/test.mp4: 736x1280 3 persons, 4 cars, 9.4ms\n",
            "video 1/1 (206/300) /content/test.mp4: 736x1280 3 persons, 4 cars, 9.4ms\n",
            "video 1/1 (207/300) /content/test.mp4: 736x1280 3 persons, 4 cars, 9.4ms\n",
            "video 1/1 (208/300) /content/test.mp4: 736x1280 3 persons, 4 cars, 9.4ms\n",
            "video 1/1 (209/300) /content/test.mp4: 736x1280 3 persons, 4 cars, 9.4ms\n",
            "video 1/1 (210/300) /content/test.mp4: 736x1280 3 persons, 4 cars, 9.4ms\n",
            "video 1/1 (211/300) /content/test.mp4: 736x1280 3 persons, 4 cars, 9.4ms\n",
            "video 1/1 (212/300) /content/test.mp4: 736x1280 3 persons, 4 cars, 9.4ms\n",
            "video 1/1 (213/300) /content/test.mp4: 736x1280 3 persons, 4 cars, 9.4ms\n",
            "video 1/1 (214/300) /content/test.mp4: 736x1280 3 persons, 4 cars, 11.9ms\n",
            "video 1/1 (215/300) /content/test.mp4: 736x1280 3 persons, 4 cars, 9.4ms\n",
            "video 1/1 (216/300) /content/test.mp4: 736x1280 3 persons, 4 cars, 9.5ms\n",
            "video 1/1 (217/300) /content/test.mp4: 736x1280 3 persons, 4 cars, 9.5ms\n",
            "video 1/1 (218/300) /content/test.mp4: 736x1280 3 persons, 4 cars, 9.5ms\n",
            "video 1/1 (219/300) /content/test.mp4: 736x1280 3 persons, 4 cars, 9.5ms\n",
            "video 1/1 (220/300) /content/test.mp4: 736x1280 3 persons, 4 cars, 9.5ms\n",
            "video 1/1 (221/300) /content/test.mp4: 736x1280 3 persons, 4 cars, 9.5ms\n",
            "video 1/1 (222/300) /content/test.mp4: 736x1280 3 persons, 4 cars, 9.5ms\n",
            "video 1/1 (223/300) /content/test.mp4: 736x1280 3 persons, 4 cars, 9.5ms\n",
            "video 1/1 (224/300) /content/test.mp4: 736x1280 3 persons, 4 cars, 9.5ms\n",
            "video 1/1 (225/300) /content/test.mp4: 736x1280 3 persons, 4 cars, 9.5ms\n",
            "video 1/1 (226/300) /content/test.mp4: 736x1280 3 persons, 4 cars, 9.5ms\n",
            "video 1/1 (227/300) /content/test.mp4: 736x1280 3 persons, 4 cars, 9.6ms\n",
            "video 1/1 (228/300) /content/test.mp4: 736x1280 3 persons, 4 cars, 10.0ms\n",
            "video 1/1 (229/300) /content/test.mp4: 736x1280 3 persons, 4 cars, 10.0ms\n",
            "video 1/1 (230/300) /content/test.mp4: 736x1280 3 persons, 4 cars, 11.2ms\n",
            "video 1/1 (231/300) /content/test.mp4: 736x1280 3 persons, 4 cars, 9.7ms\n",
            "video 1/1 (232/300) /content/test.mp4: 736x1280 3 persons, 4 cars, 9.7ms\n",
            "video 1/1 (233/300) /content/test.mp4: 736x1280 3 persons, 4 cars, 9.9ms\n",
            "video 1/1 (234/300) /content/test.mp4: 736x1280 3 persons, 4 cars, 9.9ms\n",
            "video 1/1 (235/300) /content/test.mp4: 736x1280 3 persons, 4 cars, 9.7ms\n",
            "video 1/1 (236/300) /content/test.mp4: 736x1280 3 persons, 4 cars, 9.8ms\n",
            "video 1/1 (237/300) /content/test.mp4: 736x1280 3 persons, 4 cars, 11.8ms\n",
            "video 1/1 (238/300) /content/test.mp4: 736x1280 3 persons, 4 cars, 9.8ms\n",
            "video 1/1 (239/300) /content/test.mp4: 736x1280 3 persons, 4 cars, 9.8ms\n",
            "video 1/1 (240/300) /content/test.mp4: 736x1280 3 persons, 4 cars, 9.8ms\n",
            "video 1/1 (241/300) /content/test.mp4: 736x1280 3 persons, 4 cars, 11.0ms\n",
            "video 1/1 (242/300) /content/test.mp4: 736x1280 3 persons, 4 cars, 10.0ms\n",
            "video 1/1 (243/300) /content/test.mp4: 736x1280 3 persons, 4 cars, 10.0ms\n",
            "video 1/1 (244/300) /content/test.mp4: 736x1280 3 persons, 4 cars, 9.9ms\n",
            "video 1/1 (245/300) /content/test.mp4: 736x1280 3 persons, 4 cars, 10.0ms\n",
            "video 1/1 (246/300) /content/test.mp4: 736x1280 3 persons, 4 cars, 9.9ms\n",
            "video 1/1 (247/300) /content/test.mp4: 736x1280 3 persons, 4 cars, 13.0ms\n",
            "video 1/1 (248/300) /content/test.mp4: 736x1280 3 persons, 4 cars, 10.6ms\n",
            "video 1/1 (249/300) /content/test.mp4: 736x1280 3 persons, 4 cars, 10.0ms\n",
            "video 1/1 (250/300) /content/test.mp4: 736x1280 3 persons, 4 cars, 10.1ms\n",
            "video 1/1 (251/300) /content/test.mp4: 736x1280 3 persons, 4 cars, 10.1ms\n",
            "video 1/1 (252/300) /content/test.mp4: 736x1280 3 persons, 4 cars, 10.1ms\n",
            "video 1/1 (253/300) /content/test.mp4: 736x1280 3 persons, 4 cars, 10.0ms\n",
            "video 1/1 (254/300) /content/test.mp4: 736x1280 3 persons, 4 cars, 10.2ms\n",
            "video 1/1 (255/300) /content/test.mp4: 736x1280 3 persons, 4 cars, 10.1ms\n",
            "video 1/1 (256/300) /content/test.mp4: 736x1280 3 persons, 4 cars, 10.2ms\n",
            "video 1/1 (257/300) /content/test.mp4: 736x1280 3 persons, 4 cars, 10.2ms\n",
            "video 1/1 (258/300) /content/test.mp4: 736x1280 3 persons, 4 cars, 10.1ms\n",
            "video 1/1 (259/300) /content/test.mp4: 736x1280 3 persons, 4 cars, 10.3ms\n",
            "video 1/1 (260/300) /content/test.mp4: 736x1280 3 persons, 4 cars, 12.0ms\n",
            "video 1/1 (261/300) /content/test.mp4: 736x1280 3 persons, 4 cars, 10.4ms\n",
            "video 1/1 (262/300) /content/test.mp4: 736x1280 3 persons, 4 cars, 10.4ms\n",
            "video 1/1 (263/300) /content/test.mp4: 736x1280 3 persons, 4 cars, 10.4ms\n",
            "video 1/1 (264/300) /content/test.mp4: 736x1280 3 persons, 4 cars, 10.4ms\n",
            "video 1/1 (265/300) /content/test.mp4: 736x1280 3 persons, 4 cars, 10.4ms\n",
            "video 1/1 (266/300) /content/test.mp4: 736x1280 3 persons, 4 cars, 10.4ms\n",
            "video 1/1 (267/300) /content/test.mp4: 736x1280 3 persons, 4 cars, 10.4ms\n",
            "video 1/1 (268/300) /content/test.mp4: 736x1280 3 persons, 4 cars, 10.4ms\n",
            "video 1/1 (269/300) /content/test.mp4: 736x1280 3 persons, 4 cars, 11.8ms\n",
            "video 1/1 (270/300) /content/test.mp4: 736x1280 3 persons, 4 cars, 10.4ms\n",
            "video 1/1 (271/300) /content/test.mp4: 736x1280 3 persons, 4 cars, 10.4ms\n",
            "video 1/1 (272/300) /content/test.mp4: 736x1280 3 persons, 4 cars, 10.5ms\n",
            "video 1/1 (273/300) /content/test.mp4: 736x1280 3 persons, 4 cars, 10.5ms\n",
            "video 1/1 (274/300) /content/test.mp4: 736x1280 3 persons, 4 cars, 10.5ms\n",
            "video 1/1 (275/300) /content/test.mp4: 736x1280 3 persons, 4 cars, 10.5ms\n",
            "video 1/1 (276/300) /content/test.mp4: 736x1280 3 persons, 4 cars, 10.6ms\n",
            "video 1/1 (277/300) /content/test.mp4: 736x1280 3 persons, 4 cars, 10.9ms\n",
            "video 1/1 (278/300) /content/test.mp4: 736x1280 3 persons, 4 cars, 10.9ms\n",
            "video 1/1 (279/300) /content/test.mp4: 736x1280 3 persons, 4 cars, 12.6ms\n",
            "video 1/1 (280/300) /content/test.mp4: 736x1280 3 persons, 4 cars, 10.6ms\n",
            "video 1/1 (281/300) /content/test.mp4: 736x1280 3 persons, 4 cars, 10.5ms\n",
            "video 1/1 (282/300) /content/test.mp4: 736x1280 3 persons, 4 cars, 10.5ms\n",
            "video 1/1 (283/300) /content/test.mp4: 736x1280 3 persons, 4 cars, 12.1ms\n",
            "video 1/1 (284/300) /content/test.mp4: 736x1280 3 persons, 4 cars, 10.5ms\n",
            "video 1/1 (285/300) /content/test.mp4: 736x1280 3 persons, 4 cars, 10.7ms\n",
            "video 1/1 (286/300) /content/test.mp4: 736x1280 3 persons, 4 cars, 10.7ms\n",
            "video 1/1 (287/300) /content/test.mp4: 736x1280 3 persons, 4 cars, 10.6ms\n",
            "video 1/1 (288/300) /content/test.mp4: 736x1280 3 persons, 4 cars, 10.7ms\n",
            "video 1/1 (289/300) /content/test.mp4: 736x1280 3 persons, 4 cars, 10.6ms\n",
            "video 1/1 (290/300) /content/test.mp4: 736x1280 3 persons, 4 cars, 10.7ms\n",
            "video 1/1 (291/300) /content/test.mp4: 736x1280 3 persons, 4 cars, 10.7ms\n",
            "video 1/1 (292/300) /content/test.mp4: 736x1280 3 persons, 4 cars, 10.8ms\n",
            "video 1/1 (293/300) /content/test.mp4: 736x1280 3 persons, 4 cars, 10.7ms\n",
            "video 1/1 (294/300) /content/test.mp4: 736x1280 3 persons, 4 cars, 10.7ms\n",
            "video 1/1 (295/300) /content/test.mp4: 736x1280 3 persons, 4 cars, 10.7ms\n",
            "video 1/1 (296/300) /content/test.mp4: 736x1280 3 persons, 4 cars, 10.7ms\n",
            "video 1/1 (297/300) /content/test.mp4: 736x1280 3 persons, 4 cars, 12.2ms\n",
            "video 1/1 (298/300) /content/test.mp4: 736x1280 3 persons, 4 cars, 10.9ms\n",
            "video 1/1 (299/300) /content/test.mp4: 736x1280 3 persons, 4 cars, 12.6ms\n",
            "video 1/1 (300/300) /content/test.mp4: 736x1280 3 persons, 4 cars, 11.6ms\n",
            "Speed: 5.2ms preprocess, 10.4ms inference, 2.0ms postprocess per image at shape (1, 3, 736, 1280)\n",
            "Results saved to \u001b[1mruns/detect/track\u001b[0m\n",
            "300 labels saved to runs/detect/track/labels\n"
          ]
        }
      ]
    },
    {
      "cell_type": "code",
      "source": [
        "# frame 1 detections as .txt file(s)\n",
        "!cat runs/detect/track/labels/test_1.txt"
      ],
      "metadata": {
        "colab": {
          "base_uri": "https://localhost:8080/"
        },
        "id": "RH5nzjL0qgrV",
        "outputId": "047bf9e4-4039-493c-b2be-05ea91596765"
      },
      "execution_count": 17,
      "outputs": [
        {
          "output_type": "stream",
          "name": "stdout",
          "text": [
            "2 0.137419 0.553092 0.0945308 0.0548357 1\n",
            "2 0.763876 0.478838 0.0469688 0.0366087 2\n",
            "2 0.123751 0.511463 0.0826546 0.044233 3\n",
            "2 0.567661 0.733765 0.111929 0.0792986 4\n",
            "0 0.232489 0.761387 0.019395 0.080564 5\n",
            "0 0.581185 0.575837 0.0138645 0.05707 6\n",
            "2 0.751597 0.962718 0.090546 0.0741219 7\n",
            "0 0.909582 0.944357 0.0208885 0.095949 8\n"
          ]
        }
      ]
    },
    {
      "cell_type": "markdown",
      "source": [
        "ultralytics.yolo.engine.results.Boxes attribute formats:\n",
        "- Boxes.boxes, Boxes.data use [xmin, ymin, xmax, ymax, track_id, conf, class]\n",
        "- xywh, xywhn use [xmid, ymid, w, h]\n",
        "- xyxy, xyxyn use [xmin, ymin, xmax, ymax]"
      ],
      "metadata": {
        "id": "JKd-pqhYqs6M"
      }
    },
    {
      "cell_type": "code",
      "source": [],
      "metadata": {
        "id": "SPA2IjyeqmmG"
      },
      "execution_count": null,
      "outputs": []
    }
  ]
}