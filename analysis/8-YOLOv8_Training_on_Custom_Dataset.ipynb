{
 "cells": [
  {
   "cell_type": "markdown",
   "id": "accabdb9",
   "metadata": {},
   "source": [
    "# YOLOv8 Training on Custom Dataset"
   ]
  },
  {
   "cell_type": "markdown",
   "id": "76d53548",
   "metadata": {},
   "source": [
    "## Create the Dataset"
   ]
  },
  {
   "cell_type": "code",
   "execution_count": 43,
   "id": "f7ef4604",
   "metadata": {},
   "outputs": [],
   "source": [
    "import yaml\n",
    "import numpy as np\n",
    "import pandas as pd\n",
    "import os\n",
    "import cv2"
   ]
  },
  {
   "cell_type": "code",
   "execution_count": 1,
   "id": "61cd9cf2",
   "metadata": {},
   "outputs": [
    {
     "name": "stdout",
     "output_type": "stream",
     "text": [
      "open the pod bay doors, hal\n"
     ]
    }
   ],
   "source": [
    "print('open the pod bay doors, hal')"
   ]
  },
  {
   "cell_type": "markdown",
   "id": "58c0b233",
   "metadata": {},
   "source": [
    "### Get File Names of geom.yml and types.yml annotation files from train and validate folders\n",
    "* `diva_train_path`\n",
    "    - `train_files`\n",
    "* `diva_valid_path`\n",
    "    - `valid_files`"
   ]
  },
  {
   "cell_type": "code",
   "execution_count": 19,
   "id": "5dd58fea",
   "metadata": {
    "scrolled": true
   },
   "outputs": [
    {
     "data": {
      "text/plain": [
       "[('VIRAT_S_000000.geom.yml', 'VIRAT_S_000000.types.yml'),\n",
       " ('VIRAT_S_000001.geom.yml', 'VIRAT_S_000001.types.yml'),\n",
       " ('VIRAT_S_000002.geom.yml', 'VIRAT_S_000002.types.yml'),\n",
       " ('VIRAT_S_000005.geom.yml', 'VIRAT_S_000005.types.yml'),\n",
       " ('VIRAT_S_000200_03_000657_000899.geom.yml',\n",
       "  'VIRAT_S_000200_03_000657_000899.types.yml'),\n",
       " ('VIRAT_S_000200_05_001525_001575.geom.yml',\n",
       "  'VIRAT_S_000200_05_001525_001575.types.yml'),\n",
       " ('VIRAT_S_000201_03_000640_000672.geom.yml',\n",
       "  'VIRAT_S_000201_03_000640_000672.types.yml'),\n",
       " ('VIRAT_S_000201_05_001081_001215.geom.yml',\n",
       "  'VIRAT_S_000201_05_001081_001215.types.yml'),\n",
       " ('VIRAT_S_000201_06_001354_001397.geom.yml',\n",
       "  'VIRAT_S_000201_06_001354_001397.types.yml'),\n",
       " ('VIRAT_S_000201_07_001485_001581.geom.yml',\n",
       "  'VIRAT_S_000201_07_001485_001581.types.yml'),\n",
       " ('VIRAT_S_000201_08_001652_001838.geom.yml',\n",
       "  'VIRAT_S_000201_08_001652_001838.types.yml'),\n",
       " ('VIRAT_S_000202_02_001527_001560.geom.yml',\n",
       "  'VIRAT_S_000202_02_001527_001560.types.yml'),\n",
       " ('VIRAT_S_000202_03_001577_001611.geom.yml',\n",
       "  'VIRAT_S_000202_03_001577_001611.types.yml'),\n",
       " ('VIRAT_S_000202_04_001704_001746.geom.yml',\n",
       "  'VIRAT_S_000202_04_001704_001746.types.yml'),\n",
       " ('VIRAT_S_000203_03_000736_000785.geom.yml',\n",
       "  'VIRAT_S_000203_03_000736_000785.types.yml'),\n",
       " ('VIRAT_S_000203_05_001122_001159.geom.yml',\n",
       "  'VIRAT_S_000203_05_001122_001159.types.yml'),\n",
       " ('VIRAT_S_000203_06_001206_001266.geom.yml',\n",
       "  'VIRAT_S_000203_06_001206_001266.types.yml'),\n",
       " ('VIRAT_S_000203_07_001341_001458.geom.yml',\n",
       "  'VIRAT_S_000203_07_001341_001458.types.yml'),\n",
       " ('VIRAT_S_000204_00_000000_000109.geom.yml',\n",
       "  'VIRAT_S_000204_00_000000_000109.types.yml'),\n",
       " ('VIRAT_S_000204_03_000667_000703.geom.yml',\n",
       "  'VIRAT_S_000204_03_000667_000703.types.yml'),\n",
       " ('VIRAT_S_000204_04_000738_000977.geom.yml',\n",
       "  'VIRAT_S_000204_04_000738_000977.types.yml'),\n",
       " ('VIRAT_S_000204_05_001334_001520.geom.yml',\n",
       "  'VIRAT_S_000204_05_001334_001520.types.yml'),\n",
       " ('VIRAT_S_000205_00_000065_000149.geom.yml',\n",
       "  'VIRAT_S_000205_00_000065_000149.types.yml'),\n",
       " ('VIRAT_S_000205_04_000927_001057.geom.yml',\n",
       "  'VIRAT_S_000205_04_000927_001057.types.yml'),\n",
       " ('VIRAT_S_000205_07_001761_001804.geom.yml',\n",
       "  'VIRAT_S_000205_07_001761_001804.types.yml'),\n",
       " ('VIRAT_S_000206_03_000500_000556.geom.yml',\n",
       "  'VIRAT_S_000206_03_000500_000556.types.yml'),\n",
       " ('VIRAT_S_000206_04_000710_000779.geom.yml',\n",
       "  'VIRAT_S_000206_04_000710_000779.types.yml'),\n",
       " ('VIRAT_S_000206_07_001501_001600.geom.yml',\n",
       "  'VIRAT_S_000206_07_001501_001600.types.yml'),\n",
       " ('VIRAT_S_000207_01_000094_000156.geom.yml',\n",
       "  'VIRAT_S_000207_01_000094_000156.types.yml'),\n",
       " ('VIRAT_S_000207_04_000902_000934.geom.yml',\n",
       "  'VIRAT_S_000207_04_000902_000934.types.yml'),\n",
       " ('VIRAT_S_040000_02_000111_000145.geom.yml',\n",
       "  'VIRAT_S_040000_02_000111_000145.types.yml'),\n",
       " ('VIRAT_S_040000_03_000221_000372.geom.yml',\n",
       "  'VIRAT_S_040000_03_000221_000372.types.yml'),\n",
       " ('VIRAT_S_040000_05_000668_000703.geom.yml',\n",
       "  'VIRAT_S_040000_05_000668_000703.types.yml'),\n",
       " ('VIRAT_S_040001_00_000035_000319.geom.yml',\n",
       "  'VIRAT_S_040001_00_000035_000319.types.yml'),\n",
       " ('VIRAT_S_040001_01_000448_001101.geom.yml',\n",
       "  'VIRAT_S_040001_01_000448_001101.types.yml'),\n",
       " ('VIRAT_S_040001_03_001531_001595.geom.yml',\n",
       "  'VIRAT_S_040001_03_001531_001595.types.yml'),\n",
       " ('VIRAT_S_040002_03_001525_001569.geom.yml',\n",
       "  'VIRAT_S_040002_03_001525_001569.types.yml'),\n",
       " ('VIRAT_S_040003_04_000758_001118.geom.yml',\n",
       "  'VIRAT_S_040003_04_000758_001118.types.yml'),\n",
       " ('VIRAT_S_040003_06_001441_001518.geom.yml',\n",
       "  'VIRAT_S_040003_06_001441_001518.types.yml'),\n",
       " ('VIRAT_S_040004_00_000011_000093.geom.yml',\n",
       "  'VIRAT_S_040004_00_000011_000093.types.yml'),\n",
       " ('VIRAT_S_040005_00_000003_000058.geom.yml',\n",
       "  'VIRAT_S_040005_00_000003_000058.types.yml'),\n",
       " ('VIRAT_S_040005_07_001026_001223.geom.yml',\n",
       "  'VIRAT_S_040005_07_001026_001223.types.yml'),\n",
       " ('VIRAT_S_040100_01_000347_000432.geom.yml',\n",
       "  'VIRAT_S_040100_01_000347_000432.types.yml'),\n",
       " ('VIRAT_S_040101_02_000224_000440.geom.yml',\n",
       "  'VIRAT_S_040101_02_000224_000440.types.yml'),\n",
       " ('VIRAT_S_040101_03_000460_000551.geom.yml',\n",
       "  'VIRAT_S_040101_03_000460_000551.types.yml'),\n",
       " ('VIRAT_S_040101_04_000562_000679.geom.yml',\n",
       "  'VIRAT_S_040101_04_000562_000679.types.yml'),\n",
       " ('VIRAT_S_040102_08_000986_001090.geom.yml',\n",
       "  'VIRAT_S_040102_08_000986_001090.types.yml'),\n",
       " ('VIRAT_S_040102_10_001258_001408.geom.yml',\n",
       "  'VIRAT_S_040102_10_001258_001408.types.yml'),\n",
       " ('VIRAT_S_040102_13_001557_001589.geom.yml',\n",
       "  'VIRAT_S_040102_13_001557_001589.types.yml'),\n",
       " ('VIRAT_S_040103_05_000729_000804.geom.yml',\n",
       "  'VIRAT_S_040103_05_000729_000804.types.yml'),\n",
       " ('VIRAT_S_040103_07_001011_001093.geom.yml',\n",
       "  'VIRAT_S_040103_07_001011_001093.types.yml'),\n",
       " ('VIRAT_S_040103_08_001475_001512.geom.yml',\n",
       "  'VIRAT_S_040103_08_001475_001512.types.yml'),\n",
       " ('VIRAT_S_040104_00_000120_000224.geom.yml',\n",
       "  'VIRAT_S_040104_00_000120_000224.types.yml'),\n",
       " ('VIRAT_S_040104_01_000227_000457.geom.yml',\n",
       "  'VIRAT_S_040104_01_000227_000457.types.yml'),\n",
       " ('VIRAT_S_040104_04_000854_000934.geom.yml',\n",
       "  'VIRAT_S_040104_04_000854_000934.types.yml'),\n",
       " ('VIRAT_S_040104_05_000939_001116.geom.yml',\n",
       "  'VIRAT_S_040104_05_000939_001116.types.yml'),\n",
       " ('VIRAT_S_040104_06_001121_001241.geom.yml',\n",
       "  'VIRAT_S_040104_06_001121_001241.types.yml'),\n",
       " ('VIRAT_S_040104_08_001353_001470.geom.yml',\n",
       "  'VIRAT_S_040104_08_001353_001470.types.yml'),\n",
       " ('VIRAT_S_050000_01_000207_000361.geom.yml',\n",
       "  'VIRAT_S_050000_01_000207_000361.types.yml'),\n",
       " ('VIRAT_S_050000_04_000640_000690.geom.yml',\n",
       "  'VIRAT_S_050000_04_000640_000690.types.yml'),\n",
       " ('VIRAT_S_050000_05_000696_000732.geom.yml',\n",
       "  'VIRAT_S_050000_05_000696_000732.types.yml'),\n",
       " ('VIRAT_S_050000_07_001014_001126.geom.yml',\n",
       "  'VIRAT_S_050000_07_001014_001126.types.yml'),\n",
       " ('VIRAT_S_050000_10_001462_001491.geom.yml',\n",
       "  'VIRAT_S_050000_10_001462_001491.types.yml'),\n",
       " ('VIRAT_S_050000_12_001591_001619.geom.yml',\n",
       "  'VIRAT_S_050000_12_001591_001619.types.yml')]"
      ]
     },
     "execution_count": 19,
     "metadata": {},
     "output_type": "execute_result"
    }
   ],
   "source": [
    "# get diva annotation files from training folder\n",
    "diva_train_path = '/Users/p/Documents/Code/VIRAT/VIRAT_Ground_Dataset/diva_annotations/train'\n",
    "train_dir = os.listdir(diva_train_path)\n",
    "keep_these = {\".geom\", \"types\"}\n",
    "train_geom_types = sorted([item for item in train_dir if item[-9:-4] in keep_these])\n",
    "train_files = list(zip(train_geom_types[::2], train_geom_types[1::2]))\n",
    "train_files"
   ]
  },
  {
   "cell_type": "code",
   "execution_count": 21,
   "id": "167a4ca6",
   "metadata": {},
   "outputs": [
    {
     "data": {
      "text/plain": [
       "64"
      ]
     },
     "execution_count": 21,
     "metadata": {},
     "output_type": "execute_result"
    }
   ],
   "source": [
    "len(train_files)"
   ]
  },
  {
   "cell_type": "code",
   "execution_count": 20,
   "id": "c5167127",
   "metadata": {
    "scrolled": true
   },
   "outputs": [
    {
     "data": {
      "text/plain": [
       "[('VIRAT_S_000007.geom.yml', 'VIRAT_S_000007.types.yml'),\n",
       " ('VIRAT_S_000008.geom.yml', 'VIRAT_S_000008.types.yml'),\n",
       " ('VIRAT_S_000200_00_000100_000171.geom.yml',\n",
       "  'VIRAT_S_000200_00_000100_000171.types.yml'),\n",
       " ('VIRAT_S_000200_02_000479_000635.geom.yml',\n",
       "  'VIRAT_S_000200_02_000479_000635.types.yml'),\n",
       " ('VIRAT_S_000201_00_000018_000380.geom.yml',\n",
       "  'VIRAT_S_000201_00_000018_000380.types.yml'),\n",
       " ('VIRAT_S_000201_01_000384_000589.geom.yml',\n",
       "  'VIRAT_S_000201_01_000384_000589.types.yml'),\n",
       " ('VIRAT_S_000201_02_000590_000623.geom.yml',\n",
       "  'VIRAT_S_000201_02_000590_000623.types.yml'),\n",
       " ('VIRAT_S_000201_04_000682_000822.geom.yml',\n",
       "  'VIRAT_S_000201_04_000682_000822.types.yml'),\n",
       " ('VIRAT_S_000203_01_000171_000345.geom.yml',\n",
       "  'VIRAT_S_000203_01_000171_000345.types.yml'),\n",
       " ('VIRAT_S_000203_08_001702_001734.geom.yml',\n",
       "  'VIRAT_S_000203_08_001702_001734.types.yml'),\n",
       " ('VIRAT_S_000204_07_001577_001611.geom.yml',\n",
       "  'VIRAT_S_000204_07_001577_001611.types.yml'),\n",
       " ('VIRAT_S_000204_09_001768_001849.geom.yml',\n",
       "  'VIRAT_S_000204_09_001768_001849.types.yml'),\n",
       " ('VIRAT_S_000205_01_000197_000342.geom.yml',\n",
       "  'VIRAT_S_000205_01_000197_000342.types.yml'),\n",
       " ('VIRAT_S_000205_02_000409_000566.geom.yml',\n",
       "  'VIRAT_S_000205_02_000409_000566.types.yml'),\n",
       " ('VIRAT_S_000205_03_000860_000922.geom.yml',\n",
       "  'VIRAT_S_000205_03_000860_000922.types.yml'),\n",
       " ('VIRAT_S_000205_05_001092_001124.geom.yml',\n",
       "  'VIRAT_S_000205_05_001092_001124.types.yml'),\n",
       " ('VIRAT_S_000205_06_001566_001631.geom.yml',\n",
       "  'VIRAT_S_000205_06_001566_001631.types.yml'),\n",
       " ('VIRAT_S_000206_00_000025_000058.geom.yml',\n",
       "  'VIRAT_S_000206_00_000025_000058.types.yml'),\n",
       " ('VIRAT_S_000206_01_000148_000184.geom.yml',\n",
       "  'VIRAT_S_000206_01_000148_000184.types.yml'),\n",
       " ('VIRAT_S_000206_02_000294_000327.geom.yml',\n",
       "  'VIRAT_S_000206_02_000294_000327.types.yml'),\n",
       " ('VIRAT_S_000206_08_001618_001712.geom.yml',\n",
       "  'VIRAT_S_000206_08_001618_001712.types.yml'),\n",
       " ('VIRAT_S_000207_02_000498_000530.geom.yml',\n",
       "  'VIRAT_S_000207_02_000498_000530.types.yml'),\n",
       " ('VIRAT_S_000207_03_000556_000590.geom.yml',\n",
       "  'VIRAT_S_000207_03_000556_000590.types.yml'),\n",
       " ('VIRAT_S_040000_00_000000_000036.geom.yml',\n",
       "  'VIRAT_S_040000_00_000000_000036.types.yml'),\n",
       " ('VIRAT_S_040000_01_000042_000099.geom.yml',\n",
       "  'VIRAT_S_040000_01_000042_000099.types.yml'),\n",
       " ('VIRAT_S_040000_04_000532_000622.geom.yml',\n",
       "  'VIRAT_S_040000_04_000532_000622.types.yml'),\n",
       " ('VIRAT_S_040000_08_001084_001190.geom.yml',\n",
       "  'VIRAT_S_040000_08_001084_001190.types.yml'),\n",
       " ('VIRAT_S_040000_09_001194_001574.geom.yml',\n",
       "  'VIRAT_S_040000_09_001194_001574.types.yml'),\n",
       " ('VIRAT_S_040003_00_000000_000072.geom.yml',\n",
       "  'VIRAT_S_040003_00_000000_000072.types.yml'),\n",
       " ('VIRAT_S_040003_01_000083_000193.geom.yml',\n",
       "  'VIRAT_S_040003_01_000083_000193.types.yml'),\n",
       " ('VIRAT_S_040003_02_000197_000552.geom.yml',\n",
       "  'VIRAT_S_040003_02_000197_000552.types.yml'),\n",
       " ('VIRAT_S_040005_06_000886_001016.geom.yml',\n",
       "  'VIRAT_S_040005_06_000886_001016.types.yml'),\n",
       " ('VIRAT_S_040005_08_001225_001276.geom.yml',\n",
       "  'VIRAT_S_040005_08_001225_001276.types.yml'),\n",
       " ('VIRAT_S_040100_03_000496_000559.geom.yml',\n",
       "  'VIRAT_S_040100_03_000496_000559.types.yml'),\n",
       " ('VIRAT_S_040100_04_000626_000689.geom.yml',\n",
       "  'VIRAT_S_040100_04_000626_000689.types.yml'),\n",
       " ('VIRAT_S_040100_05_000696_000762.geom.yml',\n",
       "  'VIRAT_S_040100_05_000696_000762.types.yml'),\n",
       " ('VIRAT_S_040100_06_000767_000988.geom.yml',\n",
       "  'VIRAT_S_040100_06_000767_000988.types.yml'),\n",
       " ('VIRAT_S_040100_07_001043_001099.geom.yml',\n",
       "  'VIRAT_S_040100_07_001043_001099.types.yml'),\n",
       " ('VIRAT_S_040100_08_001103_001181.geom.yml',\n",
       "  'VIRAT_S_040100_08_001103_001181.types.yml'),\n",
       " ('VIRAT_S_040100_09_001186_001533.geom.yml',\n",
       "  'VIRAT_S_040100_09_001186_001533.types.yml'),\n",
       " ('VIRAT_S_040101_05_000722_001547.geom.yml',\n",
       "  'VIRAT_S_040101_05_000722_001547.types.yml'),\n",
       " ('VIRAT_S_040101_06_001557_001590.geom.yml',\n",
       "  'VIRAT_S_040101_06_001557_001590.types.yml'),\n",
       " ('VIRAT_S_040102_04_000596_000689.geom.yml',\n",
       "  'VIRAT_S_040102_04_000596_000689.types.yml'),\n",
       " ('VIRAT_S_040102_06_000849_000908.geom.yml',\n",
       "  'VIRAT_S_040102_06_000849_000908.types.yml'),\n",
       " ('VIRAT_S_040102_07_000916_000983.geom.yml',\n",
       "  'VIRAT_S_040102_07_000916_000983.types.yml'),\n",
       " ('VIRAT_S_040103_00_000000_000120.geom.yml',\n",
       "  'VIRAT_S_040103_00_000000_000120.types.yml'),\n",
       " ('VIRAT_S_040103_01_000132_000195.geom.yml',\n",
       "  'VIRAT_S_040103_01_000132_000195.types.yml'),\n",
       " ('VIRAT_S_040103_02_000199_000279.geom.yml',\n",
       "  'VIRAT_S_040103_02_000199_000279.types.yml'),\n",
       " ('VIRAT_S_040103_03_000284_000425.geom.yml',\n",
       "  'VIRAT_S_040103_03_000284_000425.types.yml'),\n",
       " ('VIRAT_S_040103_06_000836_000909.geom.yml',\n",
       "  'VIRAT_S_040103_06_000836_000909.types.yml'),\n",
       " ('VIRAT_S_040104_07_001268_001348.geom.yml',\n",
       "  'VIRAT_S_040104_07_001268_001348.types.yml'),\n",
       " ('VIRAT_S_050000_06_000908_000970.geom.yml',\n",
       "  'VIRAT_S_050000_06_000908_000970.types.yml'),\n",
       " ('VIRAT_S_050000_08_001235_001295.geom.yml',\n",
       "  'VIRAT_S_050000_08_001235_001295.types.yml'),\n",
       " ('VIRAT_S_050000_09_001310_001373.geom.yml',\n",
       "  'VIRAT_S_050000_09_001310_001373.types.yml'),\n",
       " ('VIRAT_S_050000_11_001530_001576.geom.yml',\n",
       "  'VIRAT_S_050000_11_001530_001576.types.yml')]"
      ]
     },
     "execution_count": 20,
     "metadata": {},
     "output_type": "execute_result"
    }
   ],
   "source": [
    "# get diva annotation files from validation folder\n",
    "diva_validate_path = '/Users/p/Documents/Code/VIRAT/VIRAT_Ground_Dataset/diva_annotations/validate'\n",
    "valid_dir = os.listdir(diva_validate_path)\n",
    "keep_these = {\".geom\", \"types\"}\n",
    "valid_geom_types = sorted([item for item in valid_dir if item[-9:-4] in keep_these])\n",
    "valid_files = list(zip(valid_geom_types[::2], valid_geom_types[1::2]))\n",
    "valid_files"
   ]
  },
  {
   "cell_type": "code",
   "execution_count": 22,
   "id": "5846604f",
   "metadata": {},
   "outputs": [
    {
     "data": {
      "text/plain": [
       "55"
      ]
     },
     "execution_count": 22,
     "metadata": {},
     "output_type": "execute_result"
    }
   ],
   "source": [
    "len(valid_files)"
   ]
  },
  {
   "cell_type": "markdown",
   "id": "2d33eeda",
   "metadata": {},
   "source": [
    "### Take a sample of the Train and Validate files for data extraction\n",
    "- 30 from Train\n",
    "- 10 from Validate"
   ]
  },
  {
   "cell_type": "code",
   "execution_count": 26,
   "id": "53406387",
   "metadata": {},
   "outputs": [],
   "source": [
    "import random\n",
    "random.seed(40)\n",
    "\n",
    "train_sample = sorted(random.sample(train_files, 30))\n",
    "valid_sample = sorted(random.sample(valid_files, 10))"
   ]
  },
  {
   "cell_type": "code",
   "execution_count": 29,
   "id": "8ba055ff",
   "metadata": {
    "scrolled": true
   },
   "outputs": [
    {
     "data": {
      "text/plain": [
       "30"
      ]
     },
     "execution_count": 29,
     "metadata": {},
     "output_type": "execute_result"
    }
   ],
   "source": [
    "len(train_sample)"
   ]
  },
  {
   "cell_type": "code",
   "execution_count": 30,
   "id": "3d3f415e",
   "metadata": {
    "scrolled": true
   },
   "outputs": [
    {
     "data": {
      "text/plain": [
       "10"
      ]
     },
     "execution_count": 30,
     "metadata": {},
     "output_type": "execute_result"
    }
   ],
   "source": [
    "len(valid_sample)"
   ]
  },
  {
   "cell_type": "markdown",
   "id": "432d9349",
   "metadata": {},
   "source": [
    "### Match Annotation Files to Video Files\n",
    "* `train_sample` <--> `train_videos`\n",
    "* `valid_sample` <--> `valid_videos`"
   ]
  },
  {
   "cell_type": "code",
   "execution_count": 34,
   "id": "aed2cd87",
   "metadata": {
    "scrolled": true
   },
   "outputs": [
    {
     "data": {
      "text/plain": [
       "30"
      ]
     },
     "execution_count": 34,
     "metadata": {},
     "output_type": "execute_result"
    }
   ],
   "source": [
    "train_videos = []\n",
    "\n",
    "for i in range(len(train_sample)):\n",
    "    this_file = train_sample[i][0].split('.')[0]\n",
    "    this_file += '.mp4'\n",
    "    train_videos.append(this_file)\n",
    "len(train_videos)"
   ]
  },
  {
   "cell_type": "code",
   "execution_count": 36,
   "id": "80858f0a",
   "metadata": {},
   "outputs": [
    {
     "name": "stdout",
     "output_type": "stream",
     "text": [
      "VIRAT_S_050000_01_000207_000361.geom.yml\n",
      "VIRAT_S_050000_01_000207_000361.mp4\n"
     ]
    }
   ],
   "source": [
    "print(train_sample[27][0])\n",
    "print(train_videos[27])"
   ]
  },
  {
   "cell_type": "code",
   "execution_count": 35,
   "id": "4eda82f9",
   "metadata": {},
   "outputs": [
    {
     "data": {
      "text/plain": [
       "10"
      ]
     },
     "execution_count": 35,
     "metadata": {},
     "output_type": "execute_result"
    }
   ],
   "source": [
    "valid_videos = []\n",
    "\n",
    "for i in range(len(valid_sample)):\n",
    "    this_file = valid_sample[i][0].split('.')[0]\n",
    "    this_file += '.mp4'\n",
    "    valid_videos.append(this_file)\n",
    "len(valid_videos)"
   ]
  },
  {
   "cell_type": "code",
   "execution_count": 37,
   "id": "9deb69b4",
   "metadata": {},
   "outputs": [
    {
     "name": "stdout",
     "output_type": "stream",
     "text": [
      "VIRAT_S_000206_08_001618_001712.types.yml\n",
      "VIRAT_S_000206_08_001618_001712.mp4\n"
     ]
    }
   ],
   "source": [
    "print(valid_sample[3][1])\n",
    "print(valid_videos[3])"
   ]
  },
  {
   "cell_type": "markdown",
   "id": "b1f185cc",
   "metadata": {},
   "source": [
    "### Grab the Track_ID of one person in the Training Set"
   ]
  },
  {
   "cell_type": "code",
   "execution_count": null,
   "id": "b55dc49a",
   "metadata": {},
   "outputs": [],
   "source": [
    "%%time\n",
    "# geom\n",
    "geom_path = diva_train_path + '/' + train_sample[0][0]\n",
    "with open(geom_path, 'r') as file:\n",
    "    geom = yaml.safe_load(file)\n",
    "\n",
    "# types\n",
    "types_path = diva_train_path + '/' + train_sample[0][1]\n",
    "with open(types_path, 'r') as file:\n",
    "    types = yaml.safe_load(file)"
   ]
  },
  {
   "cell_type": "code",
   "execution_count": null,
   "id": "273fed76",
   "metadata": {},
   "outputs": [],
   "source": []
  }
 ],
 "metadata": {
  "kernelspec": {
   "display_name": "virat3.10",
   "language": "python",
   "name": "virat3.10"
  },
  "language_info": {
   "codemirror_mode": {
    "name": "ipython",
    "version": 3
   },
   "file_extension": ".py",
   "mimetype": "text/x-python",
   "name": "python",
   "nbconvert_exporter": "python",
   "pygments_lexer": "ipython3",
   "version": "3.10.11"
  }
 },
 "nbformat": 4,
 "nbformat_minor": 5
}
