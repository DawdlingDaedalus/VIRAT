{
 "cells": [
  {
   "cell_type": "code",
   "execution_count": 1,
   "id": "c4ee26ff",
   "metadata": {},
   "outputs": [
    {
     "name": "stdout",
     "output_type": "stream",
     "text": [
      "open the pod bay doors, hal\n"
     ]
    }
   ],
   "source": [
    "print('open the pod bay doors, hal')"
   ]
  },
  {
   "cell_type": "code",
   "execution_count": null,
   "id": "b138e8c6",
   "metadata": {},
   "outputs": [],
   "source": []
  }
 ],
 "metadata": {
  "kernelspec": {
   "display_name": "virat3.10",
   "language": "python",
   "name": "virat3.10"
  },
  "language_info": {
   "codemirror_mode": {
    "name": "ipython",
    "version": 3
   },
   "file_extension": ".py",
   "mimetype": "text/x-python",
   "name": "python",
   "nbconvert_exporter": "python",
   "pygments_lexer": "ipython3",
   "version": "3.10.11"
  }
 },
 "nbformat": 4,
 "nbformat_minor": 5
}
