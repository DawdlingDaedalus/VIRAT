{
 "cells": [
  {
   "cell_type": "code",
   "execution_count": 1,
   "id": "972fdbb8",
   "metadata": {},
   "outputs": [
    {
     "name": "stdout",
     "output_type": "stream",
     "text": [
      "open the pod bay doors, Hal.\n"
     ]
    }
   ],
   "source": [
    "print('open the pod bay doors, Hal.')"
   ]
  },
  {
   "cell_type": "markdown",
   "id": "432c7651",
   "metadata": {},
   "source": [
    "### 05/23/2023"
   ]
  },
  {
   "cell_type": "markdown",
   "id": "6cfe6d67",
   "metadata": {},
   "source": [
    "# goals for today:\n",
    "- "
   ]
  }
 ],
 "metadata": {
  "kernelspec": {
   "display_name": "virat",
   "language": "python",
   "name": "virat"
  },
  "language_info": {
   "codemirror_mode": {
    "name": "ipython",
    "version": 3
   },
   "file_extension": ".py",
   "mimetype": "text/x-python",
   "name": "python",
   "nbconvert_exporter": "python",
   "pygments_lexer": "ipython3",
   "version": "3.11.2"
  }
 },
 "nbformat": 4,
 "nbformat_minor": 5
}
