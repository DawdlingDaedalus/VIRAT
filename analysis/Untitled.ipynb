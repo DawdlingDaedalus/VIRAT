{
 "cells": [
  {
   "cell_type": "code",
   "execution_count": 1,
   "id": "1da96283",
   "metadata": {},
   "outputs": [
    {
     "name": "stdout",
     "output_type": "stream",
     "text": [
      "open the pod bay doors\n"
     ]
    }
   ],
   "source": [
    "print('open the pod bay doors')"
   ]
  },
  {
   "cell_type": "markdown",
   "id": "231c56b8",
   "metadata": {},
   "source": [
    "# Extract all frames from first video for YOLOv7 detection"
   ]
  },
  {
   "cell_type": "code",
   "execution_count": 7,
   "id": "edca786b",
   "metadata": {},
   "outputs": [],
   "source": [
    "import pandas as pd\n",
    "import numpy as np\n",
    "import cv2\n",
    "import time\n",
    "import os\n",
    "import random\n",
    "import yaml"
   ]
  },
  {
   "cell_type": "code",
   "execution_count": 2,
   "id": "049169c0",
   "metadata": {},
   "outputs": [],
   "source": [
    "# from EDA_04_29_23.ipynb\n",
    "\n",
    "# Write .jpg images with bounding boxes for each person in video\n",
    "\n",
    "def get_images_of_objects(video_path, object_path, color=(0, 255, 0), thickness=2):\n",
    "    '''takes video path and object path,\n",
    "    writes .jpg files for each person (Object_Type=1) in video\n",
    "    with bounding box.\n",
    "    Uses first frame which the person appears in'''\n",
    "    \n",
    "    # create parent folder for images\n",
    "    loc = '/Users/p/Documents/Code/VIRAT/VIRAT Ground Dataset/people_images/'\n",
    "    folder = loc + video_path.split('.')[0]\n",
    "    if not os.path.exists(folder):\n",
    "        os.mkdir(folder)\n",
    "    if object_path == None:\n",
    "        return\n",
    "    \n",
    "    # get df\n",
    "    loc = '/Users/p/Documents/Code/VIRAT/VIRAT Ground Dataset/annotations/'\n",
    "    full_object_path = loc + object_path\n",
    "    df = pd.read_csv(full_object_path, sep=\" \", names=object_columns, index_col=False)\n",
    "    \n",
    "    # get Object_IDs for all people\n",
    "    obj_type = 1 # <-- change the object type if you want to see other objects (not people)\n",
    "    people_ids = df[df['Object_Type'] == obj_type]['Object_ID'].unique()\n",
    "    \n",
    "    # loop through all people\n",
    "    ppl_count = 0\n",
    "    for obj_id in people_ids:\n",
    "        ppl_count +=1\n",
    "        # get index of first frame of object\n",
    "        idx = pd.DataFrame(df[df['Object_ID'] == obj_id].iloc[0]).T.index.values[0]\n",
    "\n",
    "        # Get Bounding Box coordinates\n",
    "        x_min = df['bbox_lefttop_x'][idx]\n",
    "        y_min = df['bbox_lefttop_y'][idx]\n",
    "        x_max = df['bbox_lefttop_x'][idx] + df['bbox_width'][idx]\n",
    "        y_max = df['bbox_lefttop_y'][idx] + df['bbox_height'][idx]\n",
    "\n",
    "        # load video\n",
    "        loc = '/Users/p/Documents/Code/VIRAT/VIRAT Ground Dataset/videos_original/'\n",
    "        full_video_path = loc + video_path\n",
    "        cap = cv2.VideoCapture(full_video_path)\n",
    "        \n",
    "        # set frame position\n",
    "        frame_index = df.iloc[idx]['Current_Frame']\n",
    "        cap.set(cv2.CAP_PROP_POS_FRAMES, frame_index)\n",
    "        \n",
    "        # read frame\n",
    "        success, frame = cap.read()\n",
    "        if not success:\n",
    "            print(\"Failed to read the frame\")\n",
    "            return\n",
    "        if success:\n",
    "            # draw bounding box on the frame\n",
    "            cv2.rectangle(frame, (x_min, y_min), (x_max, y_max), color, thickness)\n",
    "            \n",
    "            # write frame to .jpg and store in parent folder\n",
    "            filepath = folder + '/' + str(obj_id) + '.jpg'\n",
    "            cv2.imwrite(filepath, frame)\n",
    "        \n",
    "        # end capture\n",
    "        cap.release()\n",
    "    print(video_path, ' has:\\t', ppl_count, 'people')"
   ]
  },
  {
   "cell_type": "code",
   "execution_count": null,
   "id": "19f164e7",
   "metadata": {},
   "outputs": [],
   "source": [
    "# Modified for this usage:\n",
    "\n"
   ]
  },
  {
   "cell_type": "code",
   "execution_count": 3,
   "id": "5b79e717",
   "metadata": {},
   "outputs": [],
   "source": [
    "video_path = \"/Users/p/Documents/Code/VIRAT/VIRAT Ground Dataset/videos_original/VIRAT_S_000001.mp4\""
   ]
  },
  {
   "cell_type": "code",
   "execution_count": 10,
   "id": "902f197c",
   "metadata": {},
   "outputs": [],
   "source": [
    "# write every frame of video_path to a .jpg\n",
    "\n",
    "# read video\n",
    "cap = cv2.VideoCapture(video_path)\n",
    "frame_number = 1  # initialize frame number\n",
    "\n",
    "# create dir to store .jpgs\n",
    "output_dir = '/Users/p/Documents/Code/VIRAT/VIRAT Ground Dataset/vid_as_frames/VIRAT_S_000001'\n",
    "if not os.path.exists(output_dir):\n",
    "    os.mkdir(output_dir)\n",
    "\n",
    "# Loop through the frames\n",
    "while True:\n",
    "    ret, frame = cap.read()\n",
    "    if not ret:\n",
    "        break\n",
    "\n",
    "    filename = f\"frame_{frame_number}.jpg\"  # Generate the filename for the current frame\n",
    "    output_path = os.path.join(output_dir, filename)  # generate full path\n",
    "    cv2.imwrite(output_path, frame)  # Save the frame as a JPEG file\n",
    "    frame_number += 1  # incrememnt frame_number\n",
    "    \n",
    "cap.release()\n",
    "cv2.destroyAllWindows()\n",
    "cv2.waitKey(1)\n",
    "cv2.waitKey(1)\n",
    "cv2.waitKey(1)\n",
    "cv2.waitKey(1);"
   ]
  },
  {
   "cell_type": "code",
   "execution_count": null,
   "id": "9eacbf39",
   "metadata": {},
   "outputs": [],
   "source": []
  },
  {
   "cell_type": "code",
   "execution_count": null,
   "id": "9ceb1af6",
   "metadata": {},
   "outputs": [],
   "source": []
  },
  {
   "cell_type": "code",
   "execution_count": null,
   "id": "e50f7dda",
   "metadata": {},
   "outputs": [],
   "source": []
  },
  {
   "cell_type": "code",
   "execution_count": null,
   "id": "7ab42a46",
   "metadata": {},
   "outputs": [],
   "source": []
  },
  {
   "cell_type": "code",
   "execution_count": null,
   "id": "9338c042",
   "metadata": {},
   "outputs": [],
   "source": []
  },
  {
   "cell_type": "code",
   "execution_count": null,
   "id": "c01f7ac5",
   "metadata": {},
   "outputs": [],
   "source": []
  },
  {
   "cell_type": "code",
   "execution_count": null,
   "id": "024c269a",
   "metadata": {},
   "outputs": [],
   "source": []
  },
  {
   "cell_type": "code",
   "execution_count": null,
   "id": "7b0c420a",
   "metadata": {},
   "outputs": [],
   "source": []
  },
  {
   "cell_type": "markdown",
   "id": "0edf37f3",
   "metadata": {},
   "source": [
    "## Annotations"
   ]
  },
  {
   "cell_type": "code",
   "execution_count": 6,
   "id": "93866507",
   "metadata": {},
   "outputs": [
    {
     "ename": "NameError",
     "evalue": "name 'yaml' is not defined",
     "output_type": "error",
     "traceback": [
      "\u001b[0;31m---------------------------------------------------------------------------\u001b[0m",
      "\u001b[0;31mNameError\u001b[0m                                 Traceback (most recent call last)",
      "File \u001b[0;32m<timed exec>:3\u001b[0m\n",
      "\u001b[0;31mNameError\u001b[0m: name 'yaml' is not defined"
     ]
    }
   ],
   "source": [
    "%%time\n",
    "file_path = '/Users/p/Documents/Code/VIRAT/VIRAT Ground Dataset/diva_annotations/train/VIRAT_S_000001.geom.yml'\n",
    "with open(file_path, 'r') as file:\n",
    "    data = yaml.safe_load(file)"
   ]
  },
  {
   "cell_type": "code",
   "execution_count": null,
   "id": "4bf50500",
   "metadata": {},
   "outputs": [],
   "source": []
  }
 ],
 "metadata": {
  "kernelspec": {
   "display_name": "yolov7",
   "language": "python",
   "name": "yolov7"
  },
  "language_info": {
   "codemirror_mode": {
    "name": "ipython",
    "version": 3
   },
   "file_extension": ".py",
   "mimetype": "text/x-python",
   "name": "python",
   "nbconvert_exporter": "python",
   "pygments_lexer": "ipython3",
   "version": "3.10.11"
  }
 },
 "nbformat": 4,
 "nbformat_minor": 5
}
